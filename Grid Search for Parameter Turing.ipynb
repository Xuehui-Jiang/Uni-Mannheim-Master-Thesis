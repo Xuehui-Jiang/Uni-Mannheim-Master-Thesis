{
 "cells": [
  {
   "cell_type": "code",
   "execution_count": 13,
   "metadata": {},
   "outputs": [],
   "source": [
    "from rdflib import Graph, URIRef, Literal, Namespace\n",
    "import networkx as nx\n",
    "import pandas as pd\n",
    "import time"
   ]
  },
  {
   "cell_type": "code",
   "execution_count": 4,
   "metadata": {},
   "outputs": [],
   "source": [
    "from main import *\n",
    "from sa_helper import *"
   ]
  },
  {
   "cell_type": "code",
   "execution_count": 5,
   "metadata": {},
   "outputs": [
    {
     "data": {
      "text/plain": [
       "<Graph identifier=N8bb28fa8008c4e4fa31ea461380b2ed4 (<class 'rdflib.graph.Graph'>)>"
      ]
     },
     "execution_count": 5,
     "metadata": {},
     "output_type": "execute_result"
    }
   ],
   "source": [
    "# Load the graph from the input file\n",
    "graph = Graph()\n",
    "graph.parse('aifb_fixed_complete.nt', format=\"nt\") #graph.parse(input_file, format=format)"
   ]
  },
  {
   "cell_type": "code",
   "execution_count": 6,
   "metadata": {},
   "outputs": [],
   "source": [
    "G = nx.DiGraph()  # Create a directed graph\n",
    "\n",
    "for s, p, o in graph:\n",
    "    G.add_edge(s, o, predicate=p)"
   ]
  },
  {
   "cell_type": "code",
   "execution_count": 7,
   "metadata": {},
   "outputs": [],
   "source": [
    "# Count the neighbor node number for each nodes in the graph\n",
    "neighbor_counts = {node: len(list(G.neighbors(node))) for node in G.nodes()}"
   ]
  },
  {
   "cell_type": "markdown",
   "metadata": {},
   "source": [
    "### Select seed nodes"
   ]
  },
  {
   "cell_type": "code",
   "execution_count": 8,
   "metadata": {},
   "outputs": [],
   "source": [
    "# load training and testing entities\n",
    "train_df = pd.read_csv('trainingSet.tsv', sep='\\t')\n",
    "test_df = pd.read_csv('testSet.tsv', sep='\\t')\n",
    "complete_df = pd.read_csv('completeDataset.tsv', sep='\\t')\n",
    "\n",
    "train_seed_entities = train_df['person'].tolist() \n",
    "test_seed_entities = test_df['person'].tolist()\n",
    "complete_seed_entities = complete_df['person'].tolist()"
   ]
  },
  {
   "cell_type": "markdown",
   "metadata": {},
   "source": [
    "### Confirm all entities from complete_seed_entities exist in the loaded RDF graph AIFB"
   ]
  },
  {
   "cell_type": "code",
   "execution_count": 10,
   "metadata": {},
   "outputs": [],
   "source": [
    "for e in complete_seed_entities:\n",
    "    found = False\n",
    "    for node in G.nodes():\n",
    "        if node==URIRef(e):\n",
    "            found = True\n",
    "    if not found:\n",
    "        print(e)"
   ]
  },
  {
   "cell_type": "markdown",
   "metadata": {},
   "source": [
    "## The property of the AIFB"
   ]
  },
  {
   "cell_type": "code",
   "execution_count": 26,
   "metadata": {},
   "outputs": [
    {
     "name": "stdout",
     "output_type": "stream",
     "text": [
      "AIFB has 8285 nodes and 29146 edges.\n"
     ]
    }
   ],
   "source": [
    "#Exhibihate the size of subgraph：The number of nodes and edges in the subgraph.\n",
    "num_nodes = len(G.nodes())\n",
    "num_edges = len(G.edges())\n",
    "print(\"AIFB has \" + str(num_nodes) + \" nodes and \" + str(num_edges) + \" edges.\")"
   ]
  },
  {
   "cell_type": "code",
   "execution_count": 7,
   "metadata": {},
   "outputs": [
    {
     "name": "stdout",
     "output_type": "stream",
     "text": [
      "The density of AIFB is 0.0004246648912315282\n"
     ]
    }
   ],
   "source": [
    "#Exhibihate the density of subgraph: The ratio of the number of edges to the number of nodes in AIFB.\n",
    "density = num_edges / (num_nodes * (num_nodes - 1)) if num_nodes > 1 else 0\n",
    "print(\"The density of AIFB is \" + str(density))"
   ]
  },
  {
   "cell_type": "code",
   "execution_count": 12,
   "metadata": {},
   "outputs": [
    {
     "name": "stdout",
     "output_type": "stream",
     "text": [
      "The coverage for only train seed entities of AIFB is 1.0\n"
     ]
    }
   ],
   "source": [
    "#Exhibihate the coverage(only train_seed_entities): Percentage of the seed entities that are included in AIFB.\n",
    "seed_entities_in_AIFB = [entity for entity in train_seed_entities if URIRef(entity) in G.nodes()]\n",
    "coverage = len(seed_entities_in_AIFB) / len(train_seed_entities)\n",
    "print(\"The coverage for only train seed entities of AIFB is \" + str(coverage))"
   ]
  },
  {
   "cell_type": "code",
   "execution_count": 13,
   "metadata": {},
   "outputs": [
    {
     "name": "stdout",
     "output_type": "stream",
     "text": [
      "The coverage for complete seed entities of AIFB is 1.0\n"
     ]
    }
   ],
   "source": [
    "#Exhibihate the coverage(complete_seed_entities): Percentage of the seed entities that are included in AIFB.\n",
    "seed_entities_in_AIFB = [entity for entity in complete_seed_entities if URIRef(entity) in G.nodes()]\n",
    "coverage = len(seed_entities_in_AIFB) / len(complete_seed_entities)\n",
    "print(\"The coverage for complete seed entities of AIFB is \" + str(coverage))"
   ]
  },
  {
   "cell_type": "code",
   "execution_count": 30,
   "metadata": {},
   "outputs": [
    {
     "name": "stdout",
     "output_type": "stream",
     "text": [
      "The relevance(Avg. degree) of AIFB is 7.035847917923959\n"
     ]
    }
   ],
   "source": [
    "#Exhibihate the Relevance: How many of the nodes and edges in the subgraph are relevant\n",
    "avg_degree = sum(dict(G.degree()).values()) / num_nodes if num_nodes != 0 else 0\n",
    "print(\"The relevance(Avg. degree) of AIFB is \" + str(avg_degree))"
   ]
  },
  {
   "cell_type": "markdown",
   "metadata": {},
   "source": [
    "## Baseline:α=1, β=0, max_hops=2"
   ]
  },
  {
   "cell_type": "markdown",
   "metadata": {},
   "source": [
    "### with BFS"
   ]
  },
  {
   "cell_type": "code",
   "execution_count": 14,
   "metadata": {},
   "outputs": [
    {
     "name": "stdout",
     "output_type": "stream",
     "text": [
      "   Alpha  Beta  Max hops  Node number  Edge number   Density  Coverage(train)  \\\n",
      "0    1.0   0.0       2.0       1536.0       9650.0  0.004093              1.0   \n",
      "\n",
      "   Coverage(complete)  Avg. degree     Runtime  \n",
      "0            0.909091    12.565104  303.432675  \n"
     ]
    }
   ],
   "source": [
    "# Initialize the resulting DataFrame\n",
    "columns = ['Alpha', 'Beta', 'Max hops', 'Node number', 'Edge number', 'Density', 'Coverage(train)', \n",
    "           'Coverage(complete)', 'Avg. degree', 'Runtime']\n",
    "results_df_ba = pd.DataFrame(columns=columns)\n",
    "\n",
    "alpha = 1\n",
    "beta = 0\n",
    "max_hops = 2\n",
    "\n",
    "start_time = time.time()\n",
    "\n",
    "subgraph = spreading_activation_BFS(graph, G, train_seed_entities, neighbor_counts, \n",
    "                                    alpha, beta, max_hops, extraction_threshold=0,\n",
    "                                    fan_out=True, excl=True, pop=True)\n",
    "G_sub = nx.DiGraph()  # Create a directed graph for the subgraph\n",
    "\n",
    "for s, p, o in subgraph:\n",
    "    G_sub.add_edge(s, o, predicate=p)\n",
    "\n",
    "#Exhibihate the size of subgraph: The number of nodes and edges in the subgraph.\n",
    "num_nodes = len(G_sub.nodes())\n",
    "num_edges = len(G_sub.edges())\n",
    "\n",
    "#Exhibihate the density of subgraph: The ratio of the number of edges to the number of nodes in the subgraph.\n",
    "density = num_edges / (num_nodes * (num_nodes - 1)) if num_nodes > 1 else 0\n",
    "\n",
    "#Exhibihate the coverage(only train_seed_entities): Percentage of the seed entities that are included in the subgraph.\n",
    "seed_entities_in_subgraph = [entity for entity in train_seed_entities if URIRef(entity) in G_sub.nodes()]\n",
    "coverage_train = len(seed_entities_in_subgraph) / len(train_seed_entities)\n",
    "\n",
    "#Exhibihate the coverage(complete_seed_entities): Percentage of the seed entities that are included in AIFB.\n",
    "seed_entities_in_subgraph = [entity for entity in complete_seed_entities if URIRef(entity) in G_sub.nodes()]\n",
    "coverage_complete = len(seed_entities_in_subgraph) / len(complete_seed_entities)\n",
    "\n",
    "#Exhibihate the Relevance: How many of the nodes and edges in the subgraph are relevant\n",
    "avg_degree = sum(dict(G_sub.degree()).values()) / num_nodes if num_nodes != 0 else 0\n",
    "\n",
    "end_time = time.time()\n",
    "runtime = end_time - start_time\n",
    "\n",
    "# Add results to DataFrame\n",
    "results_df_ba = results_df_ba.append({\n",
    "    'Alpha': alpha,\n",
    "    'Beta': beta,\n",
    "    'Max hops': max_hops,\n",
    "    'Node number': num_nodes,\n",
    "    'Edge number': num_edges,\n",
    "    'Density': density,\n",
    "    'Coverage(train)': coverage_train,\n",
    "    'Coverage(complete)': coverage_complete,\n",
    "    'Avg. degree': avg_degree,\n",
    "    'Runtime': runtime\n",
    "}, ignore_index=True)\n",
    "                \n",
    "# Export to CSV\n",
    "results_df_ba.to_csv(\"Performance of baseline parameter combination.csv\", index=False)\n",
    "\n",
    "print(results_df_ba)    "
   ]
  },
  {
   "cell_type": "markdown",
   "metadata": {},
   "source": [
    "### with DFS"
   ]
  },
  {
   "cell_type": "code",
   "execution_count": 15,
   "metadata": {},
   "outputs": [
    {
     "name": "stdout",
     "output_type": "stream",
     "text": [
      "   Alpha  Beta  Max depth  Node number  Edge number   Density  \\\n",
      "0    1.0   0.0        2.0       2206.0      15361.0  0.003158   \n",
      "\n",
      "   Coverage(train)  Coverage(complete)  Avg. degree     Runtime  \n",
      "0              1.0            0.954545    13.926564  786.407043  \n"
     ]
    }
   ],
   "source": [
    "# Initialize the resulting DataFrame\n",
    "columns = ['Alpha', 'Beta', 'Max depth', 'Node number', 'Edge number', 'Density', 'Coverage(train)', \n",
    "           'Coverage(complete)', 'Avg. degree', 'Runtime']\n",
    "results_df_ba = pd.DataFrame(columns=columns)\n",
    "\n",
    "alpha = 1\n",
    "beta = 0\n",
    "max_depth = 2\n",
    "\n",
    "start_time = time.time()\n",
    "\n",
    "subgraph = spreading_activation_DFS(graph, G, train_seed_entities, neighbor_counts, \n",
    "                                    alpha, beta, max_depth, extraction_threshold=0,\n",
    "                                    fan_out=True, excl=True, pop=True)\n",
    "G_sub = nx.DiGraph()  # Create a directed graph for the subgraph\n",
    "\n",
    "for s, p, o in subgraph:\n",
    "    G_sub.add_edge(s, o, predicate=p)\n",
    "\n",
    "#Exhibihate the size of subgraph: The number of nodes and edges in the subgraph.\n",
    "num_nodes = len(G_sub.nodes())\n",
    "num_edges = len(G_sub.edges())\n",
    "\n",
    "#Exhibihate the density of subgraph: The ratio of the number of edges to the number of nodes in the subgraph.\n",
    "density = num_edges / (num_nodes * (num_nodes - 1)) if num_nodes > 1 else 0\n",
    "\n",
    "#Exhibihate the coverage(only train_seed_entities): Percentage of the seed entities that are included in the subgraph.\n",
    "seed_entities_in_subgraph = [entity for entity in train_seed_entities if URIRef(entity) in G_sub.nodes()]\n",
    "coverage_train = len(seed_entities_in_subgraph) / len(train_seed_entities)\n",
    "\n",
    "#Exhibihate the coverage(complete_seed_entities): Percentage of the seed entities that are included in AIFB.\n",
    "seed_entities_in_subgraph = [entity for entity in complete_seed_entities if URIRef(entity) in G_sub.nodes()]\n",
    "coverage_complete = len(seed_entities_in_subgraph) / len(complete_seed_entities)\n",
    "\n",
    "#Exhibihate the Relevance: How many of the nodes and edges in the subgraph are relevant\n",
    "avg_degree = sum(dict(G_sub.degree()).values()) / num_nodes if num_nodes != 0 else 0\n",
    "\n",
    "end_time = time.time()\n",
    "runtime = end_time - start_time\n",
    "\n",
    "# Add results to DataFrame\n",
    "results_df_ba = results_df_ba.append({\n",
    "    'Alpha': alpha,\n",
    "    'Beta': beta,\n",
    "    'Max depth': max_depth,\n",
    "    'Node number': num_nodes,\n",
    "    'Edge number': num_edges,\n",
    "    'Density': density,\n",
    "    'Coverage(train)': coverage_train,\n",
    "    'Coverage(complete)': coverage_complete,\n",
    "    'Avg. degree': avg_degree,\n",
    "    'Runtime': runtime\n",
    "}, ignore_index=True)\n",
    "                \n",
    "# Export to CSV\n",
    "results_df_ba.to_csv(\"Performance of baseline parameter combination_1.csv\", index=False)\n",
    "\n",
    "print(results_df_ba)   "
   ]
  },
  {
   "cell_type": "markdown",
   "metadata": {},
   "source": [
    "## Parameter impact research"
   ]
  },
  {
   "cell_type": "code",
   "execution_count": 9,
   "metadata": {},
   "outputs": [],
   "source": [
    "#Copy the original graph \n",
    "graph_copy = Graph()\n",
    "for triple in graph:\n",
    "    graph_copy.add(triple)"
   ]
  },
  {
   "cell_type": "markdown",
   "metadata": {},
   "source": [
    "### SA with graph traversal method BFS"
   ]
  },
  {
   "cell_type": "code",
   "execution_count": 18,
   "metadata": {},
   "outputs": [],
   "source": [
    "alpha_values = [0.1, 0.5, 0.9]\n",
    "beta_values = [0.0025, 0.005, 0.0075, 0.01]\n",
    "max_hops_values = [2, 3, 4]\n",
    "#extraction_threshold_values = [0, 0.0001, 0.001, 0.01, 0.1]\n",
    "#for extraction_threshold in extraction_threshold_values:"
   ]
  },
  {
   "cell_type": "code",
   "execution_count": 11,
   "metadata": {},
   "outputs": [],
   "source": [
    "from tqdm import tqdm"
   ]
  },
  {
   "cell_type": "code",
   "execution_count": 21,
   "metadata": {},
   "outputs": [
    {
     "name": "stderr",
     "output_type": "stream",
     "text": [
      "Alpha loop: 100%|████████████████████████████████████████████████████████████████████| 3/3 [4:41:18<00:00, 5626.31s/it]"
     ]
    },
    {
     "name": "stdout",
     "output_type": "stream",
     "text": [
      "      α       β  Max hoops  Node number  Edge number   Density  \\\n",
      "0   0.1  0.0025        2.0       1654.0      13044.0  0.004771   \n",
      "1   0.1  0.0025        3.0       1654.0      13044.0  0.004771   \n",
      "2   0.1  0.0025        4.0       1654.0      13044.0  0.004771   \n",
      "3   0.1  0.0050        2.0       1522.0      12206.0  0.005273   \n",
      "4   0.1  0.0050        3.0       1522.0      12206.0  0.005273   \n",
      "5   0.1  0.0050        4.0       1522.0      12206.0  0.005273   \n",
      "6   0.1  0.0075        2.0       1477.0      11753.0  0.005391   \n",
      "7   0.1  0.0075        3.0       1477.0      11753.0  0.005391   \n",
      "8   0.1  0.0075        4.0       1477.0      11753.0  0.005391   \n",
      "9   0.1  0.0100        2.0       1460.0      11430.0  0.005366   \n",
      "10  0.1  0.0100        3.0       1460.0      11430.0  0.005366   \n",
      "11  0.1  0.0100        4.0       1460.0      11430.0  0.005366   \n",
      "12  0.5  0.0025        2.0       1895.0      14188.0  0.003953   \n",
      "13  0.5  0.0025        3.0       1895.0      14188.0  0.003953   \n",
      "14  0.5  0.0025        4.0       1895.0      14188.0  0.003953   \n",
      "15  0.5  0.0050        2.0       1787.0      13720.0  0.004299   \n",
      "16  0.5  0.0050        3.0       1787.0      13720.0  0.004299   \n",
      "17  0.5  0.0050        4.0       1787.0      13720.0  0.004299   \n",
      "18  0.5  0.0075        2.0       1737.0      13454.0  0.004462   \n",
      "19  0.5  0.0075        3.0       1737.0      13454.0  0.004462   \n",
      "20  0.5  0.0075        4.0       1737.0      13454.0  0.004462   \n",
      "21  0.5  0.0100        2.0       1696.0      13261.0  0.004613   \n",
      "22  0.5  0.0100        3.0       1696.0      13261.0  0.004613   \n",
      "23  0.5  0.0100        4.0       1696.0      13261.0  0.004613   \n",
      "24  0.9  0.0050        2.0       1881.0      14198.0  0.004015   \n",
      "25  0.9  0.0050        3.0       1881.0      14198.0  0.004015   \n",
      "26  0.9  0.0050        4.0       1881.0      14198.0  0.004015   \n",
      "27  0.9  0.0075        2.0       1825.0      13921.0  0.004182   \n",
      "28  0.9  0.0075        3.0       1825.0      13921.0  0.004182   \n",
      "29  0.9  0.0075        4.0       1825.0      13921.0  0.004182   \n",
      "30  0.9  0.0100        2.0       1780.0      13637.0  0.004306   \n",
      "31  0.9  0.0100        3.0       1780.0      13637.0  0.004306   \n",
      "32  0.9  0.0100        4.0       1780.0      13637.0  0.004306   \n",
      "\n",
      "    Coverage(train)  Coverage(complete)  Avg. degree     Runtime  \n",
      "0               1.0            0.943182    15.772672  418.667611  \n",
      "1               1.0            0.943182    15.772672  439.032450  \n",
      "2               1.0            0.943182    15.772672  429.665679  \n",
      "3               1.0            0.943182    16.039422  364.377019  \n",
      "4               1.0            0.943182    16.039422  369.183659  \n",
      "5               1.0            0.943182    16.039422  361.649732  \n",
      "6               1.0            0.931818    15.914692  305.954602  \n",
      "7               1.0            0.931818    15.914692  305.642084  \n",
      "8               1.0            0.931818    15.914692  303.289825  \n",
      "9               1.0            0.920455    15.657534  282.323706  \n",
      "10              1.0            0.920455    15.657534  286.077877  \n",
      "11              1.0            0.920455    15.657534  285.744107  \n",
      "12              1.0            0.948864    14.974142  672.305267  \n",
      "13              1.0            0.948864    14.974142  688.413616  \n",
      "14              1.0            0.948864    14.974142  666.333313  \n",
      "15              1.0            0.943182    15.355344  578.610316  \n",
      "16              1.0            0.943182    15.355344  581.634387  \n",
      "17              1.0            0.943182    15.355344  586.475906  \n",
      "18              1.0            0.943182    15.491077  498.560698  \n",
      "19              1.0            0.943182    15.491077  499.300892  \n",
      "20              1.0            0.943182    15.491077  506.178819  \n",
      "21              1.0            0.943182    15.637972  461.438539  \n",
      "22              1.0            0.943182    15.637972  460.055956  \n",
      "23              1.0            0.943182    15.637972  460.503758  \n",
      "24              1.0            0.948864    15.096225  757.710979  \n",
      "25              1.0            0.948864    15.096225  724.996836  \n",
      "26              1.0            0.948864    15.096225  690.558793  \n",
      "27              1.0            0.943182    15.255890  647.334919  \n",
      "28              1.0            0.943182    15.255890  677.228966  \n",
      "29              1.0            0.943182    15.255890  625.070203  \n",
      "30              1.0            0.943182    15.322472  625.056695  \n",
      "31              1.0            0.943182    15.322472  717.016517  \n",
      "32              1.0            0.943182    15.322472  602.386750  \n"
     ]
    },
    {
     "name": "stderr",
     "output_type": "stream",
     "text": [
      "\n"
     ]
    }
   ],
   "source": [
    "# Initialize the resulting DataFrame\n",
    "columns = ['α', 'β', 'Max hops', 'Node number', 'Edge number', 'Density', 'Coverage(train)', \n",
    "           'Coverage(complete)', 'Avg. degree', 'Runtime']\n",
    "results_df = pd.DataFrame(columns=columns)\n",
    "\n",
    "for alpha in tqdm(alpha_values, desc=\"Alpha loop\"):\n",
    "    for beta in beta_values:\n",
    "        for max_hops in max_hops_values:\n",
    "                \n",
    "            # Skip the undesired combination of alpha and beta\n",
    "            if alpha == 0.9 and beta == 0.0025:\n",
    "                continue\n",
    "\n",
    "            start_time = time.time()\n",
    "\n",
    "            subgraph = spreading_activation_BFS(graph_copy, G, train_seed_entities, neighbor_counts, \n",
    "                                                alpha, beta, max_hops, extraction_threshold=0,\n",
    "                                                fan_out=True, excl=True, pop=True)\n",
    "            G_sub = nx.DiGraph()  # Create a directed graph for the subgraph\n",
    "\n",
    "            for s, p, o in subgraph:\n",
    "                G_sub.add_edge(s, o, predicate=p)\n",
    "\n",
    "            #Exhibihate the size of subgraph: The number of nodes and edges in the subgraph.\n",
    "            num_nodes = len(G_sub.nodes())\n",
    "            num_edges = len(G_sub.edges())\n",
    "\n",
    "            #Exhibihate the density of subgraph: The ratio of the number of edges to the number of nodes in the subgraph.\n",
    "            density = num_edges / (num_nodes * (num_nodes - 1)) if num_nodes > 1 else 0\n",
    "\n",
    "            #Exhibihate the coverage(only train_seed_entities): Percentage of the seed entities that are included in the subgraph.\n",
    "            seed_entities_in_subgraph = [entity for entity in train_seed_entities if URIRef(entity) in G_sub.nodes()]\n",
    "            coverage_train = len(seed_entities_in_subgraph) / len(train_seed_entities)\n",
    "            \n",
    "            #Exhibihate the coverage(complete_seed_entities): Percentage of the seed entities that are included in AIFB.\n",
    "            seed_entities_in_subgraph = [entity for entity in complete_seed_entities if URIRef(entity) in G_sub.nodes()]\n",
    "            coverage_complete = len(seed_entities_in_subgraph) / len(complete_seed_entities)\n",
    "\n",
    "            #Exhibihate the Relevance: How many of the nodes and edges in the subgraph are relevant\n",
    "            avg_degree = sum(dict(G_sub.degree()).values()) / num_nodes if num_nodes != 0 else 0\n",
    "\n",
    "            end_time = time.time()\n",
    "            runtime = end_time - start_time\n",
    "\n",
    "            # Add results to DataFrame\n",
    "            results_df = results_df.append({\n",
    "                'α': alpha,\n",
    "                'β': beta,\n",
    "                'Max hops': max_hops,\n",
    "                'Node number': num_nodes,\n",
    "                'Edge number': num_edges,\n",
    "                'Density': density,\n",
    "                'Coverage(train)': coverage_train,\n",
    "                'Coverage(complete)': coverage_complete,\n",
    "                'Avg. degree': avg_degree,\n",
    "                'Runtime': runtime\n",
    "            }, ignore_index=True)\n",
    "                \n",
    "# Export to CSV\n",
    "results_df.to_csv(\"parameter_impact_ex1.csv\", index=False)\n",
    "\n",
    "print(results_df)    "
   ]
  },
  {
   "cell_type": "code",
   "execution_count": 14,
   "metadata": {},
   "outputs": [],
   "source": [
    "alpha_values = [0.1, 0.25, 0.5, 0.9]\n",
    "beta_values = [0.0025, 0.005, 0.0075, 0.01]\n",
    "max_hops_values = [2, 3, 4]\n",
    "#extraction_threshold_values = [0, 0.0001, 0.001, 0.01, 0.1]\n",
    "#for extraction_threshold in extraction_threshold_values:"
   ]
  },
  {
   "cell_type": "code",
   "execution_count": 15,
   "metadata": {},
   "outputs": [
    {
     "name": "stderr",
     "output_type": "stream",
     "text": [
      "Alpha loop: 100%|████████████████████████████████████████████████████████████████████| 4/4 [3:34:36<00:00, 3219.19s/it]"
     ]
    },
    {
     "name": "stdout",
     "output_type": "stream",
     "text": [
      "       α       β  Max hops  Node number  Edge number   Density  \\\n",
      "0   0.10  0.0025       2.0       1394.0       8734.0  0.004498   \n",
      "1   0.10  0.0025       3.0       1598.0      12653.0  0.004958   \n",
      "2   0.10  0.0025       4.0       1601.0      12603.0  0.004920   \n",
      "3   0.10  0.0050       2.0       1387.0       8709.0  0.004530   \n",
      "4   0.10  0.0050       3.0       1493.0      11784.0  0.005290   \n",
      "5   0.10  0.0050       4.0       1504.0      11816.0  0.005227   \n",
      "6   0.10  0.0075       2.0       1386.0       8703.0  0.004534   \n",
      "7   0.10  0.0075       3.0       1464.0      11456.0  0.005349   \n",
      "8   0.10  0.0075       4.0       1465.0      11463.0  0.005345   \n",
      "9   0.10  0.0100       2.0       1384.0       8689.0  0.004540   \n",
      "10  0.10  0.0100       3.0       1437.0      10760.0  0.005214   \n",
      "11  0.10  0.0100       4.0       1454.0      11073.0  0.005241   \n",
      "12  0.25  0.0025       2.0       1456.0       9449.0  0.004460   \n",
      "13  0.25  0.0025       3.0       1690.0      13284.0  0.004654   \n",
      "14  0.25  0.0025       4.0       1680.0      13098.0  0.004643   \n",
      "15  0.25  0.0050       2.0       1429.0       9263.0  0.004539   \n",
      "16  0.25  0.0050       3.0       1621.0      12811.0  0.004878   \n",
      "17  0.25  0.0050       4.0       1626.0      12704.0  0.004808   \n",
      "18  0.25  0.0075       2.0       1388.0       8713.0  0.004526   \n",
      "19  0.25  0.0075       3.0       1568.0      12443.0  0.005064   \n",
      "20  0.25  0.0075       4.0       1586.0      12535.0  0.004986   \n",
      "21  0.25  0.0100       2.0       1387.0       8709.0  0.004530   \n",
      "22  0.25  0.0100       3.0       1536.0      12016.0  0.005096   \n",
      "23  0.25  0.0100       4.0       1556.0      12135.0  0.005015   \n",
      "24  0.50  0.0025       2.0       1458.0       9457.0  0.004452   \n",
      "25  0.50  0.0025       3.0       1801.0      13793.0  0.004255   \n",
      "26  0.50  0.0025       4.0       1754.0      13470.0  0.004381   \n",
      "27  0.50  0.0050       2.0       1456.0       9449.0  0.004460   \n",
      "28  0.50  0.0050       3.0       1690.0      13284.0  0.004654   \n",
      "29  0.50  0.0050       4.0       1681.0      13103.0  0.004640   \n",
      "30  0.50  0.0075       2.0       1462.0       9611.0  0.004500   \n",
      "31  0.50  0.0075       3.0       1647.0      12965.0  0.004782   \n",
      "32  0.50  0.0075       4.0       1652.0      12900.0  0.004730   \n",
      "33  0.50  0.0100       2.0       1431.0       9275.0  0.004533   \n",
      "34  0.50  0.0100       3.0       1624.0      12825.0  0.004866   \n",
      "35  0.50  0.0100       4.0       1629.0      12727.0  0.004799   \n",
      "36  0.90  0.0050       2.0       1458.0       9457.0  0.004452   \n",
      "37  0.90  0.0050       3.0       1788.0      13751.0  0.004304   \n",
      "38  0.90  0.0050       4.0       1743.0      13444.0  0.004428   \n",
      "39  0.90  0.0075       2.0       1458.0       9457.0  0.004452   \n",
      "40  0.90  0.0075       3.0       1717.0      13431.0  0.004558   \n",
      "41  0.90  0.0075       4.0       1686.0      13144.0  0.004627   \n",
      "42  0.90  0.0100       2.0       1466.0       9611.0  0.004475   \n",
      "43  0.90  0.0100       3.0       1677.0      13150.0  0.004679   \n",
      "44  0.90  0.0100       4.0       1677.0      13025.0  0.004634   \n",
      "\n",
      "    Coverage(train)  Coverage(complete)  Avg. degree     Runtime  \n",
      "0               1.0            0.897727    12.530846  203.874907  \n",
      "1               1.0            0.926136    15.836045  285.581506  \n",
      "2               1.0            0.943182    15.743910  320.991142  \n",
      "3               1.0            0.897727    12.558039  214.931705  \n",
      "4               1.0            0.914773    15.785666  260.870042  \n",
      "5               1.0            0.920455    15.712766  284.315701  \n",
      "6               1.0            0.897727    12.558442  212.835422  \n",
      "7               1.0            0.903409    15.650273  238.168571  \n",
      "8               1.0            0.914773    15.649147  252.421184  \n",
      "9               1.0            0.897727    12.556358  215.711223  \n",
      "10              1.0            0.886364    14.975644  228.887837  \n",
      "11              1.0            0.897727    15.231087  238.441928  \n",
      "12              1.0            0.897727    12.979396  217.562709  \n",
      "13              1.0            0.943182    15.720710  329.083213  \n",
      "14              1.0            0.943182    15.592857  376.600727  \n",
      "15              1.0            0.892045    12.964311  217.254751  \n",
      "16              1.0            0.937500    15.806292  296.967430  \n",
      "17              1.0            0.943182    15.626076  334.145981  \n",
      "18              1.0            0.897727    12.554755  212.936800  \n",
      "19              1.0            0.926136    15.871173  278.906888  \n",
      "20              1.0            0.943182    15.807062  313.038025  \n",
      "21              1.0            0.897727    12.558039  213.879905  \n",
      "22              1.0            0.914773    15.645833  272.176535  \n",
      "23              1.0            0.926136    15.597686  293.694641  \n",
      "24              1.0            0.897727    12.972565  217.784554  \n",
      "25              1.0            0.948864    15.317046  371.586353  \n",
      "26              1.0            0.948864    15.359179  430.544439  \n",
      "27              1.0            0.897727    12.979396  216.900735  \n",
      "28              1.0            0.943182    15.720710  332.396815  \n",
      "29              1.0            0.943182    15.589530  381.447194  \n",
      "30              1.0            0.892045    13.147743  217.494205  \n",
      "31              1.0            0.937500    15.743777  316.330363  \n",
      "32              1.0            0.943182    15.617433  357.837500  \n",
      "33              1.0            0.892045    12.962963  216.490754  \n",
      "34              1.0            0.937500    15.794335  295.934973  \n",
      "35              1.0            0.943182    15.625537  333.097498  \n",
      "36              1.0            0.897727    12.972565  216.100375  \n",
      "37              1.0            0.948864    15.381432  364.977586  \n",
      "38              1.0            0.948864    15.426277  428.541387  \n",
      "39              1.0            0.897727    12.972565  216.308803  \n",
      "40              1.0            0.943182    15.644729  335.235088  \n",
      "41              1.0            0.943182    15.591934  386.990812  \n",
      "42              1.0            0.897727    13.111869  218.941092  \n",
      "43              1.0            0.943182    15.682767  328.610307  \n",
      "44              1.0            0.943182    15.533691  379.865247  \n"
     ]
    },
    {
     "name": "stderr",
     "output_type": "stream",
     "text": [
      "\n"
     ]
    }
   ],
   "source": [
    "# Initialize the resulting DataFrame\n",
    "columns = ['α', 'β', 'Max hops', 'Node number', 'Edge number', 'Density', 'Coverage(train)', \n",
    "           'Coverage(complete)', 'Avg. degree', 'Runtime']\n",
    "results_df_hop = pd.DataFrame(columns=columns)\n",
    "\n",
    "for alpha in tqdm(alpha_values, desc=\"Alpha loop\"):\n",
    "    for beta in beta_values:\n",
    "        for max_hops in max_hops_values:\n",
    "                \n",
    "            # Skip the undesired combination of alpha and beta\n",
    "            if alpha == 0.9 and beta == 0.0025:\n",
    "                continue\n",
    "\n",
    "            start_time = time.time()\n",
    "\n",
    "            subgraph = spreading_activation_BFS(graph_copy, G, train_seed_entities, neighbor_counts, \n",
    "                                                alpha, beta, max_hops, extraction_threshold=0,\n",
    "                                                fan_out=True, excl=True, pop=True)\n",
    "            G_sub = nx.DiGraph()  # Create a directed graph for the subgraph\n",
    "\n",
    "            for s, p, o in subgraph:\n",
    "                G_sub.add_edge(s, o, predicate=p)\n",
    "\n",
    "            #Exhibihate the size of subgraph: The number of nodes and edges in the subgraph.\n",
    "            num_nodes = len(G_sub.nodes())\n",
    "            num_edges = len(G_sub.edges())\n",
    "\n",
    "            #Exhibihate the density of subgraph: The ratio of the number of edges to the number of nodes in the subgraph.\n",
    "            density = num_edges / (num_nodes * (num_nodes - 1)) if num_nodes > 1 else 0\n",
    "\n",
    "            #Exhibihate the coverage(only train_seed_entities): Percentage of the seed entities that are included in the subgraph.\n",
    "            seed_entities_in_subgraph = [entity for entity in train_seed_entities if URIRef(entity) in G_sub.nodes()]\n",
    "            coverage_train = len(seed_entities_in_subgraph) / len(train_seed_entities)\n",
    "            \n",
    "            #Exhibihate the coverage(complete_seed_entities): Percentage of the seed entities that are included in AIFB.\n",
    "            seed_entities_in_subgraph = [entity for entity in complete_seed_entities if URIRef(entity) in G_sub.nodes()]\n",
    "            coverage_complete = len(seed_entities_in_subgraph) / len(complete_seed_entities)\n",
    "\n",
    "            #Exhibihate the Relevance: How many of the nodes and edges in the subgraph are relevant\n",
    "            avg_degree = sum(dict(G_sub.degree()).values()) / num_nodes if num_nodes != 0 else 0\n",
    "\n",
    "            end_time = time.time()\n",
    "            runtime = end_time - start_time\n",
    "\n",
    "            # Add results to DataFrame\n",
    "            results_df_hop = results_df_hop.append({\n",
    "                'α': alpha,\n",
    "                'β': beta,\n",
    "                'Max hops': max_hops,\n",
    "                'Node number': num_nodes,\n",
    "                'Edge number': num_edges,\n",
    "                'Density': density,\n",
    "                'Coverage(train)': coverage_train,\n",
    "                'Coverage(complete)': coverage_complete,\n",
    "                'Avg. degree': avg_degree,\n",
    "                'Runtime': runtime\n",
    "            }, ignore_index=True)\n",
    "                \n",
    "# Export to CSV\n",
    "results_df_hop.to_csv(\"parameter_impact_ex_2.csv\", index=False)\n",
    "\n",
    "print(results_df_hop)    "
   ]
  },
  {
   "cell_type": "code",
   "execution_count": 1,
   "metadata": {},
   "outputs": [],
   "source": [
    "alpha_values = [0.9]\n",
    "beta_values = [0.0025]\n",
    "max_hops_values = [2, 3, 4]\n",
    "#extraction_threshold_values = [0, 0.0001, 0.001, 0.01, 0.1]"
   ]
  },
  {
   "cell_type": "code",
   "execution_count": 12,
   "metadata": {},
   "outputs": [
    {
     "name": "stderr",
     "output_type": "stream",
     "text": [
      "Alpha loop: 100%|██████████████████████████████████████████████████████████████████████| 1/1 [19:54<00:00, 1194.20s/it]"
     ]
    },
    {
     "name": "stdout",
     "output_type": "stream",
     "text": [
      "     α       β  Max hops  Node number  Edge number   Density  Coverage(train)  \\\n",
      "0  0.9  0.0025       2.0       1466.0       9438.0  0.004394              1.0   \n",
      "1  0.9  0.0025       3.0       1827.0      13696.0  0.004105              1.0   \n",
      "2  0.9  0.0025       4.0       1864.0      14036.0  0.004042              1.0   \n",
      "\n",
      "   Coverage(complete)  Avg. degree     Runtime  \n",
      "0            0.903409    12.875853  241.518181  \n",
      "1            0.948864    14.992885  449.151833  \n",
      "2            0.948864    15.060086  503.529024  \n"
     ]
    },
    {
     "name": "stderr",
     "output_type": "stream",
     "text": [
      "\n"
     ]
    }
   ],
   "source": [
    "# Initialize the resulting DataFrame\n",
    "columns = ['α', 'β', 'Max hops', 'Node number', 'Edge number', 'Density', 'Coverage(train)', \n",
    "           'Coverage(complete)', 'Avg. degree', 'Runtime']\n",
    "results_df_thr = pd.DataFrame(columns=columns)\n",
    "\n",
    "for alpha in tqdm(alpha_values, desc=\"Alpha loop\"):\n",
    "    for beta in beta_values:\n",
    "        for max_hops in max_hops_values:\n",
    "                \n",
    "            # Skip the undesired combination of alpha and beta\n",
    "            #if alpha == 0.9 and beta == 0.0025:\n",
    "                #continue\n",
    "\n",
    "            start_time = time.time()\n",
    "\n",
    "            subgraph = spreading_activation_BFS(graph_copy, G, train_seed_entities, neighbor_counts, \n",
    "                                                alpha, beta, max_hops, extraction_threshold=0,\n",
    "                                                fan_out=True, excl=True, pop=True)\n",
    "            G_sub = nx.DiGraph()  # Create a directed graph for the subgraph\n",
    "\n",
    "            for s, p, o in subgraph:\n",
    "                G_sub.add_edge(s, o, predicate=p)\n",
    "\n",
    "            #Exhibihate the size of subgraph: The number of nodes and edges in the subgraph.\n",
    "            num_nodes = len(G_sub.nodes())\n",
    "            num_edges = len(G_sub.edges())\n",
    "\n",
    "            #Exhibihate the density of subgraph: The ratio of the number of edges to the number of nodes in the subgraph.\n",
    "            density = num_edges / (num_nodes * (num_nodes - 1)) if num_nodes > 1 else 0\n",
    "\n",
    "            #Exhibihate the coverage(only train_seed_entities): Percentage of the seed entities that are included in the subgraph.\n",
    "            seed_entities_in_subgraph = [entity for entity in train_seed_entities if URIRef(entity) in G_sub.nodes()]\n",
    "            coverage_train = len(seed_entities_in_subgraph) / len(train_seed_entities)\n",
    "            \n",
    "            #Exhibihate the coverage(complete_seed_entities): Percentage of the seed entities that are included in AIFB.\n",
    "            seed_entities_in_subgraph = [entity for entity in complete_seed_entities if URIRef(entity) in G_sub.nodes()]\n",
    "            coverage_complete = len(seed_entities_in_subgraph) / len(complete_seed_entities)\n",
    "\n",
    "            #Exhibihate the Relevance: How many of the nodes and edges in the subgraph are relevant\n",
    "            avg_degree = sum(dict(G_sub.degree()).values()) / num_nodes if num_nodes != 0 else 0\n",
    "\n",
    "            end_time = time.time()\n",
    "            runtime = end_time - start_time\n",
    "\n",
    "            # Add results to DataFrame\n",
    "            results_df_thr = results_df_thr.append({\n",
    "                'α': alpha,\n",
    "                'β': beta,\n",
    "                'Max hops': max_hops,\n",
    "                'Node number': num_nodes,\n",
    "                'Edge number': num_edges,\n",
    "                'Density': density,\n",
    "                'Coverage(train)': coverage_train,\n",
    "                'Coverage(complete)': coverage_complete,\n",
    "                'Avg. degree': avg_degree,\n",
    "                'Runtime': runtime\n",
    "            }, ignore_index=True)\n",
    "                \n",
    "# Export to CSV\n",
    "results_df_thr.to_csv(\"parameter_impact_ex_3.csv\", index=False)\n",
    "\n",
    "print(results_df_thr)    "
   ]
  },
  {
   "cell_type": "markdown",
   "metadata": {},
   "source": [
    "### SA with graph traversal method DFS"
   ]
  },
  {
   "cell_type": "code",
   "execution_count": 34,
   "metadata": {},
   "outputs": [],
   "source": [
    "alpha_values = [0.1, 0.25, 0.5, 0.9]\n",
    "beta_values = [0.0025, 0.005, 0.0075, 0.01]\n",
    "max_depth_values = [2, 3]\n",
    "#extraction_threshold_values = [0, 0.0001, 0.001, 0.01, 0.1]\n",
    "#for extraction_threshold in extraction_threshold_values:"
   ]
  },
  {
   "cell_type": "code",
   "execution_count": 35,
   "metadata": {},
   "outputs": [
    {
     "name": "stderr",
     "output_type": "stream",
     "text": [
      "Alpha loop: 100%|████████████████████████████████████████████████████████████████████| 4/4 [7:06:30<00:00, 6397.59s/it]"
     ]
    },
    {
     "name": "stdout",
     "output_type": "stream",
     "text": [
      "    Alpha    Beta  Max depth  Node number  Edge number   Density  \\\n",
      "0    0.10  0.0025        2.0       1812.0      13935.0  0.004246   \n",
      "1    0.10  0.0025        3.0       2077.0      14947.0  0.003466   \n",
      "2    0.10  0.0050        2.0       1721.0      13608.0  0.004597   \n",
      "3    0.10  0.0050        3.0       1910.0      14296.0  0.003921   \n",
      "4    0.10  0.0075        2.0       1700.0      13444.0  0.004655   \n",
      "5    0.10  0.0075        3.0       1819.0      13871.0  0.004195   \n",
      "6    0.10  0.0100        2.0       1632.0      13065.0  0.004908   \n",
      "7    0.10  0.0100        3.0       1742.0      13506.0  0.004453   \n",
      "8    0.25  0.0025        2.0       1907.0      14369.0  0.003953   \n",
      "9    0.25  0.0025        3.0       2237.0      15421.0  0.003083   \n",
      "10   0.25  0.0050        2.0       1834.0      14042.0  0.004177   \n",
      "11   0.25  0.0050        3.0       2160.0      15215.0  0.003263   \n",
      "12   0.25  0.0075        2.0       1806.0      13915.0  0.004269   \n",
      "13   0.25  0.0075        3.0       2076.0      14951.0  0.003471   \n",
      "14   0.25  0.0100        2.0       1774.0      13796.0  0.004386   \n",
      "15   0.25  0.0100        3.0       1991.0      14681.0  0.003705   \n",
      "16   0.50  0.0025        2.0       2001.0      14690.0  0.003671   \n",
      "17   0.50  0.0025        3.0       2318.0      15650.0  0.002914   \n",
      "18   0.50  0.0050        2.0       1924.0      14433.0  0.003901   \n",
      "19   0.50  0.0050        3.0       2277.0      15538.0  0.002998   \n",
      "20   0.50  0.0075        2.0       1867.0      14161.0  0.004065   \n",
      "21   0.50  0.0075        3.0       2234.0      15419.0  0.003091   \n",
      "22   0.50  0.0100        2.0       1847.0      14091.0  0.004133   \n",
      "23   0.50  0.0100        3.0       2203.0      15333.0  0.003161   \n",
      "24   0.90  0.0050        2.0       2008.0      14698.0  0.003647   \n",
      "25   0.90  0.0050        3.0       2336.0      15696.0  0.002878   \n",
      "26   0.90  0.0075        2.0       1960.0      14546.0  0.003788   \n",
      "27   0.90  0.0075        3.0       2305.0      15613.0  0.002940   \n",
      "28   0.90  0.0100        2.0       1934.0      14447.0  0.003864   \n",
      "29   0.90  0.0100        3.0       2289.0      15568.0  0.002973   \n",
      "\n",
      "    Coverage(train)  Coverage(complete)  Avg. degree      Runtime  \n",
      "0               1.0            0.937500    15.380795   767.091189  \n",
      "1               1.0            0.937500    14.392874   725.798707  \n",
      "2               1.0            0.937500    15.814062   768.356023  \n",
      "3               1.0            0.937500    14.969634   722.732908  \n",
      "4               1.0            0.931818    15.816471   778.245591  \n",
      "5               1.0            0.937500    15.251237   728.004957  \n",
      "6               1.0            0.897727    16.011029   765.083989  \n",
      "7               1.0            0.926136    15.506315   722.790980  \n",
      "8               1.0            0.937500    15.069743   830.076637  \n",
      "9               1.0            0.937500    13.787215   837.140959  \n",
      "10              1.0            0.937500    15.312977   854.180485  \n",
      "11              1.0            0.937500    14.087963   843.130733  \n",
      "12              1.0            0.937500    15.409745  1034.642780  \n",
      "13              1.0            0.937500    14.403661   964.976026  \n",
      "14              1.0            0.937500    15.553551   962.358566  \n",
      "15              1.0            0.937500    14.747363  1007.888896  \n",
      "16              1.0            0.948864    14.682659   989.375945  \n",
      "17              1.0            0.954545    13.503020   966.436547  \n",
      "18              1.0            0.948864    15.003119  1036.741215  \n",
      "19              1.0            0.937500    13.647782   900.816891  \n",
      "20              1.0            0.937500    15.169791  1009.283036  \n",
      "21              1.0            0.937500    13.803939   922.186022  \n",
      "22              1.0            0.937500    15.258257  1021.034830  \n",
      "23              1.0            0.937500    13.920109   818.194835  \n",
      "24              1.0            0.948864    14.639442   797.137999  \n",
      "25              1.0            0.954545    13.438356   764.834176  \n",
      "26              1.0            0.948864    14.842857   777.697980  \n",
      "27              1.0            0.954545    13.547072   740.362477  \n",
      "28              1.0            0.948864    14.940021   790.759747  \n",
      "29              1.0            0.937500    13.602446   742.789694  \n"
     ]
    },
    {
     "name": "stderr",
     "output_type": "stream",
     "text": [
      "\n"
     ]
    }
   ],
   "source": [
    "# Initialize the resulting DataFrame\n",
    "columns = ['Alpha', 'Beta', 'Max depth', 'Node number', 'Edge number', 'Density', 'Coverage(train)', \n",
    "           'Coverage(complete)', 'Avg. degree', 'Runtime']\n",
    "results_df_DFS = pd.DataFrame(columns=columns)\n",
    "\n",
    "for alpha in tqdm(alpha_values, desc=\"Alpha loop\"):\n",
    "    for beta in beta_values:\n",
    "        for max_depth in max_depth_values:\n",
    "                \n",
    "            # Skip the undesired combination of alpha and beta\n",
    "            if alpha == 0.9 and beta == 0.0025:\n",
    "                continue\n",
    "\n",
    "            start_time = time.time()\n",
    "\n",
    "            subgraph = spreading_activation_DFS(graph_copy, G, train_seed_entities, neighbor_counts, \n",
    "                                                alpha, beta, max_depth, extraction_threshold=0,\n",
    "                                                fan_out=True, excl=True, pop=True)\n",
    "            G_sub = nx.DiGraph()  # Create a directed graph for the subgraph\n",
    "\n",
    "            for s, p, o in subgraph:\n",
    "                G_sub.add_edge(s, o, predicate=p)\n",
    "\n",
    "            #Exhibihate the size of subgraph: The number of nodes and edges in the subgraph.\n",
    "            num_nodes = len(G_sub.nodes())\n",
    "            num_edges = len(G_sub.edges())\n",
    "\n",
    "            #Exhibihate the density of subgraph: The ratio of the number of edges to the number of nodes in the subgraph.\n",
    "            density = num_edges / (num_nodes * (num_nodes - 1)) if num_nodes > 1 else 0\n",
    "\n",
    "            #Exhibihate the coverage(only train_seed_entities): Percentage of the seed entities that are included in the subgraph.\n",
    "            seed_entities_in_subgraph = [entity for entity in train_seed_entities if URIRef(entity) in G_sub.nodes()]\n",
    "            coverage_train = len(seed_entities_in_subgraph) / len(train_seed_entities)\n",
    "            \n",
    "            #Exhibihate the coverage(complete_seed_entities): Percentage of the seed entities that are included in AIFB.\n",
    "            seed_entities_in_subgraph = [entity for entity in complete_seed_entities if URIRef(entity) in G_sub.nodes()]\n",
    "            coverage_complete = len(seed_entities_in_subgraph) / len(complete_seed_entities)\n",
    "\n",
    "            #Exhibihate the Relevance: How many of the nodes and edges in the subgraph are relevant\n",
    "            avg_degree = sum(dict(G_sub.degree()).values()) / num_nodes if num_nodes != 0 else 0\n",
    "\n",
    "            end_time = time.time()\n",
    "            runtime = end_time - start_time\n",
    "\n",
    "            # Add results to DataFrame\n",
    "            results_df_DFS = results_df_DFS.append({\n",
    "                'Alpha': alpha,\n",
    "                'Beta': beta,\n",
    "                'Max depth': max_depth,\n",
    "                'Node number': num_nodes,\n",
    "                'Edge number': num_edges,\n",
    "                'Density': density,\n",
    "                'Coverage(train)': coverage_train,\n",
    "                'Coverage(complete)': coverage_complete,\n",
    "                'Avg. degree': avg_degree,\n",
    "                'Runtime': runtime\n",
    "            }, ignore_index=True)\n",
    "                \n",
    "# Export to CSV\n",
    "results_df_DFS.to_csv(\"parameter_impact_ex3.csv\", index=False)\n",
    "\n",
    "print(results_df_DFS)    "
   ]
  },
  {
   "cell_type": "code",
   "execution_count": 10,
   "metadata": {},
   "outputs": [],
   "source": [
    "alpha_values = [0.1, 0.25, 0.5, 0.9]\n",
    "beta_values = [0.0025, 0.005, 0.0075, 0.01]\n",
    "max_depth_values = [4]"
   ]
  },
  {
   "cell_type": "code",
   "execution_count": 11,
   "metadata": {},
   "outputs": [
    {
     "name": "stderr",
     "output_type": "stream",
     "text": [
      "Alpha loop: 100%|████████████████████████████████████████████████████████████████████| 4/4 [4:34:42<00:00, 4120.68s/it]"
     ]
    },
    {
     "name": "stdout",
     "output_type": "stream",
     "text": [
      "    Alpha    Beta  Max depth  Node number  Edge number   Density  \\\n",
      "0    0.10  0.0025        4.0       2088.0      15015.0  0.003446   \n",
      "1    0.10  0.0050        4.0       1938.0      14535.0  0.003872   \n",
      "2    0.10  0.0075        4.0       1841.0      14122.0  0.004169   \n",
      "3    0.10  0.0100        4.0       1781.0      13855.0  0.004370   \n",
      "4    0.25  0.0025        4.0       2216.0      15378.0  0.003133   \n",
      "5    0.25  0.0050        4.0       2153.0      15211.0  0.003283   \n",
      "6    0.25  0.0075        4.0       2077.0      14990.0  0.003476   \n",
      "7    0.25  0.0100        4.0       2000.0      14762.0  0.003692   \n",
      "8    0.50  0.0025        4.0       2310.0      15641.0  0.002932   \n",
      "9    0.50  0.0050        4.0       2265.0      15504.0  0.003023   \n",
      "10   0.50  0.0075        4.0       2217.0      15384.0  0.003131   \n",
      "11   0.50  0.0100        4.0       2200.0      15348.0  0.003173   \n",
      "12   0.90  0.0050        4.0       2328.0      15667.0  0.002892   \n",
      "13   0.90  0.0075        4.0       2306.0      15599.0  0.002935   \n",
      "14   0.90  0.0100        4.0       2285.0      15552.0  0.002980   \n",
      "\n",
      "    Coverage(train)  Coverage(complete)  Avg. degree      Runtime  \n",
      "0               1.0            0.943182    14.382184  1181.285507  \n",
      "1               1.0            0.943182    15.000000  1125.843652  \n",
      "2               1.0            0.943182    15.341662  1090.696063  \n",
      "3               1.0            0.943182    15.558675  1068.051756  \n",
      "4               1.0            0.954545    13.879061  1089.739709  \n",
      "5               1.0            0.943182    14.130051  1076.229963  \n",
      "6               1.0            0.943182    14.434280  1110.268406  \n",
      "7               1.0            0.943182    14.762000  1083.518824  \n",
      "8               1.0            0.954545    13.541991  1072.315292  \n",
      "9               1.0            0.954545    13.690066  1059.540763  \n",
      "10              1.0            0.954545    13.878214  1077.517350  \n",
      "11              1.0            0.943182    13.952727  1113.548663  \n",
      "12              1.0            0.954545    13.459622  1128.164891  \n",
      "13              1.0            0.954545    13.529055  1138.568566  \n",
      "14              1.0            0.954545    13.612254  1067.314645  \n"
     ]
    },
    {
     "name": "stderr",
     "output_type": "stream",
     "text": [
      "\n"
     ]
    }
   ],
   "source": [
    "# Initialize the resulting DataFrame\n",
    "columns = ['Alpha', 'Beta', 'Max depth', 'Node number', 'Edge number', 'Density', 'Coverage(train)', \n",
    "           'Coverage(complete)', 'Avg. degree', 'Runtime']\n",
    "results_df_DFS = pd.DataFrame(columns=columns)\n",
    "\n",
    "for alpha in tqdm(alpha_values, desc=\"Alpha loop\"):\n",
    "    for beta in beta_values:\n",
    "        for max_depth in max_depth_values:\n",
    "                \n",
    "            # Skip the undesired combination of alpha and beta\n",
    "            if alpha == 0.9 and beta == 0.0025:\n",
    "                continue\n",
    "\n",
    "            start_time = time.time()\n",
    "\n",
    "            subgraph = spreading_activation_DFS(graph_copy, G, train_seed_entities, neighbor_counts, \n",
    "                                                alpha, beta, max_depth, extraction_threshold=0,\n",
    "                                                fan_out=True, excl=True, pop=True)\n",
    "            G_sub = nx.DiGraph()  # Create a directed graph for the subgraph\n",
    "\n",
    "            for s, p, o in subgraph:\n",
    "                G_sub.add_edge(s, o, predicate=p)\n",
    "\n",
    "            #Exhibihate the size of subgraph: The number of nodes and edges in the subgraph.\n",
    "            num_nodes = len(G_sub.nodes())\n",
    "            num_edges = len(G_sub.edges())\n",
    "\n",
    "            #Exhibihate the density of subgraph: The ratio of the number of edges to the number of nodes in the subgraph.\n",
    "            density = num_edges / (num_nodes * (num_nodes - 1)) if num_nodes > 1 else 0\n",
    "\n",
    "            #Exhibihate the coverage(only train_seed_entities): Percentage of the seed entities that are included in the subgraph.\n",
    "            seed_entities_in_subgraph = [entity for entity in train_seed_entities if URIRef(entity) in G_sub.nodes()]\n",
    "            coverage_train = len(seed_entities_in_subgraph) / len(train_seed_entities)\n",
    "            \n",
    "            #Exhibihate the coverage(complete_seed_entities): Percentage of the seed entities that are included in AIFB.\n",
    "            seed_entities_in_subgraph = [entity for entity in complete_seed_entities if URIRef(entity) in G_sub.nodes()]\n",
    "            coverage_complete = len(seed_entities_in_subgraph) / len(complete_seed_entities)\n",
    "\n",
    "            #Exhibihate the Relevance: How many of the nodes and edges in the subgraph are relevant\n",
    "            avg_degree = sum(dict(G_sub.degree()).values()) / num_nodes if num_nodes != 0 else 0\n",
    "\n",
    "            end_time = time.time()\n",
    "            runtime = end_time - start_time\n",
    "\n",
    "            # Add results to DataFrame\n",
    "            results_df_DFS = results_df_DFS.append({\n",
    "                'Alpha': alpha,\n",
    "                'Beta': beta,\n",
    "                'Max depth': max_depth,\n",
    "                'Node number': num_nodes,\n",
    "                'Edge number': num_edges,\n",
    "                'Density': density,\n",
    "                'Coverage(train)': coverage_train,\n",
    "                'Coverage(complete)': coverage_complete,\n",
    "                'Avg. degree': avg_degree,\n",
    "                'Runtime': runtime\n",
    "            }, ignore_index=True)\n",
    "                \n",
    "# Export to CSV\n",
    "results_df_DFS.to_csv(\"parameter_impact_ex4.csv\", index=False)\n",
    "\n",
    "print(results_df_DFS)    "
   ]
  },
  {
   "cell_type": "code",
   "execution_count": 16,
   "metadata": {},
   "outputs": [],
   "source": [
    "alpha_values = [0.1]\n",
    "beta_values = [0.01]\n",
    "max_depth_values = [2, 3, 4]"
   ]
  },
  {
   "cell_type": "code",
   "execution_count": 17,
   "metadata": {},
   "outputs": [
    {
     "name": "stderr",
     "output_type": "stream",
     "text": [
      "Alpha loop: 100%|██████████████████████████████████████████████████████████████████████| 1/1 [41:50<00:00, 2510.68s/it]"
     ]
    },
    {
     "name": "stdout",
     "output_type": "stream",
     "text": [
      "   Alpha  Beta  Max depth  Node number  Edge number   Density  \\\n",
      "0    0.1  0.01        2.0       1643.0      13230.0  0.004904   \n",
      "1    0.1  0.01        3.0       1759.0      13668.0  0.004420   \n",
      "2    0.1  0.01        4.0       1781.0      13855.0  0.004370   \n",
      "\n",
      "   Coverage(train)  Coverage(complete)  Avg. degree      Runtime  \n",
      "0              1.0            0.914773    16.104687   684.011912  \n",
      "1              1.0            0.943182    15.540648   699.555607  \n",
      "2              1.0            0.943182    15.558675  1127.109778  \n"
     ]
    },
    {
     "name": "stderr",
     "output_type": "stream",
     "text": [
      "\n"
     ]
    }
   ],
   "source": [
    "# Initialize the resulting DataFrame\n",
    "columns = ['Alpha', 'Beta', 'Max depth', 'Node number', 'Edge number', 'Density', 'Coverage(train)', \n",
    "           'Coverage(complete)', 'Avg. degree', 'Runtime']\n",
    "results_df_DFS_d = pd.DataFrame(columns=columns)\n",
    "\n",
    "for alpha in tqdm(alpha_values, desc=\"Alpha loop\"):\n",
    "    for beta in beta_values:\n",
    "        for max_depth in max_depth_values:\n",
    "                \n",
    "            # Skip the undesired combination of alpha and beta\n",
    "            if alpha == 0.9 and beta == 0.0025:\n",
    "                continue\n",
    "\n",
    "            start_time = time.time()\n",
    "\n",
    "            subgraph = spreading_activation_DFS(graph_copy, G, train_seed_entities, neighbor_counts, \n",
    "                                                alpha, beta, max_depth, extraction_threshold=0,\n",
    "                                                fan_out=True, excl=True, pop=True)\n",
    "            G_sub = nx.DiGraph()  # Create a directed graph for the subgraph\n",
    "\n",
    "            for s, p, o in subgraph:\n",
    "                G_sub.add_edge(s, o, predicate=p)\n",
    "\n",
    "            #Exhibihate the size of subgraph: The number of nodes and edges in the subgraph.\n",
    "            num_nodes = len(G_sub.nodes())\n",
    "            num_edges = len(G_sub.edges())\n",
    "\n",
    "            #Exhibihate the density of subgraph: The ratio of the number of edges to the number of nodes in the subgraph.\n",
    "            density = num_edges / (num_nodes * (num_nodes - 1)) if num_nodes > 1 else 0\n",
    "\n",
    "            #Exhibihate the coverage(only train_seed_entities): Percentage of the seed entities that are included in the subgraph.\n",
    "            seed_entities_in_subgraph = [entity for entity in train_seed_entities if URIRef(entity) in G_sub.nodes()]\n",
    "            coverage_train = len(seed_entities_in_subgraph) / len(train_seed_entities)\n",
    "            \n",
    "            #Exhibihate the coverage(complete_seed_entities): Percentage of the seed entities that are included in AIFB.\n",
    "            seed_entities_in_subgraph = [entity for entity in complete_seed_entities if URIRef(entity) in G_sub.nodes()]\n",
    "            coverage_complete = len(seed_entities_in_subgraph) / len(complete_seed_entities)\n",
    "\n",
    "            #Exhibihate the Relevance: How many of the nodes and edges in the subgraph are relevant\n",
    "            avg_degree = sum(dict(G_sub.degree()).values()) / num_nodes if num_nodes != 0 else 0\n",
    "\n",
    "            end_time = time.time()\n",
    "            runtime = end_time - start_time\n",
    "\n",
    "            # Add results to DataFrame\n",
    "            results_df_DFS_d = results_df_DFS_d.append({\n",
    "                'Alpha': alpha,\n",
    "                'Beta': beta,\n",
    "                'Max depth': max_depth,\n",
    "                'Node number': num_nodes,\n",
    "                'Edge number': num_edges,\n",
    "                'Density': density,\n",
    "                'Coverage(train)': coverage_train,\n",
    "                'Coverage(complete)': coverage_complete,\n",
    "                'Avg. degree': avg_degree,\n",
    "                'Runtime': runtime\n",
    "            }, ignore_index=True)\n",
    "                \n",
    "# Export to CSV\n",
    "results_df_DFS_d.to_csv(\"parameter_impact_ex6.csv\", index=False)\n",
    "\n",
    "print(results_df_DFS_d)    "
   ]
  },
  {
   "cell_type": "markdown",
   "metadata": {},
   "source": [
    "## Test impact of 3 boolean parameters (fan_out, excl, pop)"
   ]
  },
  {
   "cell_type": "markdown",
   "metadata": {},
   "source": [
    "### when fan_out=False, excl=True, pop=True"
   ]
  },
  {
   "cell_type": "code",
   "execution_count": 17,
   "metadata": {},
   "outputs": [
    {
     "name": "stdout",
     "output_type": "stream",
     "text": [
      "   Alpha   Beta  Max hops  Node number  Edge number   Density  \\\n",
      "0  0.186  0.006       3.0       2127.0      14906.0  0.003296   \n",
      "\n",
      "   Coverage(train)  Coverage(complete)  Avg. degree     Runtime  \n",
      "0              1.0            0.948864    14.015985  807.009719  \n"
     ]
    }
   ],
   "source": [
    "# Initialize the resulting DataFrame\n",
    "columns = ['Alpha', 'Beta', 'Max hops', 'Node number', 'Edge number', 'Density', 'Coverage(train)', \n",
    "           'Coverage(complete)', 'Avg. degree', 'Runtime']\n",
    "results_df_bool = pd.DataFrame(columns=columns)\n",
    "\n",
    "alpha = 0.186\n",
    "beta = 0.006\n",
    "max_hops = 3\n",
    "\n",
    "start_time = time.time()\n",
    "\n",
    "subgraph = spreading_activation_BFS(graph, G, train_seed_entities, neighbor_counts, \n",
    "                                    alpha=0.186, beta=0.006, max_hops=3, extraction_threshold=0,\n",
    "                                    fan_out=False, excl=True, pop=True)\n",
    "G_sub = nx.DiGraph()  # Create a directed graph for the subgraph\n",
    "\n",
    "for s, p, o in subgraph:\n",
    "    G_sub.add_edge(s, o, predicate=p)\n",
    "\n",
    "#Exhibihate the size of subgraph: The number of nodes and edges in the subgraph.\n",
    "num_nodes = len(G_sub.nodes())\n",
    "num_edges = len(G_sub.edges())\n",
    "\n",
    "#Exhibihate the density of subgraph: The ratio of the number of edges to the number of nodes in the subgraph.\n",
    "density = num_edges / (num_nodes * (num_nodes - 1)) if num_nodes > 1 else 0\n",
    "\n",
    "#Exhibihate the coverage(only train_seed_entities): Percentage of the seed entities that are included in the subgraph.\n",
    "seed_entities_in_subgraph = [entity for entity in train_seed_entities if URIRef(entity) in G_sub.nodes()]\n",
    "coverage_train = len(seed_entities_in_subgraph) / len(train_seed_entities)\n",
    "\n",
    "#Exhibihate the coverage(complete_seed_entities): Percentage of the seed entities that are included in AIFB.\n",
    "seed_entities_in_subgraph = [entity for entity in complete_seed_entities if URIRef(entity) in G_sub.nodes()]\n",
    "coverage_complete = len(seed_entities_in_subgraph) / len(complete_seed_entities)\n",
    "\n",
    "#Exhibihate the Relevance: How many of the nodes and edges in the subgraph are relevant\n",
    "avg_degree = sum(dict(G_sub.degree()).values()) / num_nodes if num_nodes != 0 else 0\n",
    "\n",
    "end_time = time.time()\n",
    "runtime = end_time - start_time\n",
    "\n",
    "# Add results to DataFrame\n",
    "results_df_bool = results_df_bool.append({\n",
    "    'Alpha': alpha,\n",
    "    'Beta': beta,\n",
    "    'Max hops': max_hops,\n",
    "    'Node number': num_nodes,\n",
    "    'Edge number': num_edges,\n",
    "    'Density': density,\n",
    "    'Coverage(train)': coverage_train,\n",
    "    'Coverage(complete)': coverage_complete,\n",
    "    'Avg. degree': avg_degree,\n",
    "    'Runtime': runtime\n",
    "}, ignore_index=True)\n",
    "                \n",
    "# Export to CSV\n",
    "results_df_bool.to_csv(\"Impact of 3 boolean parameters_1.csv\", index=False)\n",
    "\n",
    "print(results_df_bool)    "
   ]
  },
  {
   "cell_type": "markdown",
   "metadata": {},
   "source": [
    "### when fan_out=True, excl=False, pop=True"
   ]
  },
  {
   "cell_type": "code",
   "execution_count": 18,
   "metadata": {},
   "outputs": [
    {
     "name": "stdout",
     "output_type": "stream",
     "text": [
      "   Alpha   Beta  Max hops  Node number  Edge number   Density  \\\n",
      "0  0.186  0.006       3.0       1547.0      12185.0  0.005095   \n",
      "\n",
      "   Coverage(train)  Coverage(complete)  Avg. degree    Runtime  \n",
      "0              1.0              0.9375     15.75307  35.938984  \n"
     ]
    }
   ],
   "source": [
    "# Initialize the resulting DataFrame\n",
    "columns = ['Alpha', 'Beta', 'Max hops', 'Node number', 'Edge number', 'Density', 'Coverage(train)', \n",
    "           'Coverage(complete)', 'Avg. degree', 'Runtime']\n",
    "results_df_bool = pd.DataFrame(columns=columns)\n",
    "\n",
    "alpha = 0.186\n",
    "beta = 0.006\n",
    "max_hops = 3\n",
    "\n",
    "start_time = time.time()\n",
    "\n",
    "subgraph = spreading_activation_BFS(graph, G, train_seed_entities, neighbor_counts, \n",
    "                                    alpha=0.186, beta=0.006, max_hops=3, extraction_threshold=0,\n",
    "                                    fan_out=True, excl=False, pop=True)\n",
    "G_sub = nx.DiGraph()  # Create a directed graph for the subgraph\n",
    "\n",
    "for s, p, o in subgraph:\n",
    "    G_sub.add_edge(s, o, predicate=p)\n",
    "\n",
    "#Exhibihate the size of subgraph: The number of nodes and edges in the subgraph.\n",
    "num_nodes = len(G_sub.nodes())\n",
    "num_edges = len(G_sub.edges())\n",
    "\n",
    "#Exhibihate the density of subgraph: The ratio of the number of edges to the number of nodes in the subgraph.\n",
    "density = num_edges / (num_nodes * (num_nodes - 1)) if num_nodes > 1 else 0\n",
    "\n",
    "#Exhibihate the coverage(only train_seed_entities): Percentage of the seed entities that are included in the subgraph.\n",
    "seed_entities_in_subgraph = [entity for entity in train_seed_entities if URIRef(entity) in G_sub.nodes()]\n",
    "coverage_train = len(seed_entities_in_subgraph) / len(train_seed_entities)\n",
    "\n",
    "#Exhibihate the coverage(complete_seed_entities): Percentage of the seed entities that are included in AIFB.\n",
    "seed_entities_in_subgraph = [entity for entity in complete_seed_entities if URIRef(entity) in G_sub.nodes()]\n",
    "coverage_complete = len(seed_entities_in_subgraph) / len(complete_seed_entities)\n",
    "\n",
    "#Exhibihate the Relevance: How many of the nodes and edges in the subgraph are relevant\n",
    "avg_degree = sum(dict(G_sub.degree()).values()) / num_nodes if num_nodes != 0 else 0\n",
    "\n",
    "end_time = time.time()\n",
    "runtime = end_time - start_time\n",
    "\n",
    "# Add results to DataFrame\n",
    "results_df_bool = results_df_bool.append({\n",
    "    'Alpha': alpha,\n",
    "    'Beta': beta,\n",
    "    'Max hops': max_hops,\n",
    "    'Node number': num_nodes,\n",
    "    'Edge number': num_edges,\n",
    "    'Density': density,\n",
    "    'Coverage(train)': coverage_train,\n",
    "    'Coverage(complete)': coverage_complete,\n",
    "    'Avg. degree': avg_degree,\n",
    "    'Runtime': runtime\n",
    "}, ignore_index=True)\n",
    "                \n",
    "# Export to CSV\n",
    "results_df_bool.to_csv(\"Impact of 3 boolean parameters_2.csv\", index=False)\n",
    "\n",
    "print(results_df_bool)    "
   ]
  },
  {
   "cell_type": "markdown",
   "metadata": {},
   "source": [
    "### when fan_out=True, excl=True, pop=False"
   ]
  },
  {
   "cell_type": "code",
   "execution_count": 19,
   "metadata": {},
   "outputs": [
    {
     "name": "stdout",
     "output_type": "stream",
     "text": [
      "   Alpha   Beta  Max hops  Node number  Edge number   Density  \\\n",
      "0  0.186  0.006       3.0       1434.0      10714.0  0.005214   \n",
      "\n",
      "   Coverage(train)  Coverage(complete)  Avg. degree     Runtime  \n",
      "0              1.0            0.897727    14.942817  129.537624  \n"
     ]
    }
   ],
   "source": [
    "# Initialize the resulting DataFrame\n",
    "columns = ['Alpha', 'Beta', 'Max hops', 'Node number', 'Edge number', 'Density', 'Coverage(train)', \n",
    "           'Coverage(complete)', 'Avg. degree', 'Runtime']\n",
    "results_df_bool = pd.DataFrame(columns=columns)\n",
    "\n",
    "alpha = 0.186\n",
    "beta = 0.006\n",
    "max_hops = 3\n",
    "\n",
    "start_time = time.time()\n",
    "\n",
    "subgraph = spreading_activation_BFS(graph, G, train_seed_entities, neighbor_counts, \n",
    "                                    alpha=0.186, beta=0.006, max_hops=3, extraction_threshold=0,\n",
    "                                    fan_out=True, excl=True, pop=False)\n",
    "G_sub = nx.DiGraph()  # Create a directed graph for the subgraph\n",
    "\n",
    "for s, p, o in subgraph:\n",
    "    G_sub.add_edge(s, o, predicate=p)\n",
    "\n",
    "#Exhibihate the size of subgraph: The number of nodes and edges in the subgraph.\n",
    "num_nodes = len(G_sub.nodes())\n",
    "num_edges = len(G_sub.edges())\n",
    "\n",
    "#Exhibihate the density of subgraph: The ratio of the number of edges to the number of nodes in the subgraph.\n",
    "density = num_edges / (num_nodes * (num_nodes - 1)) if num_nodes > 1 else 0\n",
    "\n",
    "#Exhibihate the coverage(only train_seed_entities): Percentage of the seed entities that are included in the subgraph.\n",
    "seed_entities_in_subgraph = [entity for entity in train_seed_entities if URIRef(entity) in G_sub.nodes()]\n",
    "coverage_train = len(seed_entities_in_subgraph) / len(train_seed_entities)\n",
    "\n",
    "#Exhibihate the coverage(complete_seed_entities): Percentage of the seed entities that are included in AIFB.\n",
    "seed_entities_in_subgraph = [entity for entity in complete_seed_entities if URIRef(entity) in G_sub.nodes()]\n",
    "coverage_complete = len(seed_entities_in_subgraph) / len(complete_seed_entities)\n",
    "\n",
    "#Exhibihate the Relevance: How many of the nodes and edges in the subgraph are relevant\n",
    "avg_degree = sum(dict(G_sub.degree()).values()) / num_nodes if num_nodes != 0 else 0\n",
    "\n",
    "end_time = time.time()\n",
    "runtime = end_time - start_time\n",
    "\n",
    "# Add results to DataFrame\n",
    "results_df_bool = results_df_bool.append({\n",
    "    'Alpha': alpha,\n",
    "    'Beta': beta,\n",
    "    'Max hops': max_hops,\n",
    "    'Node number': num_nodes,\n",
    "    'Edge number': num_edges,\n",
    "    'Density': density,\n",
    "    'Coverage(train)': coverage_train,\n",
    "    'Coverage(complete)': coverage_complete,\n",
    "    'Avg. degree': avg_degree,\n",
    "    'Runtime': runtime\n",
    "}, ignore_index=True)\n",
    "                \n",
    "# Export to CSV\n",
    "results_df_bool.to_csv(\"Impact of 3 boolean parameters_3.csv\", index=False)\n",
    "\n",
    "print(results_df_bool)    "
   ]
  },
  {
   "cell_type": "markdown",
   "metadata": {},
   "source": [
    "### when fan_out=True, excl=False, pop=False"
   ]
  },
  {
   "cell_type": "code",
   "execution_count": 20,
   "metadata": {},
   "outputs": [
    {
     "name": "stdout",
     "output_type": "stream",
     "text": [
      "   Alpha   Beta  Max hops  Node number  Edge number   Density  \\\n",
      "0  0.186  0.006       3.0       1470.0      11421.0  0.005289   \n",
      "\n",
      "   Coverage(train)  Coverage(complete)  Avg. degree    Runtime  \n",
      "0              1.0            0.931818    15.538776  11.308762  \n"
     ]
    }
   ],
   "source": [
    "# Initialize the resulting DataFrame\n",
    "columns = ['Alpha', 'Beta', 'Max hops', 'Node number', 'Edge number', 'Density', 'Coverage(train)', \n",
    "           'Coverage(complete)', 'Avg. degree', 'Runtime']\n",
    "results_df_bool = pd.DataFrame(columns=columns)\n",
    "\n",
    "alpha = 0.186\n",
    "beta = 0.006\n",
    "max_hops = 3\n",
    "\n",
    "start_time = time.time()\n",
    "\n",
    "subgraph = spreading_activation_BFS(graph, G, train_seed_entities, neighbor_counts, \n",
    "                                    alpha=0.186, beta=0.006, max_hops=3, extraction_threshold=0,\n",
    "                                    fan_out=True, excl=False, pop=False)\n",
    "G_sub = nx.DiGraph()  # Create a directed graph for the subgraph\n",
    "\n",
    "for s, p, o in subgraph:\n",
    "    G_sub.add_edge(s, o, predicate=p)\n",
    "\n",
    "#Exhibihate the size of subgraph: The number of nodes and edges in the subgraph.\n",
    "num_nodes = len(G_sub.nodes())\n",
    "num_edges = len(G_sub.edges())\n",
    "\n",
    "#Exhibihate the density of subgraph: The ratio of the number of edges to the number of nodes in the subgraph.\n",
    "density = num_edges / (num_nodes * (num_nodes - 1)) if num_nodes > 1 else 0\n",
    "\n",
    "#Exhibihate the coverage(only train_seed_entities): Percentage of the seed entities that are included in the subgraph.\n",
    "seed_entities_in_subgraph = [entity for entity in train_seed_entities if URIRef(entity) in G_sub.nodes()]\n",
    "coverage_train = len(seed_entities_in_subgraph) / len(train_seed_entities)\n",
    "\n",
    "#Exhibihate the coverage(complete_seed_entities): Percentage of the seed entities that are included in AIFB.\n",
    "seed_entities_in_subgraph = [entity for entity in complete_seed_entities if URIRef(entity) in G_sub.nodes()]\n",
    "coverage_complete = len(seed_entities_in_subgraph) / len(complete_seed_entities)\n",
    "\n",
    "#Exhibihate the Relevance: How many of the nodes and edges in the subgraph are relevant\n",
    "avg_degree = sum(dict(G_sub.degree()).values()) / num_nodes if num_nodes != 0 else 0\n",
    "\n",
    "end_time = time.time()\n",
    "runtime = end_time - start_time\n",
    "\n",
    "# Add results to DataFrame\n",
    "results_df_bool = results_df_bool.append({\n",
    "    'Alpha': alpha,\n",
    "    'Beta': beta,\n",
    "    'Max hops': max_hops,\n",
    "    'Node number': num_nodes,\n",
    "    'Edge number': num_edges,\n",
    "    'Density': density,\n",
    "    'Coverage(train)': coverage_train,\n",
    "    'Coverage(complete)': coverage_complete,\n",
    "    'Avg. degree': avg_degree,\n",
    "    'Runtime': runtime\n",
    "}, ignore_index=True)\n",
    "                \n",
    "# Export to CSV\n",
    "results_df_bool.to_csv(\"Impact of 3 boolean parameters_4.csv\", index=False)\n",
    "\n",
    "print(results_df_bool)    "
   ]
  }
 ],
 "metadata": {
  "kernelspec": {
   "display_name": "Python 3",
   "language": "python",
   "name": "python3"
  },
  "language_info": {
   "codemirror_mode": {
    "name": "ipython",
    "version": 3
   },
   "file_extension": ".py",
   "mimetype": "text/x-python",
   "name": "python",
   "nbconvert_exporter": "python",
   "pygments_lexer": "ipython3",
   "version": "3.7.3"
  }
 },
 "nbformat": 4,
 "nbformat_minor": 4
}
