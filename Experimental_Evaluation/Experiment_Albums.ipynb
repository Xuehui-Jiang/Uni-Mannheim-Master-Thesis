{
  "cells": [
    {
      "cell_type": "markdown",
      "metadata": {
        "id": "view-in-github",
        "colab_type": "text"
      },
      "source": [
        "<a href=\"https://colab.research.google.com/github/Xuehui-Jiang/Uni-Mannheim-Master-Thesis/blob/main/Experimental_Evaluation/Experiment_Albums.ipynb\" target=\"_parent\"><img src=\"https://colab.research.google.com/assets/colab-badge.svg\" alt=\"Open In Colab\"/></a>"
      ]
    },
    {
      "cell_type": "code",
      "execution_count": null,
      "metadata": {
        "colab": {
          "base_uri": "https://localhost:8080/"
        },
        "id": "l2sy67ZIAKPS",
        "outputId": "ac178db2-7fd4-4465-de03-5c139eca3d27"
      },
      "outputs": [
        {
          "output_type": "stream",
          "name": "stdout",
          "text": [
            "Cloning into 'pyRDF2Vec'...\n",
            "remote: Enumerating objects: 7425, done.\u001b[K\n",
            "remote: Counting objects: 100% (393/393), done.\u001b[K\n",
            "remote: Compressing objects: 100% (249/249), done.\u001b[K\n",
            "remote: Total 7425 (delta 242), reused 261 (delta 137), pack-reused 7032\u001b[K\n",
            "Receiving objects: 100% (7425/7425), 5.35 MiB | 20.66 MiB/s, done.\n",
            "Resolving deltas: 100% (5043/5043), done.\n"
          ]
        }
      ],
      "source": [
        "# Cloning the pyRDF2Vec repo\n",
        "!git clone https://github.com/IBCNServices/pyRDF2Vec.git"
      ]
    },
    {
      "cell_type": "code",
      "execution_count": null,
      "metadata": {
        "colab": {
          "base_uri": "https://localhost:8080/"
        },
        "id": "IDwFPSkwBGoV",
        "outputId": "6a184f18-9b9d-4517-b9b5-3d59b3cc33bc"
      },
      "outputs": [
        {
          "output_type": "stream",
          "name": "stdout",
          "text": [
            "Found existing installation: community 1.0.0b1\n",
            "Uninstalling community-1.0.0b1:\n",
            "  Would remove:\n",
            "    /usr/local/lib/python3.10/dist-packages/community-1.0.0b1.dist-info/*\n",
            "    /usr/local/lib/python3.10/dist-packages/community/*\n",
            "  Would not remove (might be manually added):\n",
            "    /usr/local/lib/python3.10/dist-packages/community/community_louvain.py\n",
            "    /usr/local/lib/python3.10/dist-packages/community/community_status.py\n",
            "Proceed (Y/n)? Y\n",
            "  Successfully uninstalled community-1.0.0b1\n",
            "Requirement already satisfied: python-louvain in /usr/local/lib/python3.10/dist-packages (0.16)\n",
            "Requirement already satisfied: networkx in /usr/local/lib/python3.10/dist-packages (from python-louvain) (3.1)\n",
            "Requirement already satisfied: numpy in /usr/local/lib/python3.10/dist-packages (from python-louvain) (1.23.5)\n",
            "Collecting pyRDF2Vec\n",
            "  Downloading pyrdf2vec-0.2.3-py3-none-any.whl (57 kB)\n",
            "\u001b[2K     \u001b[90m━━━━━━━━━━━━━━━━━━━━━━━━━━━━━━━━━━━━━━━━\u001b[0m \u001b[32m57.1/57.1 kB\u001b[0m \u001b[31m1.6 MB/s\u001b[0m eta \u001b[36m0:00:00\u001b[0m\n",
            "\u001b[?25hCollecting attrs<22.0.0,>=21.2.0 (from pyRDF2Vec)\n",
            "  Downloading attrs-21.4.0-py2.py3-none-any.whl (60 kB)\n",
            "\u001b[2K     \u001b[90m━━━━━━━━━━━━━━━━━━━━━━━━━━━━━━━━━━━━━━━━\u001b[0m \u001b[32m60.6/60.6 kB\u001b[0m \u001b[31m4.3 MB/s\u001b[0m eta \u001b[36m0:00:00\u001b[0m\n",
            "\u001b[?25hCollecting cachetools<5.0.0,>=4.2.2 (from pyRDF2Vec)\n",
            "  Downloading cachetools-4.2.4-py3-none-any.whl (10 kB)\n",
            "Requirement already satisfied: matplotlib<4.0.0,>=3.4.2 in /usr/local/lib/python3.10/dist-packages (from pyRDF2Vec) (3.7.1)\n",
            "Collecting networkx<3.0.0,>=2.5.1 (from pyRDF2Vec)\n",
            "  Downloading networkx-2.8.8-py3-none-any.whl (2.0 MB)\n",
            "\u001b[2K     \u001b[90m━━━━━━━━━━━━━━━━━━━━━━━━━━━━━━━━━━━━━━━━\u001b[0m \u001b[32m2.0/2.0 MB\u001b[0m \u001b[31m45.0 MB/s\u001b[0m eta \u001b[36m0:00:00\u001b[0m\n",
            "\u001b[?25hCollecting python-Levenshtein<0.13.0,>=0.12.2 (from pyRDF2Vec)\n",
            "  Downloading python-Levenshtein-0.12.2.tar.gz (50 kB)\n",
            "\u001b[2K     \u001b[90m━━━━━━━━━━━━━━━━━━━━━━━━━━━━━━━━━━━━━━━━\u001b[0m \u001b[32m50.5/50.5 kB\u001b[0m \u001b[31m7.0 MB/s\u001b[0m eta \u001b[36m0:00:00\u001b[0m\n",
            "\u001b[?25h  Preparing metadata (setup.py) ... \u001b[?25l\u001b[?25hdone\n",
            "Collecting python-louvain<0.16,>=0.15 (from pyRDF2Vec)\n",
            "  Downloading python-louvain-0.15.tar.gz (204 kB)\n",
            "\u001b[2K     \u001b[90m━━━━━━━━━━━━━━━━━━━━━━━━━━━━━━━━━━━━━━\u001b[0m \u001b[32m204.6/204.6 kB\u001b[0m \u001b[31m22.4 MB/s\u001b[0m eta \u001b[36m0:00:00\u001b[0m\n",
            "\u001b[?25h  Preparing metadata (setup.py) ... \u001b[?25l\u001b[?25hdone\n",
            "Collecting tomlkit<0.8.0,>=0.7.2 (from pyRDF2Vec)\n",
            "  Downloading tomlkit-0.7.2-py2.py3-none-any.whl (32 kB)\n",
            "Collecting torch<2.0.0,>=1.8.1 (from pyRDF2Vec)\n",
            "  Downloading torch-1.13.1-cp310-cp310-manylinux1_x86_64.whl (887.5 MB)\n",
            "\u001b[2K     \u001b[90m━━━━━━━━━━━━━━━━━━━━━━━━━━━━━━━━━━━━━━━\u001b[0m \u001b[32m887.5/887.5 MB\u001b[0m \u001b[31m2.3 MB/s\u001b[0m eta \u001b[36m0:00:00\u001b[0m\n",
            "\u001b[?25hRequirement already satisfied: tqdm<5.0.0,>=4.61.0 in /usr/local/lib/python3.10/dist-packages (from pyRDF2Vec) (4.66.1)\n",
            "Requirement already satisfied: contourpy>=1.0.1 in /usr/local/lib/python3.10/dist-packages (from matplotlib<4.0.0,>=3.4.2->pyRDF2Vec) (1.1.0)\n",
            "Requirement already satisfied: cycler>=0.10 in /usr/local/lib/python3.10/dist-packages (from matplotlib<4.0.0,>=3.4.2->pyRDF2Vec) (0.11.0)\n",
            "Requirement already satisfied: fonttools>=4.22.0 in /usr/local/lib/python3.10/dist-packages (from matplotlib<4.0.0,>=3.4.2->pyRDF2Vec) (4.42.1)\n",
            "Requirement already satisfied: kiwisolver>=1.0.1 in /usr/local/lib/python3.10/dist-packages (from matplotlib<4.0.0,>=3.4.2->pyRDF2Vec) (1.4.4)\n",
            "Requirement already satisfied: numpy>=1.20 in /usr/local/lib/python3.10/dist-packages (from matplotlib<4.0.0,>=3.4.2->pyRDF2Vec) (1.23.5)\n",
            "Requirement already satisfied: packaging>=20.0 in /usr/local/lib/python3.10/dist-packages (from matplotlib<4.0.0,>=3.4.2->pyRDF2Vec) (23.1)\n",
            "Requirement already satisfied: pillow>=6.2.0 in /usr/local/lib/python3.10/dist-packages (from matplotlib<4.0.0,>=3.4.2->pyRDF2Vec) (9.4.0)\n",
            "Requirement already satisfied: pyparsing>=2.3.1 in /usr/local/lib/python3.10/dist-packages (from matplotlib<4.0.0,>=3.4.2->pyRDF2Vec) (3.1.1)\n",
            "Requirement already satisfied: python-dateutil>=2.7 in /usr/local/lib/python3.10/dist-packages (from matplotlib<4.0.0,>=3.4.2->pyRDF2Vec) (2.8.2)\n",
            "Requirement already satisfied: setuptools in /usr/local/lib/python3.10/dist-packages (from python-Levenshtein<0.13.0,>=0.12.2->pyRDF2Vec) (67.7.2)\n",
            "Requirement already satisfied: typing-extensions in /usr/local/lib/python3.10/dist-packages (from torch<2.0.0,>=1.8.1->pyRDF2Vec) (4.7.1)\n",
            "Collecting nvidia-cuda-runtime-cu11==11.7.99 (from torch<2.0.0,>=1.8.1->pyRDF2Vec)\n",
            "  Downloading nvidia_cuda_runtime_cu11-11.7.99-py3-none-manylinux1_x86_64.whl (849 kB)\n",
            "\u001b[2K     \u001b[90m━━━━━━━━━━━━━━━━━━━━━━━━━━━━━━━━━━━━━━\u001b[0m \u001b[32m849.3/849.3 kB\u001b[0m \u001b[31m67.5 MB/s\u001b[0m eta \u001b[36m0:00:00\u001b[0m\n",
            "\u001b[?25hCollecting nvidia-cudnn-cu11==8.5.0.96 (from torch<2.0.0,>=1.8.1->pyRDF2Vec)\n",
            "  Downloading nvidia_cudnn_cu11-8.5.0.96-2-py3-none-manylinux1_x86_64.whl (557.1 MB)\n",
            "\u001b[2K     \u001b[90m━━━━━━━━━━━━━━━━━━━━━━━━━━━━━━━━━━━━━━━\u001b[0m \u001b[32m557.1/557.1 MB\u001b[0m \u001b[31m3.1 MB/s\u001b[0m eta \u001b[36m0:00:00\u001b[0m\n",
            "\u001b[?25hCollecting nvidia-cublas-cu11==11.10.3.66 (from torch<2.0.0,>=1.8.1->pyRDF2Vec)\n",
            "  Downloading nvidia_cublas_cu11-11.10.3.66-py3-none-manylinux1_x86_64.whl (317.1 MB)\n",
            "\u001b[2K     \u001b[90m━━━━━━━━━━━━━━━━━━━━━━━━━━━━━━━━━━━━━━━\u001b[0m \u001b[32m317.1/317.1 MB\u001b[0m \u001b[31m3.0 MB/s\u001b[0m eta \u001b[36m0:00:00\u001b[0m\n",
            "\u001b[?25hCollecting nvidia-cuda-nvrtc-cu11==11.7.99 (from torch<2.0.0,>=1.8.1->pyRDF2Vec)\n",
            "  Downloading nvidia_cuda_nvrtc_cu11-11.7.99-2-py3-none-manylinux1_x86_64.whl (21.0 MB)\n",
            "\u001b[2K     \u001b[90m━━━━━━━━━━━━━━━━━━━━━━━━━━━━━━━━━━━━━━━━\u001b[0m \u001b[32m21.0/21.0 MB\u001b[0m \u001b[31m74.8 MB/s\u001b[0m eta \u001b[36m0:00:00\u001b[0m\n",
            "\u001b[?25hRequirement already satisfied: wheel in /usr/local/lib/python3.10/dist-packages (from nvidia-cublas-cu11==11.10.3.66->torch<2.0.0,>=1.8.1->pyRDF2Vec) (0.41.2)\n",
            "Requirement already satisfied: six>=1.5 in /usr/local/lib/python3.10/dist-packages (from python-dateutil>=2.7->matplotlib<4.0.0,>=3.4.2->pyRDF2Vec) (1.16.0)\n",
            "Building wheels for collected packages: python-Levenshtein, python-louvain\n",
            "  Building wheel for python-Levenshtein (setup.py) ... \u001b[?25l\u001b[?25hdone\n",
            "  Created wheel for python-Levenshtein: filename=python_Levenshtein-0.12.2-cp310-cp310-linux_x86_64.whl size=159968 sha256=2fa48a714c3a50be6fa0064d2027e974dba5167d2e638e40a5abf95f62b94ab9\n",
            "  Stored in directory: /root/.cache/pip/wheels/7b/c3/05/60b4747cf52e0f6b6ee52022088a4de07d755016493e86373d\n",
            "  Building wheel for python-louvain (setup.py) ... \u001b[?25l\u001b[?25hdone\n",
            "  Created wheel for python-louvain: filename=python_louvain-0.15-py3-none-any.whl size=9398 sha256=6971c24b90dd5007ece7e6736a43b19f48e8867b6f779ec918e1b0278fff0166\n",
            "  Stored in directory: /root/.cache/pip/wheels/73/99/50/8dd2ba8bc9d968b50e021fe35b15b1ff23e8df38ff4d9f559d\n",
            "Successfully built python-Levenshtein python-louvain\n",
            "Installing collected packages: tomlkit, python-Levenshtein, nvidia-cuda-runtime-cu11, nvidia-cuda-nvrtc-cu11, nvidia-cublas-cu11, networkx, cachetools, attrs, python-louvain, nvidia-cudnn-cu11, torch, pyRDF2Vec\n",
            "  Attempting uninstall: networkx\n",
            "    Found existing installation: networkx 3.1\n",
            "    Uninstalling networkx-3.1:\n",
            "      Successfully uninstalled networkx-3.1\n",
            "  Attempting uninstall: cachetools\n",
            "    Found existing installation: cachetools 5.3.1\n",
            "    Uninstalling cachetools-5.3.1:\n",
            "      Successfully uninstalled cachetools-5.3.1\n",
            "  Attempting uninstall: attrs\n",
            "    Found existing installation: attrs 23.1.0\n",
            "    Uninstalling attrs-23.1.0:\n",
            "      Successfully uninstalled attrs-23.1.0\n",
            "  Attempting uninstall: python-louvain\n",
            "    Found existing installation: python-louvain 0.16\n",
            "    Uninstalling python-louvain-0.16:\n",
            "      Successfully uninstalled python-louvain-0.16\n",
            "  Attempting uninstall: torch\n",
            "    Found existing installation: torch 2.0.1+cu118\n",
            "    Uninstalling torch-2.0.1+cu118:\n",
            "      Successfully uninstalled torch-2.0.1+cu118\n",
            "\u001b[31mERROR: pip's dependency resolver does not currently take into account all the packages that are installed. This behaviour is the source of the following dependency conflicts.\n",
            "jsonschema 4.19.0 requires attrs>=22.2.0, but you have attrs 21.4.0 which is incompatible.\n",
            "referencing 0.30.2 requires attrs>=22.2.0, but you have attrs 21.4.0 which is incompatible.\n",
            "torchaudio 2.0.2+cu118 requires torch==2.0.1, but you have torch 1.13.1 which is incompatible.\n",
            "torchdata 0.6.1 requires torch==2.0.1, but you have torch 1.13.1 which is incompatible.\n",
            "torchtext 0.15.2 requires torch==2.0.1, but you have torch 1.13.1 which is incompatible.\n",
            "torchvision 0.15.2+cu118 requires torch==2.0.1, but you have torch 1.13.1 which is incompatible.\u001b[0m\u001b[31m\n",
            "\u001b[0mSuccessfully installed attrs-21.4.0 cachetools-4.2.4 networkx-2.8.8 nvidia-cublas-cu11-11.10.3.66 nvidia-cuda-nvrtc-cu11-11.7.99 nvidia-cuda-runtime-cu11-11.7.99 nvidia-cudnn-cu11-8.5.0.96 pyRDF2Vec-0.2.3 python-Levenshtein-0.12.2 python-louvain-0.15 tomlkit-0.7.2 torch-1.13.1\n"
          ]
        }
      ],
      "source": [
        "!pip uninstall community\n",
        "!pip install python-louvain\n",
        "!pip install pyRDF2Vec --upgrade"
      ]
    },
    {
      "cell_type": "code",
      "execution_count": null,
      "metadata": {
        "colab": {
          "base_uri": "https://localhost:8080/"
        },
        "id": "dN2I6iQvBGln",
        "outputId": "fbb0c989-5206-4059-a597-d0af75378bd3"
      },
      "outputs": [
        {
          "output_type": "stream",
          "name": "stdout",
          "text": [
            "Collecting rdflib\n",
            "  Downloading rdflib-7.0.0-py3-none-any.whl (531 kB)\n",
            "\u001b[?25l     \u001b[90m━━━━━━━━━━━━━━━━━━━━━━━━━━━━━━━━━━━━━━━━\u001b[0m \u001b[32m0.0/531.9 kB\u001b[0m \u001b[31m?\u001b[0m eta \u001b[36m-:--:--\u001b[0m\r\u001b[2K     \u001b[91m━━━━\u001b[0m\u001b[91m╸\u001b[0m\u001b[90m━━━━━━━━━━━━━━━━━━━━━━━━━━━━━━━━━━━\u001b[0m \u001b[32m61.4/531.9 kB\u001b[0m \u001b[31m2.1 MB/s\u001b[0m eta \u001b[36m0:00:01\u001b[0m\r\u001b[2K     \u001b[91m━━━━━━━━━━━━━━\u001b[0m\u001b[90m╺\u001b[0m\u001b[90m━━━━━━━━━━━━━━━━━━━━━━━━\u001b[0m \u001b[32m194.6/531.9 kB\u001b[0m \u001b[31m2.7 MB/s\u001b[0m eta \u001b[36m0:00:01\u001b[0m\r\u001b[2K     \u001b[91m━━━━━━━━━━━━━━━━━━━━━━━━━━━━━━━━━━━━━━\u001b[0m\u001b[90m╺\u001b[0m \u001b[32m522.2/531.9 kB\u001b[0m \u001b[31m5.3 MB/s\u001b[0m eta \u001b[36m0:00:01\u001b[0m\r\u001b[2K     \u001b[90m━━━━━━━━━━━━━━━━━━━━━━━━━━━━━━━━━━━━━━━\u001b[0m \u001b[32m531.9/531.9 kB\u001b[0m \u001b[31m4.9 MB/s\u001b[0m eta \u001b[36m0:00:00\u001b[0m\n",
            "\u001b[?25hCollecting isodate<0.7.0,>=0.6.0 (from rdflib)\n",
            "  Downloading isodate-0.6.1-py2.py3-none-any.whl (41 kB)\n",
            "\u001b[2K     \u001b[90m━━━━━━━━━━━━━━━━━━━━━━━━━━━━━━━━━━━━━━━━\u001b[0m \u001b[32m41.7/41.7 kB\u001b[0m \u001b[31m5.3 MB/s\u001b[0m eta \u001b[36m0:00:00\u001b[0m\n",
            "\u001b[?25hRequirement already satisfied: pyparsing<4,>=2.1.0 in /usr/local/lib/python3.10/dist-packages (from rdflib) (3.1.1)\n",
            "Requirement already satisfied: six in /usr/local/lib/python3.10/dist-packages (from isodate<0.7.0,>=0.6.0->rdflib) (1.16.0)\n",
            "Installing collected packages: isodate, rdflib\n",
            "Successfully installed isodate-0.6.1 rdflib-7.0.0\n",
            "Requirement already satisfied: networkx in /usr/local/lib/python3.10/dist-packages (2.8.8)\n"
          ]
        }
      ],
      "source": [
        "!pip install rdflib\n",
        "!pip install networkx"
      ]
    },
    {
      "cell_type": "code",
      "execution_count": null,
      "metadata": {
        "id": "gnjhaKYKBGi1"
      },
      "outputs": [],
      "source": [
        "import random\n",
        "import warnings\n",
        "warnings.filterwarnings('ignore')\n",
        "import functools\n",
        "import itertools\n",
        "from typing import List, Sequence, Tuple\n",
        "\n",
        "import matplotlib.pyplot as plt\n",
        "import numpy as np\n",
        "import pandas as pd\n",
        "import rdflib\n",
        "from sklearn.manifold import TSNE\n",
        "from sklearn.metrics import accuracy_score, confusion_matrix\n",
        "from sklearn.svm import SVC\n",
        "\n",
        "import sys\n",
        "sys.path.append('pyRDF2Vec')\n",
        "sys.path.append('pyRDF2Vec/pyrdf2vec')"
      ]
    },
    {
      "cell_type": "code",
      "execution_count": null,
      "metadata": {
        "id": "deCjboyfBGf_"
      },
      "outputs": [],
      "source": [
        "import pandas as pd\n",
        "import matplotlib.pyplot as plt\n",
        "\n",
        "from pyrdf2vec import RDF2VecTransformer\n",
        "from pyrdf2vec.graphs import KG\n",
        "from pyrdf2vec.embedders import Word2Vec\n",
        "from pyrdf2vec.walkers import RandomWalker"
      ]
    },
    {
      "cell_type": "code",
      "execution_count": null,
      "metadata": {
        "colab": {
          "base_uri": "https://localhost:8080/",
          "height": 90
        },
        "id": "FZasYEXCBGdU",
        "outputId": "fabf02f3-07c4-4afe-ac8a-a93f407bd0eb"
      },
      "outputs": [
        {
          "output_type": "display_data",
          "data": {
            "text/plain": [
              "<IPython.core.display.HTML object>"
            ],
            "text/html": [
              "\n",
              "     <input type=\"file\" id=\"files-ece0583a-4dff-48fc-a19b-5cefaffa3c3a\" name=\"files[]\" multiple disabled\n",
              "        style=\"border:none\" />\n",
              "     <output id=\"result-ece0583a-4dff-48fc-a19b-5cefaffa3c3a\">\n",
              "      Upload widget is only available when the cell has been executed in the\n",
              "      current browser session. Please rerun this cell to enable.\n",
              "      </output>\n",
              "      <script>// Copyright 2017 Google LLC\n",
              "//\n",
              "// Licensed under the Apache License, Version 2.0 (the \"License\");\n",
              "// you may not use this file except in compliance with the License.\n",
              "// You may obtain a copy of the License at\n",
              "//\n",
              "//      http://www.apache.org/licenses/LICENSE-2.0\n",
              "//\n",
              "// Unless required by applicable law or agreed to in writing, software\n",
              "// distributed under the License is distributed on an \"AS IS\" BASIS,\n",
              "// WITHOUT WARRANTIES OR CONDITIONS OF ANY KIND, either express or implied.\n",
              "// See the License for the specific language governing permissions and\n",
              "// limitations under the License.\n",
              "\n",
              "/**\n",
              " * @fileoverview Helpers for google.colab Python module.\n",
              " */\n",
              "(function(scope) {\n",
              "function span(text, styleAttributes = {}) {\n",
              "  const element = document.createElement('span');\n",
              "  element.textContent = text;\n",
              "  for (const key of Object.keys(styleAttributes)) {\n",
              "    element.style[key] = styleAttributes[key];\n",
              "  }\n",
              "  return element;\n",
              "}\n",
              "\n",
              "// Max number of bytes which will be uploaded at a time.\n",
              "const MAX_PAYLOAD_SIZE = 100 * 1024;\n",
              "\n",
              "function _uploadFiles(inputId, outputId) {\n",
              "  const steps = uploadFilesStep(inputId, outputId);\n",
              "  const outputElement = document.getElementById(outputId);\n",
              "  // Cache steps on the outputElement to make it available for the next call\n",
              "  // to uploadFilesContinue from Python.\n",
              "  outputElement.steps = steps;\n",
              "\n",
              "  return _uploadFilesContinue(outputId);\n",
              "}\n",
              "\n",
              "// This is roughly an async generator (not supported in the browser yet),\n",
              "// where there are multiple asynchronous steps and the Python side is going\n",
              "// to poll for completion of each step.\n",
              "// This uses a Promise to block the python side on completion of each step,\n",
              "// then passes the result of the previous step as the input to the next step.\n",
              "function _uploadFilesContinue(outputId) {\n",
              "  const outputElement = document.getElementById(outputId);\n",
              "  const steps = outputElement.steps;\n",
              "\n",
              "  const next = steps.next(outputElement.lastPromiseValue);\n",
              "  return Promise.resolve(next.value.promise).then((value) => {\n",
              "    // Cache the last promise value to make it available to the next\n",
              "    // step of the generator.\n",
              "    outputElement.lastPromiseValue = value;\n",
              "    return next.value.response;\n",
              "  });\n",
              "}\n",
              "\n",
              "/**\n",
              " * Generator function which is called between each async step of the upload\n",
              " * process.\n",
              " * @param {string} inputId Element ID of the input file picker element.\n",
              " * @param {string} outputId Element ID of the output display.\n",
              " * @return {!Iterable<!Object>} Iterable of next steps.\n",
              " */\n",
              "function* uploadFilesStep(inputId, outputId) {\n",
              "  const inputElement = document.getElementById(inputId);\n",
              "  inputElement.disabled = false;\n",
              "\n",
              "  const outputElement = document.getElementById(outputId);\n",
              "  outputElement.innerHTML = '';\n",
              "\n",
              "  const pickedPromise = new Promise((resolve) => {\n",
              "    inputElement.addEventListener('change', (e) => {\n",
              "      resolve(e.target.files);\n",
              "    });\n",
              "  });\n",
              "\n",
              "  const cancel = document.createElement('button');\n",
              "  inputElement.parentElement.appendChild(cancel);\n",
              "  cancel.textContent = 'Cancel upload';\n",
              "  const cancelPromise = new Promise((resolve) => {\n",
              "    cancel.onclick = () => {\n",
              "      resolve(null);\n",
              "    };\n",
              "  });\n",
              "\n",
              "  // Wait for the user to pick the files.\n",
              "  const files = yield {\n",
              "    promise: Promise.race([pickedPromise, cancelPromise]),\n",
              "    response: {\n",
              "      action: 'starting',\n",
              "    }\n",
              "  };\n",
              "\n",
              "  cancel.remove();\n",
              "\n",
              "  // Disable the input element since further picks are not allowed.\n",
              "  inputElement.disabled = true;\n",
              "\n",
              "  if (!files) {\n",
              "    return {\n",
              "      response: {\n",
              "        action: 'complete',\n",
              "      }\n",
              "    };\n",
              "  }\n",
              "\n",
              "  for (const file of files) {\n",
              "    const li = document.createElement('li');\n",
              "    li.append(span(file.name, {fontWeight: 'bold'}));\n",
              "    li.append(span(\n",
              "        `(${file.type || 'n/a'}) - ${file.size} bytes, ` +\n",
              "        `last modified: ${\n",
              "            file.lastModifiedDate ? file.lastModifiedDate.toLocaleDateString() :\n",
              "                                    'n/a'} - `));\n",
              "    const percent = span('0% done');\n",
              "    li.appendChild(percent);\n",
              "\n",
              "    outputElement.appendChild(li);\n",
              "\n",
              "    const fileDataPromise = new Promise((resolve) => {\n",
              "      const reader = new FileReader();\n",
              "      reader.onload = (e) => {\n",
              "        resolve(e.target.result);\n",
              "      };\n",
              "      reader.readAsArrayBuffer(file);\n",
              "    });\n",
              "    // Wait for the data to be ready.\n",
              "    let fileData = yield {\n",
              "      promise: fileDataPromise,\n",
              "      response: {\n",
              "        action: 'continue',\n",
              "      }\n",
              "    };\n",
              "\n",
              "    // Use a chunked sending to avoid message size limits. See b/62115660.\n",
              "    let position = 0;\n",
              "    do {\n",
              "      const length = Math.min(fileData.byteLength - position, MAX_PAYLOAD_SIZE);\n",
              "      const chunk = new Uint8Array(fileData, position, length);\n",
              "      position += length;\n",
              "\n",
              "      const base64 = btoa(String.fromCharCode.apply(null, chunk));\n",
              "      yield {\n",
              "        response: {\n",
              "          action: 'append',\n",
              "          file: file.name,\n",
              "          data: base64,\n",
              "        },\n",
              "      };\n",
              "\n",
              "      let percentDone = fileData.byteLength === 0 ?\n",
              "          100 :\n",
              "          Math.round((position / fileData.byteLength) * 100);\n",
              "      percent.textContent = `${percentDone}% done`;\n",
              "\n",
              "    } while (position < fileData.byteLength);\n",
              "  }\n",
              "\n",
              "  // All done.\n",
              "  yield {\n",
              "    response: {\n",
              "      action: 'complete',\n",
              "    }\n",
              "  };\n",
              "}\n",
              "\n",
              "scope.google = scope.google || {};\n",
              "scope.google.colab = scope.google.colab || {};\n",
              "scope.google.colab._files = {\n",
              "  _uploadFiles,\n",
              "  _uploadFilesContinue,\n",
              "};\n",
              "})(self);\n",
              "</script> "
            ]
          },
          "metadata": {}
        },
        {
          "output_type": "stream",
          "name": "stdout",
          "text": [
            "Saving MetacriticAlbums.tsv to MetacriticAlbums.tsv\n",
            "User uploaded file \"MetacriticAlbums.tsv\" with length 510740 bytes\n"
          ]
        }
      ],
      "source": [
        "from google.colab import files\n",
        "\n",
        "uploaded = files.upload()\n",
        "\n",
        "for fn in uploaded.keys():\n",
        "    print('User uploaded file \"{name}\" with length {length} bytes'.format(\n",
        "        name=fn, length=len(uploaded[fn])))\n"
      ]
    },
    {
      "cell_type": "code",
      "execution_count": null,
      "metadata": {
        "id": "QPDCJqnmVk0y"
      },
      "outputs": [],
      "source": [
        "# Load data\n",
        "complete_df = pd.read_csv('MetacriticAlbums.tsv', sep='\\t')\n",
        "\n",
        "# Remove rows with duplicate 'DBpedia_URI'\n",
        "complete_df.drop_duplicates(subset=['DBpedia_URI'], keep=False, inplace=True)\n",
        "\n",
        "entities = complete_df['DBpedia_URI'].tolist()\n",
        "labels = complete_df['label'].tolist()\n",
        "reg_targets = complete_df['rating'].tolist()"
      ]
    },
    {
      "cell_type": "code",
      "execution_count": null,
      "metadata": {
        "colab": {
          "base_uri": "https://localhost:8080/"
        },
        "id": "GgFpUtaRBGak",
        "outputId": "c1a6a543-d44d-4087-ffc8-d491463deca5"
      },
      "outputs": [
        {
          "output_type": "stream",
          "name": "stdout",
          "text": [
            "1584\n"
          ]
        }
      ],
      "source": [
        "print(len(entities))"
      ]
    },
    {
      "cell_type": "code",
      "execution_count": null,
      "metadata": {
        "id": "s934hZMNBGX5"
      },
      "outputs": [],
      "source": [
        "# Filter out entities and relationships directly related to Albums Dataset\n",
        "with open(\"/content/drive/My Drive/dbpedia_files/direct_merged_dbpedia.ttl\", \"r\") as file, open(\"direct_albums_filtered_dbpedia.ttl\", \"w\") as out_file:\n",
        "    for line in file:\n",
        "        triple = line.strip().split()\n",
        "        if len(triple) > 2:\n",
        "            # Check if the subject or object of the triple is in our album URL list\n",
        "            if triple[0].strip('<>') in entities or triple[2].strip('<>') in entities:\n",
        "                out_file.write(line)"
      ]
    },
    {
      "cell_type": "code",
      "execution_count": null,
      "metadata": {
        "id": "i--r5obPBGVT"
      },
      "outputs": [],
      "source": [
        "# Filter out entities and relationships directly or indirectly related to Cities Dataset\n",
        "entities_related_to_albums = set(entities)\n",
        "new_entities = set(entities)\n",
        "iteration_count = 0\n",
        "\n",
        "while new_entities and iteration_count < 2:\n",
        "    temp_entities = set()\n",
        "    with open(\"/content/drive/My Drive/dbpedia_files/indirect_merged_dbpedia.ttl\", \"r\") as file:\n",
        "        for line in file:\n",
        "            triple = line.strip().split()\n",
        "            if len(triple) > 2 and (triple[0].strip('<>') in new_entities or triple[2].strip('<>') in new_entities):\n",
        "                    temp_entities.add(triple[0].strip('<>'))\n",
        "                    temp_entities.add(triple[2].strip('<>'))\n",
        "\n",
        "    new_entities = temp_entities - entities_related_to_albums\n",
        "    entities_related_to_albums.update(new_entities)\n",
        "    iteration_count += 1\n",
        "\n",
        "# Finally, we can write all triples that are directly or indirectly related to entities in the `entities_related_to_cities` collection\n",
        "with open(\"/content/drive/My Drive/dbpedia_files/indirect_merged_dbpedia.ttl\", \"r\") as file, open(\"indirect_albums_filtered_dbpedia.ttl\", \"w\") as out_file:\n",
        "    for line in file:\n",
        "        triple = line.strip().split()\n",
        "        if len(triple) > 2 and (triple[0].strip('<>') in entities_related_to_albums or triple[2].strip('<>') in entities_related_to_albums):\n",
        "            out_file.write(line)\n"
      ]
    },
    {
      "cell_type": "code",
      "execution_count": null,
      "metadata": {
        "colab": {
          "base_uri": "https://localhost:8080/"
        },
        "id": "ybWLWubUBGSv",
        "outputId": "05450bef-8ac9-4f5c-d15d-5d07621578b1"
      },
      "outputs": [
        {
          "name": "stdout",
          "output_type": "stream",
          "text": [
            "Files have been merged into merged.ttl\n"
          ]
        }
      ],
      "source": [
        "# Define the list of files\n",
        "files_to_merge = [\n",
        "    \"direct_albums_filtered_dbpedia.ttl\",\n",
        "    \"indirect_albums_filtered_dbpedia.ttl\"\n",
        "]\n",
        "\n",
        "# Merge files\n",
        "with open(\"albums_filtered_dbpedia.ttl\", \"w\") as outfile:\n",
        "    for file in files_to_merge:\n",
        "        with open(file, \"r\") as infile:\n",
        "            for line in infile:\n",
        "                outfile.write(line)\n",
        "\n",
        "print(\"Files have been merged into merged.ttl\")\n"
      ]
    },
    {
      "cell_type": "code",
      "execution_count": null,
      "metadata": {
        "colab": {
          "base_uri": "https://localhost:8080/"
        },
        "id": "bWGARW7hBGQE",
        "outputId": "7b06ea04-7763-493f-ad66-635d19038f8f"
      },
      "outputs": [
        {
          "name": "stdout",
          "output_type": "stream",
          "text": [
            "Finished filtering albums_filtered_dbpedia.ttl and saved the result to cleaned_albums_filtered_dbpedia.ttl\n"
          ]
        }
      ],
      "source": [
        "input_file = \"albums_filtered_dbpedia.ttl\"\n",
        "output_file = \"cleaned_albums_filtered_dbpedia.ttl\"\n",
        "\n",
        "with open(input_file, 'r') as infile, open(output_file, 'w') as outfile:\n",
        "    for line in infile:\n",
        "        # Determine whether it is a comment or a blank line\n",
        "        if line.startswith(\"#\") or line.strip() == \"\":\n",
        "            continue\n",
        "\n",
        "        # Split triples\n",
        "        triple = line.strip().split()\n",
        "\n",
        "        # Make sure this is a complete triplet\n",
        "        if len(triple) > 2:\n",
        "            # Check whether the object starts with \"http://dbpedia.org/resource/\"\n",
        "            if triple[2].startswith(\"<http://dbpedia.org/resource/\"):\n",
        "                outfile.write(line)\n",
        "\n",
        "print(f\"Finished filtering {input_file} and saved the result to {output_file}\")\n"
      ]
    },
    {
      "cell_type": "code",
      "execution_count": null,
      "metadata": {
        "colab": {
          "base_uri": "https://localhost:8080/"
        },
        "id": "bqvKM8VuBGNR",
        "outputId": "13d1ef58-8dc2-4947-d564-074b4e86c8db"
      },
      "outputs": [
        {
          "name": "stdout",
          "output_type": "stream",
          "text": [
            "<http://dbpedia.org/resource/Songs_for_the_Deaf> <http://dbpedia.org/property/studio> <http://dbpedia.org/resource/Conway_Recording_Studios> .\n",
            "<http://dbpedia.org/resource/Songs_for_the_Deaf> <http://dbpedia.org/property/rev> <http://dbpedia.org/resource/AllMusic> .\n",
            "<http://dbpedia.org/resource/Songs_for_the_Deaf> <http://dbpedia.org/property/rev> <http://dbpedia.org/resource/Pitchfork_Media> .\n",
            "<http://dbpedia.org/resource/Songs_for_the_Deaf> <http://dbpedia.org/property/writer> <http://dbpedia.org/resource/Josh_Homme> .\n",
            "<http://dbpedia.org/resource/Songs_for_the_Deaf> <http://dbpedia.org/property/writer> <http://dbpedia.org/resource/Mario_Lalli> .\n",
            "<http://dbpedia.org/resource/Songs_for_the_Deaf> <http://dbpedia.org/property/extra> <http://dbpedia.org/resource/Nick_Oliveri> .\n",
            "<http://dbpedia.org/resource/Songs_for_the_Deaf> <http://dbpedia.org/property/title> <http://dbpedia.org/resource/No_One_Knows> .\n",
            "<http://dbpedia.org/resource/Songs_for_the_Deaf> <http://dbpedia.org/property/title> <http://dbpedia.org/resource/First_It_Giveth> .\n",
            "<http://dbpedia.org/resource/Songs_for_the_Deaf> <http://dbpedia.org/property/title> <http://dbpedia.org/resource/Go_with_the_Flow> .\n",
            "<http://dbpedia.org/resource/Conspiracy_of_One> <http://dbpedia.org/property/rev> <http://dbpedia.org/resource/AllMusic> .\n"
          ]
        }
      ],
      "source": [
        "!head -n 10 cleaned_albums_filtered_dbpedia.ttl"
      ]
    },
    {
      "cell_type": "code",
      "execution_count": null,
      "metadata": {
        "colab": {
          "base_uri": "https://localhost:8080/"
        },
        "id": "YA8sjY6nBGKl",
        "outputId": "dd116181-5b62-450e-9f06-9392400c9d24"
      },
      "outputs": [
        {
          "name": "stdout",
          "output_type": "stream",
          "text": [
            "File saved to /content/drive/My Drive/dbpedia_files\n"
          ]
        }
      ],
      "source": [
        "import shutil\n",
        "\n",
        "destination_path = \"/content/drive/My Drive/dbpedia_files\"\n",
        "\n",
        "shutil.copy(\"cleaned_albums_filtered_dbpedia.ttl\", destination_path)\n",
        "\n",
        "print(f\"File saved to {destination_path}\")"
      ]
    },
    {
      "cell_type": "code",
      "execution_count": null,
      "metadata": {
        "id": "DJ-XSx0KBGHi"
      },
      "outputs": [],
      "source": [
        "from pandas.core.frame import fmt\n",
        "\n",
        "# Create a knowledge graph\n",
        "kg = KG(\"/content/drive/My Drive/dbpedia_files/cleaned_albums_filtered_dbpedia.ttl\", fmt='turtle')\n",
        "\n",
        "kgentities = kg._entities"
      ]
    },
    {
      "cell_type": "code",
      "execution_count": null,
      "metadata": {
        "colab": {
          "base_uri": "https://localhost:8080/"
        },
        "id": "I7lYmVJiD7JW",
        "outputId": "3d8d22e1-9d20-4f93-d6a5-4d097c383194"
      },
      "outputs": [
        {
          "name": "stdout",
          "output_type": "stream",
          "text": [
            "http://dbpedia.org/resource/Illinois_(album)\n",
            "http://dbpedia.org/resource/Hell_Hath_No_Fury\n",
            "http://dbpedia.org/resource/Jj_n%C2%B0_2\n",
            "http://dbpedia.org/resource/Life..._The_Best_Game_in_Town\n",
            "http://dbpedia.org/resource/Second_Chance_(album)\n",
            "http://dbpedia.org/resource/Sugar_Mountain_%E2%80%93_Live_at_Canterbury_House_1968\n",
            "http://dbpedia.org/resource/Quantic_&_Alice_Russell:_Look_Around_The_Corner\n",
            "http://dbpedia.org/resource/03/07%E2%80%9309/07\n",
            "http://dbpedia.org/resource/Hold_on_Now,_Youngster\n",
            "http://dbpedia.org/resource/The_Evangelist\n",
            "http://dbpedia.org/resource/Life_Cycles_(album)\n",
            "http://dbpedia.org/resource/Time_to_Die\n",
            "http://dbpedia.org/resource/Body_Language_Live\n",
            "http://dbpedia.org/resource/In_Some_Way,_Shape_or_Form\n",
            "http://dbpedia.org/resource/The_Oracle_(album)\n",
            "http://dbpedia.org/resource/Ariels\n",
            "http://dbpedia.org/resource/Legion_of_Boom\n",
            "http://dbpedia.org/resource/Mr._A%E2%80%93Z\n",
            "http://dbpedia.org/resource/What_Is_Love%3F_(album)\n",
            "http://dbpedia.org/resource/Wild_Ones_(album)\n"
          ]
        }
      ],
      "source": [
        "for e in entities:\n",
        "    found = False\n",
        "    for ekg in kgentities:\n",
        "        s = ekg.name\n",
        "        if s==e:\n",
        "            found = True\n",
        "    if not found:\n",
        "        print(e)"
      ]
    },
    {
      "cell_type": "code",
      "execution_count": null,
      "metadata": {
        "id": "eNedbdIuD7Ge"
      },
      "outputs": [],
      "source": [
        "# Entities not in KG\n",
        "absent_entities = [\n",
        "    \"http://dbpedia.org/resource/Illinois_(album)\",\n",
        "    \"http://dbpedia.org/resource/Hell_Hath_No_Fury\",\n",
        "    \"http://dbpedia.org/resource/Jj_n%C2%B0_2\",\n",
        "    \"http://dbpedia.org/resource/Life..._The_Best_Game_in_Town\",\n",
        "    \"http://dbpedia.org/resource/Second_Chance_(album)\",\n",
        "    \"http://dbpedia.org/resource/Sugar_Mountain_%E2%80%93_Live_at_Canterbury_House_1968\",\n",
        "    \"http://dbpedia.org/resource/Quantic_&_Alice_Russell:_Look_Around_The_Corner\",\n",
        "    \"http://dbpedia.org/resource/03/07%E2%80%9309/07\",\n",
        "    \"http://dbpedia.org/resource/Hold_on_Now,_Youngster\",\n",
        "    \"http://dbpedia.org/resource/The_Evangelist\",\n",
        "    \"http://dbpedia.org/resource/Life_Cycles_(album)\",\n",
        "    \"http://dbpedia.org/resource/Time_to_Die\",\n",
        "    \"http://dbpedia.org/resource/Body_Language_Live\",\n",
        "    \"http://dbpedia.org/resource/In_Some_Way,_Shape_or_Form\",\n",
        "    \"http://dbpedia.org/resource/The_Oracle_(album)\",\n",
        "    \"http://dbpedia.org/resource/Ariels\",\n",
        "    \"http://dbpedia.org/resource/Legion_of_Boom\",\n",
        "    \"http://dbpedia.org/resource/Mr._A%E2%80%93Z\",\n",
        "    \"http://dbpedia.org/resource/What_Is_Love%3F_(album)\",\n",
        "    \"http://dbpedia.org/resource/Wild_Ones_(album)\"\n",
        "]\n",
        "\n",
        "# Filter out absent entities\n",
        "filtered_entities = [e for e in entities if e not in absent_entities]\n",
        "filtered_labels = [label for entity, label in zip(entities, labels) if entity not in absent_entities]\n",
        "filtered_reg_targets = [reg_targets for entity, reg_targets in zip(entities, reg_targets) if entity not in absent_entities]"
      ]
    },
    {
      "cell_type": "code",
      "execution_count": null,
      "metadata": {
        "colab": {
          "base_uri": "https://localhost:8080/"
        },
        "id": "0sBB3IQGWLHp",
        "outputId": "9cf4cab7-68f4-4ae3-96e6-1f0a236c6489"
      },
      "outputs": [
        {
          "output_type": "stream",
          "name": "stdout",
          "text": [
            "1564\n"
          ]
        }
      ],
      "source": [
        "print(len(filtered_entities))"
      ]
    },
    {
      "cell_type": "code",
      "execution_count": null,
      "metadata": {
        "id": "DaVeOUVJs5Cq"
      },
      "outputs": [],
      "source": [
        "for e in filtered_entities:\n",
        "    found = False\n",
        "    for ekg in kgentities:\n",
        "        s = ekg.name\n",
        "        if s==e:\n",
        "            found = True\n",
        "    if not found:\n",
        "        print(e)"
      ]
    },
    {
      "cell_type": "markdown",
      "metadata": {
        "id": "mUNfuSJ7ETuq"
      },
      "source": [
        "Prepare for Knowledge Graph"
      ]
    },
    {
      "cell_type": "code",
      "execution_count": null,
      "metadata": {
        "id": "s_u1S7vhD7D0"
      },
      "outputs": [],
      "source": [
        "from rdflib import Graph, URIRef, Literal, Namespace\n",
        "import networkx as nx"
      ]
    },
    {
      "cell_type": "code",
      "execution_count": null,
      "metadata": {
        "colab": {
          "base_uri": "https://localhost:8080/"
        },
        "id": "Pk5G0mz9D7BM",
        "outputId": "296e509e-6926-445e-e883-9a8ce9f28160"
      },
      "outputs": [
        {
          "output_type": "execute_result",
          "data": {
            "text/plain": [
              "<Graph identifier=Na27422591d364b6ca42e8d9f005e7583 (<class 'rdflib.graph.Graph'>)>"
            ]
          },
          "metadata": {},
          "execution_count": 12
        }
      ],
      "source": [
        "# Load the graph from the input file\n",
        "graph = Graph()\n",
        "graph.parse(\"/content/drive/My Drive/dbpedia_files/cleaned_albums_filtered_dbpedia.ttl\", format=\"turtle\")"
      ]
    },
    {
      "cell_type": "code",
      "execution_count": null,
      "metadata": {
        "id": "wpphTcOcD6-X"
      },
      "outputs": [],
      "source": [
        "G = nx.DiGraph()  # Create a directed graph\n",
        "\n",
        "for s, p, o in graph:\n",
        "    G.add_edge(s, o, predicate=p)"
      ]
    },
    {
      "cell_type": "code",
      "execution_count": null,
      "metadata": {
        "colab": {
          "base_uri": "https://localhost:8080/"
        },
        "id": "5nhzvsOrEf0f",
        "outputId": "ef7f746b-b6ca-4e40-95a6-9e298c462b88"
      },
      "outputs": [
        {
          "name": "stdout",
          "output_type": "stream",
          "text": [
            "The DBpedia knowledge graph as of 2016-10 has 2663803 nodes and 7440404 edges.\n"
          ]
        }
      ],
      "source": [
        "#Exhibihate the size of subgraph：The number of nodes and edges in the subgraph.\n",
        "num_nodes = len(G.nodes())\n",
        "num_edges = len(G.edges())\n",
        "print(\"The DBpedia knowledge graph as of 2016-10 has \" + str(num_nodes) + \" nodes and \" + str(num_edges) + \" edges.\")"
      ]
    },
    {
      "cell_type": "markdown",
      "metadata": {
        "id": "ChbLh0lYEl7K"
      },
      "source": [
        "Classification & Regression tasks based graph embeddings without SA"
      ]
    },
    {
      "cell_type": "code",
      "execution_count": null,
      "metadata": {
        "id": "qicvpPNHEfxu"
      },
      "outputs": [],
      "source": [
        "from sklearn.model_selection import StratifiedKFold, cross_val_score, GridSearchCV, KFold\n",
        "from sklearn.naive_bayes import GaussianNB\n",
        "from sklearn.tree import DecisionTreeClassifier, DecisionTreeRegressor\n",
        "from sklearn.neighbors import KNeighborsClassifier, KNeighborsRegressor\n",
        "from sklearn.svm import SVC, SVR\n",
        "from sklearn.linear_model import LinearRegression\n",
        "from sklearn.metrics import make_scorer, mean_squared_error\n",
        "import pandas as pd"
      ]
    },
    {
      "cell_type": "code",
      "execution_count": null,
      "metadata": {
        "id": "EOnsRI-0EfvA"
      },
      "outputs": [],
      "source": [
        "# Initialize the results dataframe\n",
        "results = pd.DataFrame(columns=['Embedding Mode', 'Dimensions', 'Classifier/Regressor', 'Metric', 'Score'])\n",
        "\n",
        "# Define the walker with depth 4 and 500 walks per entity\n",
        "walker = RandomWalker(4, 500, random_state=42)\n",
        "\n",
        "# Train the embeddings for different configurations\n",
        "for mode in ['cbow', 'sg']:\n",
        "    for dim in [50, 100, 200]:\n",
        "        # 1. Generate embeddings\n",
        "        sg = 1 if mode == 'sg' else 0\n",
        "        embedder = Word2Vec(sg=sg, window=5, negative=25, vector_size=dim, workers=1, sample=0, ns_exponent=0.75, epochs=5)\n",
        "\n",
        "        # Initialize an empty list to store embeddings\n",
        "        all_embeddings = []\n",
        "\n",
        "        # Define the batch ranges\n",
        "        batches = [(812, 825), (825, 850), (850, 900), (900, 1000), (1000, 1190), (1190, 1385), (1385, 1482), (1482, 1581)]\n",
        "\n",
        "        # Loop through each batch range\n",
        "        for start, end in batches:\n",
        "            batch = filtered_entities[start:end]\n",
        "            print(f\"Processing batch {start}-{end} with {len(batch)} entities...\")\n",
        "\n",
        "            # Initialize a new transformer for each batch\n",
        "            transformer = RDF2VecTransformer(embedder=embedder, walkers=[walker])\n",
        "\n",
        "            try:\n",
        "                embeddings, _ = transformer.fit_transform(kg, batch)\n",
        "                all_embeddings.extend(embeddings)\n",
        "            except Exception as e:\n",
        "                print(f\"An error occurred while processing batch {start}-{end}: {e}\")\n",
        "\n",
        "        # 2. Perform classification and regression tasks\n",
        "        skf = StratifiedKFold(n_splits=3)\n",
        "        kf = KFold(n_splits=3)\n",
        "\n",
        "        # Classification\n",
        "        classifiers = {\n",
        "            'Naive Bayes': GaussianNB(),\n",
        "            'C4.5': DecisionTreeClassifier(),\n",
        "            'KNN (k=3)': KNeighborsClassifier(n_neighbors=3),\n",
        "            #'SVM': GridSearchCV(SVC(), param_grid={'C': [10**-3, 10**-2, 0.1, 1, 10, 10**2, 10**3]})\n",
        "        }\n",
        "\n",
        "        for name, clf in classifiers.items():\n",
        "            scores = cross_val_score(clf, embeddings, filtered_labels[1482:1581], cv=skf, scoring='accuracy')\n",
        "            results = results.append({'Embedding Mode': mode, 'Dimensions': dim, 'Classifier/Regressor': name, 'Metric': 'Accuracy', 'Score': scores.mean()}, ignore_index=True)\n",
        "\n",
        "        # Regression\n",
        "        regressors = {\n",
        "            'Linear Regression': LinearRegression(),\n",
        "            'KNN (k=3) Regressor': KNeighborsRegressor(n_neighbors=3),\n",
        "            'M5Rules': DecisionTreeRegressor()\n",
        "        }\n",
        "\n",
        "        for name, reg in regressors.items():\n",
        "            rmse_scorer = make_scorer(mean_squared_error, squared=False)\n",
        "            scores = cross_val_score(reg, embeddings, filtered_reg_targets[1482:1581], cv=kf, scoring=rmse_scorer)\n",
        "            results = results.append({'Embedding Mode': mode, 'Dimensions': dim, 'Classifier/Regressor': name, 'Metric': 'RMSE', 'Score': scores.mean()}, ignore_index=True)\n",
        "\n",
        "# Save the results\n",
        "results.to_csv('ttl_class_reg_results.csv')"
      ]
    },
    {
      "cell_type": "code",
      "execution_count": null,
      "metadata": {
        "id": "rxpStEU-W6hW"
      },
      "outputs": [],
      "source": [
        "# Initialize the results dataframe\n",
        "results = pd.DataFrame(columns=['Embedding Mode', 'Dimensions', 'Classifier/Regressor', 'Metric', 'Score'])\n",
        "\n",
        "# Define the walker with depth 4 and 500 walks per entity\n",
        "walker = RandomWalker(4, 500, with_reverse=False)\n",
        "\n",
        "# Train the embeddings for different configurations\n",
        "for mode in ['cbow', 'sg']:\n",
        "    for dim in [50, 100, 200]:\n",
        "        # 1. Generate embeddings\n",
        "        sg = 1 if mode == 'sg' else 0\n",
        "        embedder = Word2Vec(sg=sg, window=5, negative=25, vector_size=dim, sample=0, ns_exponent=0.75, epochs=5)\n",
        "        transformer = RDF2VecTransformer(embedder=embedder, walkers=[walker])\n",
        "\n",
        "        embeddings,_ = transformer.fit_transform(kg, filtered_entities)\n",
        "\n",
        "        # 2. Perform classification and regression tasks\n",
        "        skf = StratifiedKFold(n_splits=10)\n",
        "        kf = KFold(n_splits=10)\n",
        "\n",
        "        # Classification\n",
        "        classifiers = {\n",
        "            'Naive Bayes': GaussianNB(),\n",
        "            'C4.5': DecisionTreeClassifier(),\n",
        "            'KNN (k=3)': KNeighborsClassifier(n_neighbors=3),\n",
        "            'SVM': GridSearchCV(SVC(), param_grid={'C': [10**-3, 10**-2, 0.1, 1, 10, 10**2, 10**3]})\n",
        "        }\n",
        "\n",
        "        for name, clf in classifiers.items():\n",
        "            scores = cross_val_score(clf, embeddings, filtered_labels, cv=skf, scoring='accuracy')\n",
        "            results = results.append({'Embedding Mode': mode, 'Dimensions': dim, 'Classifier/Regressor': name, 'Metric': 'Accuracy', 'Score': scores.mean()}, ignore_index=True)\n",
        "\n",
        "        # Regression\n",
        "        regressors = {\n",
        "            'Linear Regression': LinearRegression(),\n",
        "            'KNN (k=3) Regressor': KNeighborsRegressor(n_neighbors=3),\n",
        "            'M5Rules': DecisionTreeRegressor()\n",
        "        }\n",
        "\n",
        "        for name, reg in regressors.items():\n",
        "            rmse_scorer = make_scorer(mean_squared_error, squared=False)\n",
        "            scores = cross_val_score(reg, embeddings, filtered_reg_targets, cv=kf, scoring=rmse_scorer)\n",
        "            results = results.append({'Embedding Mode': mode, 'Dimensions': dim, 'Classifier/Regressor': name, 'Metric': 'RMSE', 'Score': scores.mean()}, ignore_index=True)\n",
        "\n",
        "# Save the results\n",
        "results.to_csv('pure_class_reg_results.csv')"
      ]
    },
    {
      "cell_type": "code",
      "execution_count": null,
      "metadata": {
        "colab": {
          "base_uri": "https://localhost:8080/"
        },
        "id": "wvXkvqHrEfsa",
        "outputId": "a7f65d1f-e89f-4ff1-9dff-20c6806b251f"
      },
      "outputs": [
        {
          "name": "stdout",
          "output_type": "stream",
          "text": [
            "  Embedding Mode Dimensions Classifier/Regressor    Metric      Score\n",
            "0           cbow         50          Naive Bayes  Accuracy   0.680316\n",
            "1           cbow         50                 C4.5  Accuracy   0.603520\n",
            "2           cbow         50            KNN (k=3)  Accuracy   0.723812\n",
            "3           cbow         50                  SVM  Accuracy   0.751262\n",
            "4           cbow         50    Linear Regression      RMSE  14.847997\n"
          ]
        }
      ],
      "source": [
        "print(results.head())"
      ]
    },
    {
      "cell_type": "markdown",
      "metadata": {
        "id": "yFLAKLjKJhT3"
      },
      "source": [
        "Classification & Regression tasks based graph embeddings extracted on subgraph base on SA with BFS"
      ]
    },
    {
      "cell_type": "code",
      "execution_count": null,
      "metadata": {
        "colab": {
          "base_uri": "https://localhost:8080/",
          "height": 108
        },
        "id": "Rloi4pZEEfpc",
        "outputId": "c4fc3c25-258a-4e96-a517-b8be0eb34d6a"
      },
      "outputs": [
        {
          "output_type": "display_data",
          "data": {
            "text/plain": [
              "<IPython.core.display.HTML object>"
            ],
            "text/html": [
              "\n",
              "     <input type=\"file\" id=\"files-5755f142-4ffd-42db-be71-3c223cb0d6ac\" name=\"files[]\" multiple disabled\n",
              "        style=\"border:none\" />\n",
              "     <output id=\"result-5755f142-4ffd-42db-be71-3c223cb0d6ac\">\n",
              "      Upload widget is only available when the cell has been executed in the\n",
              "      current browser session. Please rerun this cell to enable.\n",
              "      </output>\n",
              "      <script>// Copyright 2017 Google LLC\n",
              "//\n",
              "// Licensed under the Apache License, Version 2.0 (the \"License\");\n",
              "// you may not use this file except in compliance with the License.\n",
              "// You may obtain a copy of the License at\n",
              "//\n",
              "//      http://www.apache.org/licenses/LICENSE-2.0\n",
              "//\n",
              "// Unless required by applicable law or agreed to in writing, software\n",
              "// distributed under the License is distributed on an \"AS IS\" BASIS,\n",
              "// WITHOUT WARRANTIES OR CONDITIONS OF ANY KIND, either express or implied.\n",
              "// See the License for the specific language governing permissions and\n",
              "// limitations under the License.\n",
              "\n",
              "/**\n",
              " * @fileoverview Helpers for google.colab Python module.\n",
              " */\n",
              "(function(scope) {\n",
              "function span(text, styleAttributes = {}) {\n",
              "  const element = document.createElement('span');\n",
              "  element.textContent = text;\n",
              "  for (const key of Object.keys(styleAttributes)) {\n",
              "    element.style[key] = styleAttributes[key];\n",
              "  }\n",
              "  return element;\n",
              "}\n",
              "\n",
              "// Max number of bytes which will be uploaded at a time.\n",
              "const MAX_PAYLOAD_SIZE = 100 * 1024;\n",
              "\n",
              "function _uploadFiles(inputId, outputId) {\n",
              "  const steps = uploadFilesStep(inputId, outputId);\n",
              "  const outputElement = document.getElementById(outputId);\n",
              "  // Cache steps on the outputElement to make it available for the next call\n",
              "  // to uploadFilesContinue from Python.\n",
              "  outputElement.steps = steps;\n",
              "\n",
              "  return _uploadFilesContinue(outputId);\n",
              "}\n",
              "\n",
              "// This is roughly an async generator (not supported in the browser yet),\n",
              "// where there are multiple asynchronous steps and the Python side is going\n",
              "// to poll for completion of each step.\n",
              "// This uses a Promise to block the python side on completion of each step,\n",
              "// then passes the result of the previous step as the input to the next step.\n",
              "function _uploadFilesContinue(outputId) {\n",
              "  const outputElement = document.getElementById(outputId);\n",
              "  const steps = outputElement.steps;\n",
              "\n",
              "  const next = steps.next(outputElement.lastPromiseValue);\n",
              "  return Promise.resolve(next.value.promise).then((value) => {\n",
              "    // Cache the last promise value to make it available to the next\n",
              "    // step of the generator.\n",
              "    outputElement.lastPromiseValue = value;\n",
              "    return next.value.response;\n",
              "  });\n",
              "}\n",
              "\n",
              "/**\n",
              " * Generator function which is called between each async step of the upload\n",
              " * process.\n",
              " * @param {string} inputId Element ID of the input file picker element.\n",
              " * @param {string} outputId Element ID of the output display.\n",
              " * @return {!Iterable<!Object>} Iterable of next steps.\n",
              " */\n",
              "function* uploadFilesStep(inputId, outputId) {\n",
              "  const inputElement = document.getElementById(inputId);\n",
              "  inputElement.disabled = false;\n",
              "\n",
              "  const outputElement = document.getElementById(outputId);\n",
              "  outputElement.innerHTML = '';\n",
              "\n",
              "  const pickedPromise = new Promise((resolve) => {\n",
              "    inputElement.addEventListener('change', (e) => {\n",
              "      resolve(e.target.files);\n",
              "    });\n",
              "  });\n",
              "\n",
              "  const cancel = document.createElement('button');\n",
              "  inputElement.parentElement.appendChild(cancel);\n",
              "  cancel.textContent = 'Cancel upload';\n",
              "  const cancelPromise = new Promise((resolve) => {\n",
              "    cancel.onclick = () => {\n",
              "      resolve(null);\n",
              "    };\n",
              "  });\n",
              "\n",
              "  // Wait for the user to pick the files.\n",
              "  const files = yield {\n",
              "    promise: Promise.race([pickedPromise, cancelPromise]),\n",
              "    response: {\n",
              "      action: 'starting',\n",
              "    }\n",
              "  };\n",
              "\n",
              "  cancel.remove();\n",
              "\n",
              "  // Disable the input element since further picks are not allowed.\n",
              "  inputElement.disabled = true;\n",
              "\n",
              "  if (!files) {\n",
              "    return {\n",
              "      response: {\n",
              "        action: 'complete',\n",
              "      }\n",
              "    };\n",
              "  }\n",
              "\n",
              "  for (const file of files) {\n",
              "    const li = document.createElement('li');\n",
              "    li.append(span(file.name, {fontWeight: 'bold'}));\n",
              "    li.append(span(\n",
              "        `(${file.type || 'n/a'}) - ${file.size} bytes, ` +\n",
              "        `last modified: ${\n",
              "            file.lastModifiedDate ? file.lastModifiedDate.toLocaleDateString() :\n",
              "                                    'n/a'} - `));\n",
              "    const percent = span('0% done');\n",
              "    li.appendChild(percent);\n",
              "\n",
              "    outputElement.appendChild(li);\n",
              "\n",
              "    const fileDataPromise = new Promise((resolve) => {\n",
              "      const reader = new FileReader();\n",
              "      reader.onload = (e) => {\n",
              "        resolve(e.target.result);\n",
              "      };\n",
              "      reader.readAsArrayBuffer(file);\n",
              "    });\n",
              "    // Wait for the data to be ready.\n",
              "    let fileData = yield {\n",
              "      promise: fileDataPromise,\n",
              "      response: {\n",
              "        action: 'continue',\n",
              "      }\n",
              "    };\n",
              "\n",
              "    // Use a chunked sending to avoid message size limits. See b/62115660.\n",
              "    let position = 0;\n",
              "    do {\n",
              "      const length = Math.min(fileData.byteLength - position, MAX_PAYLOAD_SIZE);\n",
              "      const chunk = new Uint8Array(fileData, position, length);\n",
              "      position += length;\n",
              "\n",
              "      const base64 = btoa(String.fromCharCode.apply(null, chunk));\n",
              "      yield {\n",
              "        response: {\n",
              "          action: 'append',\n",
              "          file: file.name,\n",
              "          data: base64,\n",
              "        },\n",
              "      };\n",
              "\n",
              "      let percentDone = fileData.byteLength === 0 ?\n",
              "          100 :\n",
              "          Math.round((position / fileData.byteLength) * 100);\n",
              "      percent.textContent = `${percentDone}% done`;\n",
              "\n",
              "    } while (position < fileData.byteLength);\n",
              "  }\n",
              "\n",
              "  // All done.\n",
              "  yield {\n",
              "    response: {\n",
              "      action: 'complete',\n",
              "    }\n",
              "  };\n",
              "}\n",
              "\n",
              "scope.google = scope.google || {};\n",
              "scope.google.colab = scope.google.colab || {};\n",
              "scope.google.colab._files = {\n",
              "  _uploadFiles,\n",
              "  _uploadFilesContinue,\n",
              "};\n",
              "})(self);\n",
              "</script> "
            ]
          },
          "metadata": {}
        },
        {
          "output_type": "stream",
          "name": "stdout",
          "text": [
            "Saving main.py to main.py\n",
            "Saving sa_helper.py to sa_helper.py\n"
          ]
        }
      ],
      "source": [
        "from google.colab import files\n",
        "uploaded = files.upload()"
      ]
    },
    {
      "cell_type": "code",
      "execution_count": null,
      "metadata": {
        "id": "U3UikRQuEfjl"
      },
      "outputs": [],
      "source": [
        "from main import *\n",
        "from sa_helper import *"
      ]
    },
    {
      "cell_type": "code",
      "execution_count": null,
      "metadata": {
        "id": "dAtdjHNhD63g"
      },
      "outputs": [],
      "source": [
        "# Count the neighbor node number for each nodes in the graph\n",
        "neighbor_counts = {node: len(list(G.neighbors(node))) for node in G.nodes()}"
      ]
    },
    {
      "cell_type": "markdown",
      "source": [
        "excl=False, pop=False"
      ],
      "metadata": {
        "id": "k9PlQztYtpFs"
      }
    },
    {
      "cell_type": "code",
      "execution_count": null,
      "metadata": {
        "id": "iiawEpEPJ8AE"
      },
      "outputs": [],
      "source": [
        "subgraph_F_F = spreading_activation_BFS(graph, G, filtered_entities, neighbor_counts,\n",
        "                                    alpha=0.186, beta=0.006, max_hops=3, extraction_threshold=0,\n",
        "                                    strict=False, fan_out=True, excl=False, pop=False)"
      ]
    },
    {
      "cell_type": "code",
      "execution_count": null,
      "metadata": {
        "id": "bgwrpFyPJ7-M"
      },
      "outputs": [],
      "source": [
        "G_sub = nx.DiGraph()  # Create a directed graph\n",
        "\n",
        "for s, p, o in subgraph_F_F:\n",
        "    G_sub.add_edge(s, o, predicate=p)"
      ]
    },
    {
      "cell_type": "code",
      "execution_count": null,
      "metadata": {
        "colab": {
          "base_uri": "https://localhost:8080/"
        },
        "id": "auwn6N6JJ77t",
        "outputId": "e0b29bfc-185a-40ff-b7e2-4fa3ae474347"
      },
      "outputs": [
        {
          "name": "stdout",
          "output_type": "stream",
          "text": [
            "The subgraph of DBpedia based on SA has 14909 nodes and 34314 edges.\n"
          ]
        }
      ],
      "source": [
        "#Exhibihate the size of subgraph：The number of nodes and edges in the subgraph.\n",
        "num_nodes = len(G_sub.nodes())\n",
        "num_edges = len(G_sub.edges())\n",
        "print(\"The subgraph of DBpedia based on SA has \" + str(num_nodes) + \" nodes and \" + str(num_edges) + \" edges.\")"
      ]
    },
    {
      "cell_type": "code",
      "execution_count": null,
      "metadata": {
        "id": "W2ITMoqVJ75A"
      },
      "outputs": [],
      "source": [
        "# Serialize the graph to TTL format\n",
        "nt_data = subgraph_F_F.serialize(format='nt')\n",
        "\n",
        "# Save to a TTL file\n",
        "with open('BFS_subgraph_ff.nt', 'w') as output_file:\n",
        "    output_file.write(nt_data)"
      ]
    },
    {
      "cell_type": "code",
      "execution_count": null,
      "metadata": {
        "id": "HUWsuOdSJ72q"
      },
      "outputs": [],
      "source": [
        "from pandas.core.frame import fmt\n",
        "\n",
        "# Create a knowledge graph\n",
        "kg = KG(\"BFS_subgraph_ff.nt\", fmt='nt')\n",
        "\n",
        "kgentities = kg._entities"
      ]
    },
    {
      "cell_type": "code",
      "execution_count": null,
      "metadata": {
        "id": "j3Q53YItJ70F"
      },
      "outputs": [],
      "source": [
        "for e in filtered_entities:\n",
        "    found = False\n",
        "    for ekg in kgentities:\n",
        "        s = ekg.name\n",
        "        if s==e:\n",
        "            found = True\n",
        "    if not found:\n",
        "        print(e)"
      ]
    },
    {
      "cell_type": "code",
      "execution_count": null,
      "metadata": {
        "id": "JoX-H6pXJ7xT"
      },
      "outputs": [],
      "source": [
        "# Initialize the results dataframe\n",
        "results = pd.DataFrame(columns=['Embedding Mode', 'Dimensions', 'Classifier/Regressor', 'Metric', 'Score'])\n",
        "\n",
        "# Define the walker with depth 4 and 500 walks per entity\n",
        "walker = RandomWalker(4, 500, with_reverse=False)\n",
        "\n",
        "# Train the embeddings for different configurations\n",
        "for mode in ['cbow', 'sg']:\n",
        "    for dim in [50, 100, 200]:\n",
        "        # 1. Generate embeddings\n",
        "        sg = 1 if mode == 'sg' else 0\n",
        "        embedder = Word2Vec(sg=sg, window=5, negative=25, vector_size=dim, sample=0, ns_exponent=0.75, epochs=5)\n",
        "        transformer = RDF2VecTransformer(embedder=embedder, walkers=[walker])\n",
        "\n",
        "        embeddings,_ = transformer.fit_transform(kg, filtered_entities)\n",
        "\n",
        "        # 2. Perform classification and regression tasks\n",
        "        skf = StratifiedKFold(n_splits=10)\n",
        "        kf = KFold(n_splits=10)\n",
        "\n",
        "        # Classification\n",
        "        classifiers = {\n",
        "            'Naive Bayes': GaussianNB(),\n",
        "            'C4.5': DecisionTreeClassifier(),\n",
        "            'KNN (k=3)': KNeighborsClassifier(n_neighbors=3),\n",
        "            'SVM': GridSearchCV(SVC(), param_grid={'C': [10**-3, 10**-2, 0.1, 1, 10, 10**2, 10**3]})\n",
        "        }\n",
        "\n",
        "        for name, clf in classifiers.items():\n",
        "            scores = cross_val_score(clf, embeddings, filtered_labels, cv=skf, scoring='accuracy')\n",
        "            results = results.append({'Embedding Mode': mode, 'Dimensions': dim, 'Classifier/Regressor': name, 'Metric': 'Accuracy', 'Score': scores.mean()}, ignore_index=True)\n",
        "\n",
        "        # Regression\n",
        "        regressors = {\n",
        "            'Linear Regression': LinearRegression(),\n",
        "            'KNN (k=3) Regressor': KNeighborsRegressor(n_neighbors=3),\n",
        "            'M5Rules': DecisionTreeRegressor()\n",
        "        }\n",
        "\n",
        "        for name, reg in regressors.items():\n",
        "            rmse_scorer = make_scorer(mean_squared_error, squared=False)\n",
        "            scores = cross_val_score(reg, embeddings, filtered_reg_targets, cv=kf, scoring=rmse_scorer)\n",
        "            results = results.append({'Embedding Mode': mode, 'Dimensions': dim, 'Classifier/Regressor': name, 'Metric': 'RMSE', 'Score': scores.mean()}, ignore_index=True)\n",
        "\n",
        "# Save the results\n",
        "results.to_csv('BFS_class_reg_results_ff.csv')"
      ]
    },
    {
      "cell_type": "code",
      "execution_count": null,
      "metadata": {
        "colab": {
          "base_uri": "https://localhost:8080/"
        },
        "id": "R3VinjR7VLSb",
        "outputId": "8ffeb394-876a-4e06-872f-1b4febcd3a60"
      },
      "outputs": [
        {
          "name": "stdout",
          "output_type": "stream",
          "text": [
            "  Embedding Mode Dimensions Classifier/Regressor    Metric      Score\n",
            "0           cbow         50          Naive Bayes  Accuracy   0.712322\n",
            "1           cbow         50                 C4.5  Accuracy   0.755206\n",
            "2           cbow         50            KNN (k=3)  Accuracy   0.873502\n",
            "3           cbow         50                  SVM  Accuracy   0.872807\n",
            "4           cbow         50    Linear Regression      RMSE  13.794288\n"
          ]
        }
      ],
      "source": [
        "print(results.head())"
      ]
    },
    {
      "cell_type": "markdown",
      "source": [
        "excl=True, pop=False"
      ],
      "metadata": {
        "id": "q-IFQfAwtx_-"
      }
    },
    {
      "cell_type": "code",
      "execution_count": null,
      "metadata": {
        "id": "MFa2vboEJ7eY"
      },
      "outputs": [],
      "source": [
        "subgraph_T_F = spreading_activation_BFS(graph, G, filtered_entities, neighbor_counts,\n",
        "                                    alpha=0.186, beta=0.006, max_hops=3, extraction_threshold=0,\n",
        "                                    strict=False, fan_out=True, excl=True, pop=False)"
      ]
    },
    {
      "cell_type": "code",
      "execution_count": null,
      "metadata": {
        "id": "VjetXYbrKpRH"
      },
      "outputs": [],
      "source": [
        "G_sub_tf = nx.DiGraph()  # Create a directed graph\n",
        "\n",
        "for s, p, o in subgraph_T_F:\n",
        "    G_sub_tf.add_edge(s, o, predicate=p)"
      ]
    },
    {
      "cell_type": "code",
      "execution_count": null,
      "metadata": {
        "colab": {
          "base_uri": "https://localhost:8080/"
        },
        "id": "_3OImshYKpOv",
        "outputId": "2d366698-ce8d-4393-e1b3-486dbd4e4bac"
      },
      "outputs": [
        {
          "name": "stdout",
          "output_type": "stream",
          "text": [
            "The subgraph of DBpedia based on SA has 14909 nodes and 34314 edges.\n"
          ]
        }
      ],
      "source": [
        "#Exhibihate the size of subgraph：The number of nodes and edges in the subgraph.\n",
        "num_nodes = len(G_sub_tf.nodes())\n",
        "num_edges = len(G_sub_tf.edges())\n",
        "print(\"The subgraph of DBpedia based on SA has \" + str(num_nodes) + \" nodes and \" + str(num_edges) + \" edges.\")"
      ]
    },
    {
      "cell_type": "code",
      "execution_count": null,
      "metadata": {
        "id": "D03JEB2bKpMI"
      },
      "outputs": [],
      "source": [
        "# Serialize the graph to TTL format\n",
        "nt_data = subgraph_T_F.serialize(format='nt')\n",
        "\n",
        "# Save to a TTL file\n",
        "with open('BFS_subgraph_tf.nt', 'w') as output_file:\n",
        "    output_file.write(nt_data)"
      ]
    },
    {
      "cell_type": "code",
      "execution_count": null,
      "metadata": {
        "id": "9eHk6eBOKpJo"
      },
      "outputs": [],
      "source": [
        "from google.colab import files\n",
        "files.download('BFS_subgraph_tf.nt')"
      ]
    },
    {
      "cell_type": "code",
      "execution_count": null,
      "metadata": {
        "id": "xOCQ26e7KpHT"
      },
      "outputs": [],
      "source": [
        "from pandas.core.frame import fmt\n",
        "\n",
        "# Create a knowledge graph\n",
        "kg = KG(\"BFS_subgraph_tf.nt\", fmt='nt')\n",
        "\n",
        "kgentities = kg._entities"
      ]
    },
    {
      "cell_type": "code",
      "execution_count": null,
      "metadata": {
        "id": "MqQOyzZhKpE_"
      },
      "outputs": [],
      "source": [
        "for e in filtered_entities:\n",
        "    found = False\n",
        "    for ekg in kgentities:\n",
        "        s = ekg.name\n",
        "        if s==e:\n",
        "            found = True\n",
        "    if not found:\n",
        "        print(e)"
      ]
    },
    {
      "cell_type": "code",
      "execution_count": null,
      "metadata": {
        "id": "krwWonuoKpCO"
      },
      "outputs": [],
      "source": [
        "# Initialize the results dataframe\n",
        "results = pd.DataFrame(columns=['Embedding Mode', 'Dimensions', 'Classifier/Regressor', 'Metric', 'Score'])\n",
        "\n",
        "# Define the walker with depth 4 and 500 walks per entity\n",
        "walker = RandomWalker(4, 500, with_reverse=False)\n",
        "\n",
        "# Train the embeddings for different configurations\n",
        "for mode in ['cbow', 'sg']:\n",
        "    for dim in [50, 100, 200]:\n",
        "        # 1. Generate embeddings\n",
        "        sg = 1 if mode == 'sg' else 0\n",
        "        embedder = Word2Vec(sg=sg, window=5, negative=25, vector_size=dim, sample=0, ns_exponent=0.75, epochs=5)\n",
        "        transformer = RDF2VecTransformer(embedder=embedder, walkers=[walker])\n",
        "\n",
        "        embeddings,_ = transformer.fit_transform(kg, filtered_entities)\n",
        "\n",
        "        # 2. Perform classification and regression tasks\n",
        "        skf = StratifiedKFold(n_splits=10)\n",
        "        kf = KFold(n_splits=10)\n",
        "\n",
        "        # Classification\n",
        "        classifiers = {\n",
        "            'Naive Bayes': GaussianNB(),\n",
        "            'C4.5': DecisionTreeClassifier(),\n",
        "            'KNN (k=3)': KNeighborsClassifier(n_neighbors=3),\n",
        "            'SVM': GridSearchCV(SVC(), param_grid={'C': [10**-3, 10**-2, 0.1, 1, 10, 10**2, 10**3]})\n",
        "        }\n",
        "\n",
        "        for name, clf in classifiers.items():\n",
        "            scores = cross_val_score(clf, embeddings, filtered_labels, cv=skf, scoring='accuracy')\n",
        "            results = results.append({'Embedding Mode': mode, 'Dimensions': dim, 'Classifier/Regressor': name, 'Metric': 'Accuracy', 'Score': scores.mean()}, ignore_index=True)\n",
        "\n",
        "        # Regression\n",
        "        regressors = {\n",
        "            'Linear Regression': LinearRegression(),\n",
        "            'KNN (k=3) Regressor': KNeighborsRegressor(n_neighbors=3),\n",
        "            'M5Rules': DecisionTreeRegressor()\n",
        "        }\n",
        "\n",
        "        for name, reg in regressors.items():\n",
        "            rmse_scorer = make_scorer(mean_squared_error, squared=False)\n",
        "            scores = cross_val_score(reg, embeddings, filtered_reg_targets, cv=kf, scoring=rmse_scorer)\n",
        "            results = results.append({'Embedding Mode': mode, 'Dimensions': dim, 'Classifier/Regressor': name, 'Metric': 'RMSE', 'Score': scores.mean()}, ignore_index=True)\n",
        "\n",
        "# Save the results\n",
        "results.to_csv('BFS_class_reg_results_tf.csv')"
      ]
    },
    {
      "cell_type": "code",
      "execution_count": null,
      "metadata": {
        "colab": {
          "base_uri": "https://localhost:8080/"
        },
        "id": "dbfhZUOLKo81",
        "outputId": "4eee19da-e6e2-48ad-d757-accf4cdfd399"
      },
      "outputs": [
        {
          "name": "stdout",
          "output_type": "stream",
          "text": [
            "  Embedding Mode Dimensions Classifier/Regressor    Metric      Score\n",
            "0           cbow         50          Naive Bayes  Accuracy   0.682288\n",
            "1           cbow         50                 C4.5  Accuracy   0.746795\n",
            "2           cbow         50            KNN (k=3)  Accuracy   0.847893\n",
            "3           cbow         50                  SVM  Accuracy   0.856765\n",
            "4           cbow         50    Linear Regression      RMSE  12.390754\n"
          ]
        }
      ],
      "source": [
        "print(results.head())"
      ]
    },
    {
      "cell_type": "markdown",
      "source": [
        "excl=False, pop=True"
      ],
      "metadata": {
        "id": "B_EMRTJht4_6"
      }
    },
    {
      "cell_type": "code",
      "execution_count": null,
      "metadata": {
        "id": "YSpG-uTLLVPZ"
      },
      "outputs": [],
      "source": [
        "subgraph_F_T = spreading_activation_BFS(graph, G, filtered_entities, neighbor_counts, alpha=0.186,\n",
        "                                        beta=0.006, max_hops=3, extraction_threshold=0,\n",
        "                                        strict=False, fan_out=True, excl=False, pop=True)"
      ]
    },
    {
      "cell_type": "code",
      "execution_count": null,
      "metadata": {
        "id": "hhbZhq3DLVNB"
      },
      "outputs": [],
      "source": [
        "G_sub_ft = nx.DiGraph()  # Create a directed graph\n",
        "\n",
        "for s, p, o in subgraph_F_T:\n",
        "    G_sub_ft.add_edge(s, o, predicate=p)"
      ]
    },
    {
      "cell_type": "code",
      "execution_count": null,
      "metadata": {
        "colab": {
          "base_uri": "https://localhost:8080/"
        },
        "id": "02JlJAhWLVK2",
        "outputId": "14ec2fde-72b0-4190-a3e8-f1d2b8157537"
      },
      "outputs": [
        {
          "name": "stdout",
          "output_type": "stream",
          "text": [
            "The subgraph of DBpedia based on SA has 14909 nodes and 34314 edges.\n"
          ]
        }
      ],
      "source": [
        "#Exhibihate the size of subgraph：The number of nodes and edges in the subgraph.\n",
        "num_nodes = len(G_sub_ft.nodes())\n",
        "num_edges = len(G_sub_ft.edges())\n",
        "print(\"The subgraph of DBpedia based on SA has \" + str(num_nodes) + \" nodes and \" + str(num_edges) + \" edges.\")"
      ]
    },
    {
      "cell_type": "code",
      "execution_count": null,
      "metadata": {
        "id": "yvWHhv-QLVH7"
      },
      "outputs": [],
      "source": [
        "# Serialize the graph to TTL format\n",
        "nt_data = subgraph_F_T.serialize(format='nt')\n",
        "\n",
        "# Save to a TTL file\n",
        "with open('BFS_subgraph_ft.nt', 'w') as output_file:\n",
        "    output_file.write(nt_data)"
      ]
    },
    {
      "cell_type": "code",
      "execution_count": null,
      "metadata": {
        "id": "_On6BSNWLVFi"
      },
      "outputs": [],
      "source": [
        "from google.colab import files\n",
        "files.download('BFS_subgraph_ft.nt')"
      ]
    },
    {
      "cell_type": "code",
      "execution_count": null,
      "metadata": {
        "id": "PcTqgtiRLVC6"
      },
      "outputs": [],
      "source": [
        "from pandas.core.frame import fmt\n",
        "\n",
        "# Create a knowledge graph\n",
        "kg = KG(\"BFS_subgraph_ft.nt\", fmt='nt')\n",
        "\n",
        "kgentities = kg._entities"
      ]
    },
    {
      "cell_type": "code",
      "execution_count": null,
      "metadata": {
        "id": "fFaDjTnBLVAg"
      },
      "outputs": [],
      "source": [
        "for e in filtered_entities:\n",
        "    found = False\n",
        "    for ekg in kgentities:\n",
        "        s = ekg.name\n",
        "        if s==e:\n",
        "            found = True\n",
        "    if not found:\n",
        "        print(e)"
      ]
    },
    {
      "cell_type": "code",
      "execution_count": null,
      "metadata": {
        "id": "xK5ovjGILU9q"
      },
      "outputs": [],
      "source": [
        "# Initialize the results dataframe\n",
        "results = pd.DataFrame(columns=['Embedding Mode', 'Dimensions', 'Classifier/Regressor', 'Metric', 'Score'])\n",
        "\n",
        "# Define the walker with depth 4 and 500 walks per entity\n",
        "walker = RandomWalker(4, 500, with_reverse=False)\n",
        "\n",
        "# Train the embeddings for different configurations\n",
        "for mode in ['cbow', 'sg']:\n",
        "    for dim in [50, 100, 200]:\n",
        "        # 1. Generate embeddings\n",
        "        sg = 1 if mode == 'sg' else 0\n",
        "        embedder = Word2Vec(sg=sg, window=5, negative=25, vector_size=dim, sample=0, ns_exponent=0.75, epochs=5)\n",
        "        transformer = RDF2VecTransformer(embedder=embedder, walkers=[walker])\n",
        "\n",
        "        embeddings,_ = transformer.fit_transform(kg, filtered_entities)\n",
        "\n",
        "        # 2. Perform classification and regression tasks\n",
        "        skf = StratifiedKFold(n_splits=10)\n",
        "        kf = KFold(n_splits=10)\n",
        "\n",
        "        # Classification\n",
        "        classifiers = {\n",
        "            'Naive Bayes': GaussianNB(),\n",
        "            'C4.5': DecisionTreeClassifier(),\n",
        "            'KNN (k=3)': KNeighborsClassifier(n_neighbors=3),\n",
        "            'SVM': GridSearchCV(SVC(), param_grid={'C': [10**-3, 10**-2, 0.1, 1, 10, 10**2, 10**3]})\n",
        "        }\n",
        "\n",
        "        for name, clf in classifiers.items():\n",
        "            scores = cross_val_score(clf, embeddings, filtered_labels, cv=skf, scoring='accuracy')\n",
        "            results = results.append({'Embedding Mode': mode, 'Dimensions': dim, 'Classifier/Regressor': name, 'Metric': 'Accuracy', 'Score': scores.mean()}, ignore_index=True)\n",
        "\n",
        "        # Regression\n",
        "        regressors = {\n",
        "            'Linear Regression': LinearRegression(),\n",
        "            'KNN (k=3) Regressor': KNeighborsRegressor(n_neighbors=3),\n",
        "            'M5Rules': DecisionTreeRegressor()\n",
        "        }\n",
        "\n",
        "        for name, reg in regressors.items():\n",
        "            rmse_scorer = make_scorer(mean_squared_error, squared=False)\n",
        "            scores = cross_val_score(reg, embeddings, filtered_reg_targets, cv=kf, scoring=rmse_scorer)\n",
        "            results = results.append({'Embedding Mode': mode, 'Dimensions': dim, 'Classifier/Regressor': name, 'Metric': 'RMSE', 'Score': scores.mean()}, ignore_index=True)\n",
        "\n",
        "# Save the results\n",
        "results.to_csv('BFS_class_reg_results_ft.csv')"
      ]
    },
    {
      "cell_type": "code",
      "execution_count": null,
      "metadata": {
        "colab": {
          "base_uri": "https://localhost:8080/"
        },
        "id": "2x2HdLE5LU4f",
        "outputId": "88514c1a-6f6b-4f28-a04a-37ee1d539f47"
      },
      "outputs": [
        {
          "name": "stdout",
          "output_type": "stream",
          "text": [
            "  Embedding Mode Dimensions Classifier/Regressor    Metric      Score\n",
            "0           cbow         50          Naive Bayes  Accuracy   0.684881\n",
            "1           cbow         50                 C4.5  Accuracy   0.727621\n",
            "2           cbow         50            KNN (k=3)  Accuracy   0.857509\n",
            "3           cbow         50                  SVM  Accuracy   0.831239\n",
            "4           cbow         50    Linear Regression      RMSE  15.275252\n"
          ]
        }
      ],
      "source": [
        "print(results.head())"
      ]
    },
    {
      "cell_type": "markdown",
      "source": [
        "excl=True, pop=True"
      ],
      "metadata": {
        "id": "RlkokfxDt_bz"
      }
    },
    {
      "cell_type": "code",
      "execution_count": null,
      "metadata": {
        "id": "nI1CA08SLU13"
      },
      "outputs": [],
      "source": [
        "subgraph_T_T = spreading_activation_BFS(graph, G, filtered_entities, neighbor_counts, alpha=0.186,\n",
        "                                        beta=0.006, max_hops=3, extraction_threshold=0,\n",
        "                                        strict=False, fan_out=True, excl=True, pop=True)"
      ]
    },
    {
      "cell_type": "code",
      "execution_count": null,
      "metadata": {
        "id": "fI9KiwOULUy_"
      },
      "outputs": [],
      "source": [
        "G_sub_tt = nx.DiGraph()  # Create a directed graph\n",
        "\n",
        "for s, p, o in subgraph_T_T:\n",
        "    G_sub_tt.add_edge(s, o, predicate=p)"
      ]
    },
    {
      "cell_type": "code",
      "execution_count": null,
      "metadata": {
        "colab": {
          "base_uri": "https://localhost:8080/"
        },
        "id": "i8FgqQuiMoju",
        "outputId": "7fa4ff57-d5d3-4183-e2d5-66d6f3852aa1"
      },
      "outputs": [
        {
          "name": "stdout",
          "output_type": "stream",
          "text": [
            "The subgraph of DBpedia based on SA has 14909 nodes and 34314 edges.\n"
          ]
        }
      ],
      "source": [
        "#Exhibihate the size of subgraph：The number of nodes and edges in the subgraph.\n",
        "num_nodes = len(G_sub_tt.nodes())\n",
        "num_edges = len(G_sub_tt.edges())\n",
        "print(\"The subgraph of DBpedia based on SA has \" + str(num_nodes) + \" nodes and \" + str(num_edges) + \" edges.\")"
      ]
    },
    {
      "cell_type": "code",
      "execution_count": null,
      "metadata": {
        "id": "3rr2j4JOMohp"
      },
      "outputs": [],
      "source": [
        "# Serialize the graph to TTL format\n",
        "nt_data = subgraph_T_T.serialize(format='nt')\n",
        "\n",
        "# Save to a TTL file\n",
        "with open('BFS_subgraph_tt.nt', 'w') as output_file:\n",
        "    output_file.write(nt_data)"
      ]
    },
    {
      "cell_type": "code",
      "execution_count": null,
      "metadata": {
        "id": "YTBBqR8JMoed"
      },
      "outputs": [],
      "source": [
        "from google.colab import files\n",
        "files.download('BFS_subgraph_tt.nt')"
      ]
    },
    {
      "cell_type": "code",
      "execution_count": null,
      "metadata": {
        "id": "mpT0XKUWMob2"
      },
      "outputs": [],
      "source": [
        "from pandas.core.frame import fmt\n",
        "\n",
        "# Create a knowledge graph\n",
        "kg = KG(\"BFS_subgraph_tt.nt\", fmt='nt')\n",
        "\n",
        "kgentities = kg._entities"
      ]
    },
    {
      "cell_type": "code",
      "execution_count": null,
      "metadata": {
        "id": "rErMv32TMoXR"
      },
      "outputs": [],
      "source": [
        "for e in filtered_entities:\n",
        "    found = False\n",
        "    for ekg in kgentities:\n",
        "        s = ekg.name\n",
        "        if s==e:\n",
        "            found = True\n",
        "    if not found:\n",
        "        print(e)"
      ]
    },
    {
      "cell_type": "code",
      "execution_count": null,
      "metadata": {
        "id": "JA0c9ZnKMoUP"
      },
      "outputs": [],
      "source": [
        "# Initialize the results dataframe\n",
        "results = pd.DataFrame(columns=['Embedding Mode', 'Dimensions', 'Classifier/Regressor', 'Metric', 'Score'])\n",
        "\n",
        "# Define the walker with depth 4 and 500 walks per entity\n",
        "walker = RandomWalker(4, 500, with_reverse=False)\n",
        "\n",
        "# Train the embeddings for different configurations\n",
        "for mode in ['cbow', 'sg']:\n",
        "    for dim in [50, 100, 200]:\n",
        "        # 1. Generate embeddings\n",
        "        sg = 1 if mode == 'sg' else 0\n",
        "        embedder = Word2Vec(sg=sg, window=5, negative=25, vector_size=dim, sample=0, ns_exponent=0.75, epochs=5)\n",
        "        transformer = RDF2VecTransformer(embedder=embedder, walkers=[walker])\n",
        "\n",
        "        embeddings,_ = transformer.fit_transform(kg, filtered_entities)\n",
        "\n",
        "        # 2. Perform classification and regression tasks\n",
        "        skf = StratifiedKFold(n_splits=10)\n",
        "        kf = KFold(n_splits=10)\n",
        "\n",
        "        # Classification\n",
        "        classifiers = {\n",
        "            'Naive Bayes': GaussianNB(),\n",
        "            'C4.5': DecisionTreeClassifier(),\n",
        "            'KNN (k=3)': KNeighborsClassifier(n_neighbors=3),\n",
        "            'SVM': GridSearchCV(SVC(), param_grid={'C': [10**-3, 10**-2, 0.1, 1, 10, 10**2, 10**3]})\n",
        "        }\n",
        "\n",
        "        for name, clf in classifiers.items():\n",
        "            scores = cross_val_score(clf, embeddings, filtered_labels, cv=skf, scoring='accuracy')\n",
        "            results = results.append({'Embedding Mode': mode, 'Dimensions': dim, 'Classifier/Regressor': name, 'Metric': 'Accuracy', 'Score': scores.mean()}, ignore_index=True)\n",
        "\n",
        "        # Regression\n",
        "        regressors = {\n",
        "            'Linear Regression': LinearRegression(),\n",
        "            'KNN (k=3) Regressor': KNeighborsRegressor(n_neighbors=3),\n",
        "            'M5Rules': DecisionTreeRegressor()\n",
        "        }\n",
        "\n",
        "        for name, reg in regressors.items():\n",
        "            rmse_scorer = make_scorer(mean_squared_error, squared=False)\n",
        "            scores = cross_val_score(reg, embeddings, filtered_reg_targets, cv=kf, scoring=rmse_scorer)\n",
        "            results = results.append({'Embedding Mode': mode, 'Dimensions': dim, 'Classifier/Regressor': name, 'Metric': 'RMSE', 'Score': scores.mean()}, ignore_index=True)\n",
        "\n",
        "# Save the results\n",
        "results.to_csv('BFS_class_reg_results_tt.csv')"
      ]
    },
    {
      "cell_type": "code",
      "execution_count": null,
      "metadata": {
        "colab": {
          "base_uri": "https://localhost:8080/"
        },
        "id": "jGAPDFN2KFEP",
        "outputId": "50f55494-7fcb-41e4-e046-3e0ee71c8467"
      },
      "outputs": [
        {
          "name": "stdout",
          "output_type": "stream",
          "text": [
            "  Embedding Mode Dimensions Classifier/Regressor    Metric      Score\n",
            "0           cbow         50          Naive Bayes  Accuracy   0.764196\n",
            "1           cbow         50                 C4.5  Accuracy   0.758313\n",
            "2           cbow         50            KNN (k=3)  Accuracy   0.854340\n",
            "3           cbow         50                  SVM  Accuracy   0.877878\n",
            "4           cbow         50    Linear Regression      RMSE  12.154972\n"
          ]
        }
      ],
      "source": [
        "print(results.head())"
      ]
    },
    {
      "cell_type": "markdown",
      "metadata": {
        "id": "gYFsEBXxPFWH"
      },
      "source": [
        "Classification & Regression tasks based graph embeddings extracted on subgraph base on SA with DFS"
      ]
    },
    {
      "cell_type": "markdown",
      "source": [
        "excl=False, pop=False"
      ],
      "metadata": {
        "id": "Q-PZ19lHuS2q"
      }
    },
    {
      "cell_type": "code",
      "execution_count": null,
      "metadata": {
        "id": "RR764xu_MoMf"
      },
      "outputs": [],
      "source": [
        "subgraph_F_F = spreading_activation_DFS(graph, G, filtered_entities, neighbor_counts, alpha=0.1,\n",
        "                                        beta=0.009, max_depth=2, extraction_threshold=0,\n",
        "                                        strict=False, fan_out=True, excl=False, pop=False)"
      ]
    },
    {
      "cell_type": "code",
      "execution_count": null,
      "metadata": {
        "id": "h2Rk2MjrQeo5"
      },
      "outputs": [],
      "source": [
        "G_sub_ff = nx.DiGraph()  # Create a directed graph\n",
        "\n",
        "for s, p, o in subgraph_F_F:\n",
        "    G_sub_ff.add_edge(s, o, predicate=p)"
      ]
    },
    {
      "cell_type": "code",
      "execution_count": null,
      "metadata": {
        "colab": {
          "base_uri": "https://localhost:8080/"
        },
        "id": "IGKLk90KQemG",
        "outputId": "3f20f188-89ea-4713-ada7-d487e38f7961"
      },
      "outputs": [
        {
          "name": "stdout",
          "output_type": "stream",
          "text": [
            "The subgraph of DBpedia based on SA has 14908 nodes and 34314 edges.\n"
          ]
        }
      ],
      "source": [
        "#Exhibihate the size of subgraph：The number of nodes and edges in the subgraph.\n",
        "num_nodes = len(G_sub_ff.nodes())\n",
        "num_edges = len(G_sub_ff.edges())\n",
        "print(\"The subgraph of DBpedia based on SA has \" + str(num_nodes) + \" nodes and \" + str(num_edges) + \" edges.\")"
      ]
    },
    {
      "cell_type": "code",
      "execution_count": null,
      "metadata": {
        "id": "NI3GbsLDQei_"
      },
      "outputs": [],
      "source": [
        "# Serialize the graph to TTL format\n",
        "nt_data = subgraph_F_F.serialize(format='nt')\n",
        "\n",
        "# Save to a TTL file\n",
        "with open('DFS_subgraph_ff.nt', 'w') as output_file:\n",
        "    output_file.write(nt_data)"
      ]
    },
    {
      "cell_type": "code",
      "execution_count": null,
      "metadata": {
        "id": "zstLLbbHQegr"
      },
      "outputs": [],
      "source": [
        "from google.colab import files\n",
        "files.download('DFS_subgraph_ff.nt')"
      ]
    },
    {
      "cell_type": "code",
      "execution_count": null,
      "metadata": {
        "id": "1rHJ1A59Qed5"
      },
      "outputs": [],
      "source": [
        "from pandas.core.frame import fmt\n",
        "\n",
        "# Create a knowledge graph\n",
        "kg = KG(\"DFS_subgraph_ff.nt\", fmt='nt')\n",
        "\n",
        "kgentities = kg._entities"
      ]
    },
    {
      "cell_type": "code",
      "execution_count": null,
      "metadata": {
        "id": "CkS0iYmoRtsv"
      },
      "outputs": [],
      "source": [
        "for e in filtered_entities:\n",
        "    found = False\n",
        "    for ekg in kgentities:\n",
        "        s = ekg.name\n",
        "        if s==e:\n",
        "            found = True\n",
        "    if not found:\n",
        "        print(e)"
      ]
    },
    {
      "cell_type": "code",
      "execution_count": null,
      "metadata": {
        "id": "ty9ndGh7RtqS"
      },
      "outputs": [],
      "source": [
        "# Initialize the results dataframe\n",
        "results = pd.DataFrame(columns=['Embedding Mode', 'Dimensions', 'Classifier/Regressor', 'Metric', 'Score'])\n",
        "\n",
        "# Define the walker with depth 4 and 500 walks per entity\n",
        "walker = RandomWalker(4, 500, with_reverse=False)\n",
        "\n",
        "# Train the embeddings for different configurations\n",
        "for mode in ['cbow', 'sg']:\n",
        "    for dim in [50, 100, 200]:\n",
        "        # 1. Generate embeddings\n",
        "        sg = 1 if mode == 'sg' else 0\n",
        "        embedder = Word2Vec(sg=sg, window=5, negative=25, vector_size=dim, sample=0, ns_exponent=0.75, epochs=5)\n",
        "        transformer = RDF2VecTransformer(embedder=embedder, walkers=[walker])\n",
        "\n",
        "        embeddings,_ = transformer.fit_transform(kg, filtered_entities)\n",
        "\n",
        "        # 2. Perform classification and regression tasks\n",
        "        skf = StratifiedKFold(n_splits=10)\n",
        "        kf = KFold(n_splits=10)\n",
        "\n",
        "        # Classification\n",
        "        classifiers = {\n",
        "            'Naive Bayes': GaussianNB(),\n",
        "            'C4.5': DecisionTreeClassifier(),\n",
        "            'KNN (k=3)': KNeighborsClassifier(n_neighbors=3),\n",
        "            'SVM': GridSearchCV(SVC(), param_grid={'C': [10**-3, 10**-2, 0.1, 1, 10, 10**2, 10**3]})\n",
        "        }\n",
        "\n",
        "        for name, clf in classifiers.items():\n",
        "            scores = cross_val_score(clf, embeddings, filtered_labels, cv=skf, scoring='accuracy')\n",
        "            results = results.append({'Embedding Mode': mode, 'Dimensions': dim, 'Classifier/Regressor': name, 'Metric': 'Accuracy', 'Score': scores.mean()}, ignore_index=True)\n",
        "\n",
        "        # Regression\n",
        "        regressors = {\n",
        "            'Linear Regression': LinearRegression(),\n",
        "            'KNN (k=3) Regressor': KNeighborsRegressor(n_neighbors=3),\n",
        "            'M5Rules': DecisionTreeRegressor()\n",
        "        }\n",
        "\n",
        "        for name, reg in regressors.items():\n",
        "            rmse_scorer = make_scorer(mean_squared_error, squared=False)\n",
        "            scores = cross_val_score(reg, embeddings, filtered_reg_targets, cv=kf, scoring=rmse_scorer)\n",
        "            results = results.append({'Embedding Mode': mode, 'Dimensions': dim, 'Classifier/Regressor': name, 'Metric': 'RMSE', 'Score': scores.mean()}, ignore_index=True)\n",
        "\n",
        "# Save the results\n",
        "results.to_csv('DFS_class_reg_results_ff.csv')"
      ]
    },
    {
      "cell_type": "code",
      "execution_count": null,
      "metadata": {
        "colab": {
          "base_uri": "https://localhost:8080/"
        },
        "id": "sZYH-qK9Rtnj",
        "outputId": "fd3eec70-beb5-4eb0-b9d6-12f13b802c1b"
      },
      "outputs": [
        {
          "name": "stdout",
          "output_type": "stream",
          "text": [
            "  Embedding Mode Dimensions Classifier/Regressor    Metric      Score\n",
            "0           cbow         50          Naive Bayes  Accuracy   0.686061\n",
            "1           cbow         50                 C4.5  Accuracy   0.702772\n",
            "2           cbow         50            KNN (k=3)  Accuracy   0.876731\n",
            "3           cbow         50                  SVM  Accuracy   0.845999\n",
            "4           cbow         50    Linear Regression      RMSE  13.227293\n"
          ]
        }
      ],
      "source": [
        "print(results.head())"
      ]
    },
    {
      "cell_type": "markdown",
      "source": [
        "excl=True, pop=False"
      ],
      "metadata": {
        "id": "xGc9tMv0uXkT"
      }
    },
    {
      "cell_type": "code",
      "execution_count": null,
      "metadata": {
        "id": "emKhaNRdRtlK"
      },
      "outputs": [],
      "source": [
        "subgraph_T_F = spreading_activation_DFS(graph, G, filtered_entities, neighbor_counts,\n",
        "                                    alpha=0.1, beta=0.009, max_depth=2, extraction_threshold=0,\n",
        "                                    strict=False, fan_out=True, excl=True, pop=False)"
      ]
    },
    {
      "cell_type": "code",
      "execution_count": null,
      "metadata": {
        "id": "aE3088wbRtid"
      },
      "outputs": [],
      "source": [
        "G_sub_tf = nx.DiGraph()  # Create a directed graph\n",
        "\n",
        "for s, p, o in subgraph_T_F:\n",
        "    G_sub_tf.add_edge(s, o, predicate=p)"
      ]
    },
    {
      "cell_type": "code",
      "execution_count": null,
      "metadata": {
        "colab": {
          "base_uri": "https://localhost:8080/"
        },
        "id": "yyfxT7mfSVqd",
        "outputId": "47bc7b76-85d3-4850-ed52-3acbc6343d6e"
      },
      "outputs": [
        {
          "name": "stdout",
          "output_type": "stream",
          "text": [
            "The subgraph of DBpedia based on SA has 14908 nodes and 34314 edges.\n"
          ]
        }
      ],
      "source": [
        "#Exhibihate the size of subgraph：The number of nodes and edges in the subgraph.\n",
        "num_nodes = len(G_sub_tf.nodes())\n",
        "num_edges = len(G_sub_tf.edges())\n",
        "print(\"The subgraph of DBpedia based on SA has \" + str(num_nodes) + \" nodes and \" + str(num_edges) + \" edges.\")"
      ]
    },
    {
      "cell_type": "code",
      "execution_count": null,
      "metadata": {
        "id": "Zf6T_EPvSVoQ"
      },
      "outputs": [],
      "source": [
        "# Serialize the graph to TTL format\n",
        "nt_data = subgraph_T_F.serialize(format='nt')\n",
        "\n",
        "# Save to a TTL file\n",
        "with open('DFS_subgraph_tf.nt', 'w') as output_file:\n",
        "    output_file.write(nt_data)"
      ]
    },
    {
      "cell_type": "code",
      "execution_count": null,
      "metadata": {
        "id": "dB1lF1dPSVly"
      },
      "outputs": [],
      "source": [
        "from pandas.core.frame import fmt\n",
        "\n",
        "# Create a knowledge graph\n",
        "kg = KG(\"DFS_subgraph_tf.nt\", fmt='nt')\n",
        "\n",
        "kgentities = kg._entities"
      ]
    },
    {
      "cell_type": "code",
      "execution_count": null,
      "metadata": {
        "id": "8v6P6dH3SVji"
      },
      "outputs": [],
      "source": [
        "for e in filtered_entities:\n",
        "    found = False\n",
        "    for ekg in kgentities:\n",
        "        s = ekg.name\n",
        "        if s==e:\n",
        "            found = True\n",
        "    if not found:\n",
        "        print(e)"
      ]
    },
    {
      "cell_type": "code",
      "execution_count": null,
      "metadata": {
        "id": "DiGx2xlcSVg3"
      },
      "outputs": [],
      "source": [
        "# Initialize the results dataframe\n",
        "results = pd.DataFrame(columns=['Embedding Mode', 'Dimensions', 'Classifier/Regressor', 'Metric', 'Score'])\n",
        "\n",
        "# Define the walker with depth 4 and 500 walks per entity\n",
        "walker = RandomWalker(4, 500, with_reverse=False)\n",
        "\n",
        "# Train the embeddings for different configurations\n",
        "for mode in ['cbow', 'sg']:\n",
        "    for dim in [50, 100, 200]:\n",
        "        # 1. Generate embeddings\n",
        "        sg = 1 if mode == 'sg' else 0\n",
        "        embedder = Word2Vec(sg=sg, window=5, negative=25, vector_size=dim, sample=0, ns_exponent=0.75, epochs=5)\n",
        "        transformer = RDF2VecTransformer(embedder=embedder, walkers=[walker])\n",
        "\n",
        "        embeddings,_ = transformer.fit_transform(kg, filtered_entities)\n",
        "\n",
        "        # 2. Perform classification and regression tasks\n",
        "        skf = StratifiedKFold(n_splits=10)\n",
        "        kf = KFold(n_splits=10)\n",
        "\n",
        "        # Classification\n",
        "        classifiers = {\n",
        "            'Naive Bayes': GaussianNB(),\n",
        "            'C4.5': DecisionTreeClassifier(),\n",
        "            'KNN (k=3)': KNeighborsClassifier(n_neighbors=3),\n",
        "            'SVM': GridSearchCV(SVC(), param_grid={'C': [10**-3, 10**-2, 0.1, 1, 10, 10**2, 10**3]})\n",
        "        }\n",
        "\n",
        "        for name, clf in classifiers.items():\n",
        "            scores = cross_val_score(clf, embeddings, filtered_labels, cv=skf, scoring='accuracy')\n",
        "            results = results.append({'Embedding Mode': mode, 'Dimensions': dim, 'Classifier/Regressor': name, 'Metric': 'Accuracy', 'Score': scores.mean()}, ignore_index=True)\n",
        "\n",
        "        # Regression\n",
        "        regressors = {\n",
        "            'Linear Regression': LinearRegression(),\n",
        "            'KNN (k=3) Regressor': KNeighborsRegressor(n_neighbors=3),\n",
        "            'M5Rules': DecisionTreeRegressor()\n",
        "        }\n",
        "\n",
        "        for name, reg in regressors.items():\n",
        "            rmse_scorer = make_scorer(mean_squared_error, squared=False)\n",
        "            scores = cross_val_score(reg, embeddings, filtered_reg_targets, cv=kf, scoring=rmse_scorer)\n",
        "            results = results.append({'Embedding Mode': mode, 'Dimensions': dim, 'Classifier/Regressor': name, 'Metric': 'RMSE', 'Score': scores.mean()}, ignore_index=True)\n",
        "\n",
        "# Save the results\n",
        "results.to_csv('DFS_class_reg_results_tf.csv')"
      ]
    },
    {
      "cell_type": "code",
      "execution_count": null,
      "metadata": {
        "colab": {
          "base_uri": "https://localhost:8080/"
        },
        "id": "-8E8Z5KdS_5O",
        "outputId": "72d0423a-4cc0-4631-f089-51cf8750be99"
      },
      "outputs": [
        {
          "name": "stdout",
          "output_type": "stream",
          "text": [
            "  Embedding Mode Dimensions Classifier/Regressor    Metric      Score\n",
            "0           cbow         50          Naive Bayes  Accuracy   0.656663\n",
            "1           cbow         50                 C4.5  Accuracy   0.741083\n",
            "2           cbow         50            KNN (k=3)  Accuracy   0.850474\n",
            "3           cbow         50                  SVM  Accuracy   0.850441\n",
            "4           cbow         50    Linear Regression      RMSE  13.958708\n"
          ]
        }
      ],
      "source": [
        "print(results.head())"
      ]
    },
    {
      "cell_type": "markdown",
      "source": [
        "excl=False, pop=True"
      ],
      "metadata": {
        "id": "Getc4HVtuboP"
      }
    },
    {
      "cell_type": "code",
      "execution_count": null,
      "metadata": {
        "id": "EEybHkI5S_2s"
      },
      "outputs": [],
      "source": [
        "subgraph_F_T = spreading_activation_DFS(graph, G, filtered_entities, neighbor_counts, alpha=0.1,\n",
        "                                        beta=0.009, max_depth=2, extraction_threshold=0,\n",
        "                                        strict=False, fan_out=True, excl=False, pop=True)"
      ]
    },
    {
      "cell_type": "code",
      "execution_count": null,
      "metadata": {
        "id": "2zqfynErS_0F"
      },
      "outputs": [],
      "source": [
        "G_sub_ft = nx.DiGraph()  # Create a directed graph\n",
        "\n",
        "for s, p, o in subgraph_F_T:\n",
        "    G_sub_ft.add_edge(s, o, predicate=p)"
      ]
    },
    {
      "cell_type": "code",
      "execution_count": null,
      "metadata": {
        "colab": {
          "base_uri": "https://localhost:8080/"
        },
        "id": "Bb_Ir4VcS_xd",
        "outputId": "7d21cd68-31c5-4add-f52c-5487bed3a6d9"
      },
      "outputs": [
        {
          "output_type": "stream",
          "name": "stdout",
          "text": [
            "The subgraph of DBpedia based on SA has 14908 nodes and 34314 edges.\n"
          ]
        }
      ],
      "source": [
        "#Exhibihate the size of subgraph：The number of nodes and edges in the subgraph.\n",
        "num_nodes = len(G_sub_ft.nodes())\n",
        "num_edges = len(G_sub_ft.edges())\n",
        "print(\"The subgraph of DBpedia based on SA has \" + str(num_nodes) + \" nodes and \" + str(num_edges) + \" edges.\")"
      ]
    },
    {
      "cell_type": "code",
      "execution_count": null,
      "metadata": {
        "id": "IZaabvEjUa1v"
      },
      "outputs": [],
      "source": [
        "# Serialize the graph to TTL format\n",
        "nt_data = subgraph_F_T.serialize(format='nt')\n",
        "\n",
        "# Save to a TTL file\n",
        "with open('DFS_subgraph_ft.nt', 'w') as output_file:\n",
        "    output_file.write(nt_data)"
      ]
    },
    {
      "cell_type": "code",
      "execution_count": null,
      "metadata": {
        "id": "arxr20mEUazf"
      },
      "outputs": [],
      "source": [
        "from pandas.core.frame import fmt\n",
        "\n",
        "# Create a knowledge graph\n",
        "kg = KG(\"DFS_subgraph_ft.nt\", fmt='nt')\n",
        "\n",
        "kgentities = kg._entities"
      ]
    },
    {
      "cell_type": "code",
      "execution_count": null,
      "metadata": {
        "id": "SffIM9S3mmda"
      },
      "outputs": [],
      "source": [
        "from google.colab import files\n",
        "files.download('DFS_subgraph_ft.nt')"
      ]
    },
    {
      "cell_type": "code",
      "execution_count": null,
      "metadata": {
        "id": "FhsAHvuXUaw3"
      },
      "outputs": [],
      "source": [
        "for e in filtered_entities:\n",
        "    found = False\n",
        "    for ekg in kgentities:\n",
        "        s = ekg.name\n",
        "        if s==e:\n",
        "            found = True\n",
        "    if not found:\n",
        "        print(e)"
      ]
    },
    {
      "cell_type": "code",
      "execution_count": null,
      "metadata": {
        "id": "wXZLZjtEUaus"
      },
      "outputs": [],
      "source": [
        "# Initialize the results dataframe\n",
        "results = pd.DataFrame(columns=['Embedding Mode', 'Dimensions', 'Classifier/Regressor', 'Metric', 'Score'])\n",
        "\n",
        "# Define the walker with depth 4 and 500 walks per entity\n",
        "walker = RandomWalker(4, 500, with_reverse=False)\n",
        "\n",
        "# Train the embeddings for different configurations\n",
        "for mode in ['cbow', 'sg']:\n",
        "    for dim in [50, 100, 200]:\n",
        "        # 1. Generate embeddings\n",
        "        sg = 1 if mode == 'sg' else 0\n",
        "        embedder = Word2Vec(sg=sg, window=5, negative=25, vector_size=dim, sample=0, ns_exponent=0.75, epochs=5)\n",
        "        transformer = RDF2VecTransformer(embedder=embedder, walkers=[walker])\n",
        "\n",
        "        embeddings,_ = transformer.fit_transform(kg, filtered_entities)\n",
        "\n",
        "        # 2. Perform classification and regression tasks\n",
        "        skf = StratifiedKFold(n_splits=10)\n",
        "        kf = KFold(n_splits=10)\n",
        "\n",
        "        # Classification\n",
        "        classifiers = {\n",
        "            'Naive Bayes': GaussianNB(),\n",
        "            'C4.5': DecisionTreeClassifier(),\n",
        "            'KNN (k=3)': KNeighborsClassifier(n_neighbors=3),\n",
        "            'SVM': GridSearchCV(SVC(), param_grid={'C': [10**-3, 10**-2, 0.1, 1, 10, 10**2, 10**3]})\n",
        "        }\n",
        "\n",
        "        for name, clf in classifiers.items():\n",
        "            scores = cross_val_score(clf, embeddings, filtered_labels, cv=skf, scoring='accuracy')\n",
        "            results = results.append({'Embedding Mode': mode, 'Dimensions': dim, 'Classifier/Regressor': name, 'Metric': 'Accuracy', 'Score': scores.mean()}, ignore_index=True)\n",
        "\n",
        "        # Regression\n",
        "        regressors = {\n",
        "            'Linear Regression': LinearRegression(),\n",
        "            'KNN (k=3) Regressor': KNeighborsRegressor(n_neighbors=3),\n",
        "            'M5Rules': DecisionTreeRegressor()\n",
        "        }\n",
        "\n",
        "        for name, reg in regressors.items():\n",
        "            rmse_scorer = make_scorer(mean_squared_error, squared=False)\n",
        "            scores = cross_val_score(reg, embeddings, filtered_reg_targets, cv=kf, scoring=rmse_scorer)\n",
        "            results = results.append({'Embedding Mode': mode, 'Dimensions': dim, 'Classifier/Regressor': name, 'Metric': 'RMSE', 'Score': scores.mean()}, ignore_index=True)\n",
        "\n",
        "# Save the results\n",
        "results.to_csv('DFS_class_reg_results_ft.csv')"
      ]
    },
    {
      "cell_type": "code",
      "execution_count": null,
      "metadata": {
        "colab": {
          "base_uri": "https://localhost:8080/"
        },
        "id": "TdAiRAQjUasM",
        "outputId": "9fa22d81-e28d-4a2b-e070-1d15e0d07b7b"
      },
      "outputs": [
        {
          "output_type": "stream",
          "name": "stdout",
          "text": [
            "  Embedding Mode Dimensions Classifier/Regressor    Metric      Score\n",
            "0           cbow         50          Naive Bayes  Accuracy   0.684799\n",
            "1           cbow         50                 C4.5  Accuracy   0.716156\n",
            "2           cbow         50            KNN (k=3)  Accuracy   0.842814\n",
            "3           cbow         50                  SVM  Accuracy   0.858117\n",
            "4           cbow         50    Linear Regression      RMSE  13.514335\n"
          ]
        }
      ],
      "source": [
        "print(results.head())"
      ]
    },
    {
      "cell_type": "markdown",
      "source": [
        "excl=True, pop=True"
      ],
      "metadata": {
        "id": "nFh51RmmugAs"
      }
    },
    {
      "cell_type": "code",
      "execution_count": null,
      "metadata": {
        "id": "8cCURI7FUapz"
      },
      "outputs": [],
      "source": [
        "subgraph_T_T = spreading_activation_DFS(graph, G, filtered_entities, neighbor_counts, alpha=0.1,\n",
        "                                        beta=0.009, max_depth=2, extraction_threshold=0,\n",
        "                                        strict=False, fan_out=True, excl=True, pop=True)"
      ]
    },
    {
      "cell_type": "code",
      "execution_count": null,
      "metadata": {
        "id": "PGP2WiLBUanA"
      },
      "outputs": [],
      "source": [
        "G_sub_tt = nx.DiGraph()  # Create a directed graph\n",
        "\n",
        "for s, p, o in subgraph_T_T:\n",
        "    G_sub_tt.add_edge(s, o, predicate=p)"
      ]
    },
    {
      "cell_type": "code",
      "execution_count": null,
      "metadata": {
        "colab": {
          "base_uri": "https://localhost:8080/"
        },
        "id": "2uC0hTaBVOXd",
        "outputId": "94c7ad50-76e2-4a41-ee34-7596ca50e551"
      },
      "outputs": [
        {
          "output_type": "stream",
          "name": "stdout",
          "text": [
            "The subgraph of DBpedia based on SA has 14908 nodes and 34314 edges.\n"
          ]
        }
      ],
      "source": [
        "#Exhibihate the size of subgraph：The number of nodes and edges in the subgraph.\n",
        "num_nodes = len(G_sub_tt.nodes())\n",
        "num_edges = len(G_sub_tt.edges())\n",
        "print(\"The subgraph of DBpedia based on SA has \" + str(num_nodes) + \" nodes and \" + str(num_edges) + \" edges.\")"
      ]
    },
    {
      "cell_type": "code",
      "execution_count": null,
      "metadata": {
        "id": "HJWlgY7HVOVD"
      },
      "outputs": [],
      "source": [
        "# Serialize the graph to TTL format\n",
        "nt_data = subgraph_T_T.serialize(format='nt')\n",
        "\n",
        "# Save to a TTL file\n",
        "with open('DFS_subgraph_tt.nt', 'w') as output_file:\n",
        "    output_file.write(nt_data)"
      ]
    },
    {
      "cell_type": "code",
      "execution_count": null,
      "metadata": {
        "id": "N54wFFAVVOSo"
      },
      "outputs": [],
      "source": [
        "from pandas.core.frame import fmt\n",
        "\n",
        "# Create a knowledge graph\n",
        "kg = KG(\"DFS_subgraph_tt.nt\", fmt='nt')\n",
        "\n",
        "kgentities = kg._entities"
      ]
    },
    {
      "cell_type": "code",
      "execution_count": null,
      "metadata": {
        "id": "ztyy5I8eVOQC"
      },
      "outputs": [],
      "source": [
        "for e in filtered_entities:\n",
        "    found = False\n",
        "    for ekg in kgentities:\n",
        "        s = ekg.name\n",
        "        if s==e:\n",
        "            found = True\n",
        "    if not found:\n",
        "        print(e)"
      ]
    },
    {
      "cell_type": "code",
      "execution_count": null,
      "metadata": {
        "id": "Iw2quwmVVmsV"
      },
      "outputs": [],
      "source": [
        "# Initialize the results dataframe\n",
        "results = pd.DataFrame(columns=['Embedding Mode', 'Dimensions', 'Classifier/Regressor', 'Metric', 'Score'])\n",
        "\n",
        "# Define the walker with depth 4 and 500 walks per entity\n",
        "walker = RandomWalker(4, 500, with_reverse=False)\n",
        "\n",
        "# Train the embeddings for different configurations\n",
        "for mode in ['cbow', 'sg']:\n",
        "    for dim in [50, 100, 200]:\n",
        "        # 1. Generate embeddings\n",
        "        sg = 1 if mode == 'sg' else 0\n",
        "        embedder = Word2Vec(sg=sg, window=5, negative=25, vector_size=dim, sample=0, ns_exponent=0.75, epochs=5)\n",
        "        transformer = RDF2VecTransformer(embedder=embedder, walkers=[walker])\n",
        "\n",
        "        embeddings,_ = transformer.fit_transform(kg, filtered_entities)\n",
        "\n",
        "        # 2. Perform classification and regression tasks\n",
        "        skf = StratifiedKFold(n_splits=10)\n",
        "        kf = KFold(n_splits=10)\n",
        "\n",
        "        # Classification\n",
        "        classifiers = {\n",
        "            'Naive Bayes': GaussianNB(),\n",
        "            'C4.5': DecisionTreeClassifier(),\n",
        "            'KNN (k=3)': KNeighborsClassifier(n_neighbors=3),\n",
        "            'SVM': GridSearchCV(SVC(), param_grid={'C': [10**-3, 10**-2, 0.1, 1, 10, 10**2, 10**3]})\n",
        "        }\n",
        "\n",
        "        for name, clf in classifiers.items():\n",
        "            scores = cross_val_score(clf, embeddings, filtered_labels, cv=skf, scoring='accuracy')\n",
        "            results = results.append({'Embedding Mode': mode, 'Dimensions': dim, 'Classifier/Regressor': name, 'Metric': 'Accuracy', 'Score': scores.mean()}, ignore_index=True)\n",
        "\n",
        "        # Regression\n",
        "        regressors = {\n",
        "            'Linear Regression': LinearRegression(),\n",
        "            'KNN (k=3) Regressor': KNeighborsRegressor(n_neighbors=3),\n",
        "            'M5Rules': DecisionTreeRegressor()\n",
        "        }\n",
        "\n",
        "        for name, reg in regressors.items():\n",
        "            rmse_scorer = make_scorer(mean_squared_error, squared=False)\n",
        "            scores = cross_val_score(reg, embeddings, filtered_reg_targets, cv=kf, scoring=rmse_scorer)\n",
        "            results = results.append({'Embedding Mode': mode, 'Dimensions': dim, 'Classifier/Regressor': name, 'Metric': 'RMSE', 'Score': scores.mean()}, ignore_index=True)\n",
        "\n",
        "# Save the results\n",
        "results.to_csv('DFS_class_reg_results_tt.csv')"
      ]
    },
    {
      "cell_type": "code",
      "execution_count": null,
      "metadata": {
        "colab": {
          "base_uri": "https://localhost:8080/"
        },
        "id": "YMCU0L0CVmnP",
        "outputId": "ae5071e9-49aa-43f5-c6c6-96d928eded7c"
      },
      "outputs": [
        {
          "output_type": "stream",
          "name": "stdout",
          "text": [
            "  Embedding Mode Dimensions Classifier/Regressor    Metric      Score\n",
            "0           cbow         50          Naive Bayes  Accuracy   0.729528\n",
            "1           cbow         50                 C4.5  Accuracy   0.741691\n",
            "2           cbow         50            KNN (k=3)  Accuracy   0.844721\n",
            "3           cbow         50                  SVM  Accuracy   0.854205\n",
            "4           cbow         50    Linear Regression      RMSE  12.682367\n"
          ]
        }
      ],
      "source": [
        "print(results.head())"
      ]
    }
  ],
  "metadata": {
    "colab": {
      "machine_shape": "hm",
      "provenance": [],
      "mount_file_id": "12ie7i2VDtjKpsqvF9cAvVknHY0T55jCz",
      "authorship_tag": "ABX9TyPF+dKktmvdiEH33+SHYnsN",
      "include_colab_link": true
    },
    "kernelspec": {
      "display_name": "Python 3",
      "name": "python3"
    },
    "language_info": {
      "name": "python"
    }
  },
  "nbformat": 4,
  "nbformat_minor": 0
}