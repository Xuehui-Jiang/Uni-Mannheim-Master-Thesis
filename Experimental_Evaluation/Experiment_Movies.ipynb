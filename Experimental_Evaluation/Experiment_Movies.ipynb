{
  "nbformat": 4,
  "nbformat_minor": 0,
  "metadata": {
    "colab": {
      "provenance": [],
      "machine_shape": "hm",
      "mount_file_id": "1P7JiveWZARe0H-ESxoTKI5jGx0szqlLt",
      "authorship_tag": "ABX9TyMHa4Rmea4bM1NLnEvgVAGI",
      "include_colab_link": true
    },
    "kernelspec": {
      "name": "python3",
      "display_name": "Python 3"
    },
    "language_info": {
      "name": "python"
    }
  },
  "cells": [
    {
      "cell_type": "markdown",
      "metadata": {
        "id": "view-in-github",
        "colab_type": "text"
      },
      "source": [
        "<a href=\"https://colab.research.google.com/github/Xuehui-Jiang/Uni-Mannheim-Master-Thesis/blob/main/Experimental_Evaluation/Experiment_Movies.ipynb\" target=\"_parent\"><img src=\"https://colab.research.google.com/assets/colab-badge.svg\" alt=\"Open In Colab\"/></a>"
      ]
    },
    {
      "cell_type": "code",
      "execution_count": null,
      "metadata": {
        "colab": {
          "base_uri": "https://localhost:8080/"
        },
        "id": "OVEFugz24J2V",
        "outputId": "28683d24-fe95-4df7-e3a9-c95167e6f1e5"
      },
      "outputs": [
        {
          "output_type": "stream",
          "name": "stdout",
          "text": [
            "Cloning into 'pyRDF2Vec'...\n",
            "remote: Enumerating objects: 7412, done.\u001b[K\n",
            "remote: Counting objects: 100% (380/380), done.\u001b[K\n",
            "remote: Compressing objects: 100% (240/240), done.\u001b[K\n",
            "remote: Total 7412 (delta 234), reused 259 (delta 133), pack-reused 7032\u001b[K\n",
            "Receiving objects: 100% (7412/7412), 5.32 MiB | 11.23 MiB/s, done.\n",
            "Resolving deltas: 100% (5038/5038), done.\n"
          ]
        }
      ],
      "source": [
        "# Cloning the pyRDF2Vec repo\n",
        "!git clone https://github.com/IBCNServices/pyRDF2Vec.git"
      ]
    },
    {
      "cell_type": "code",
      "source": [
        "!pip install rdflib\n",
        "!pip install networkx"
      ],
      "metadata": {
        "colab": {
          "base_uri": "https://localhost:8080/"
        },
        "id": "f3bRYlWe4P09",
        "outputId": "489e58fc-bc6a-4900-9fe0-2d93b65681a6"
      },
      "execution_count": null,
      "outputs": [
        {
          "output_type": "stream",
          "name": "stdout",
          "text": [
            "Collecting rdflib\n",
            "  Downloading rdflib-7.0.0-py3-none-any.whl (531 kB)\n",
            "\u001b[2K     \u001b[90m━━━━━━━━━━━━━━━━━━━━━━━━━━━━━━━━━━━━━━━\u001b[0m \u001b[32m531.9/531.9 kB\u001b[0m \u001b[31m5.7 MB/s\u001b[0m eta \u001b[36m0:00:00\u001b[0m\n",
            "\u001b[?25hCollecting isodate<0.7.0,>=0.6.0 (from rdflib)\n",
            "  Downloading isodate-0.6.1-py2.py3-none-any.whl (41 kB)\n",
            "\u001b[2K     \u001b[90m━━━━━━━━━━━━━━━━━━━━━━━━━━━━━━━━━━━━━━━━\u001b[0m \u001b[32m41.7/41.7 kB\u001b[0m \u001b[31m3.9 MB/s\u001b[0m eta \u001b[36m0:00:00\u001b[0m\n",
            "\u001b[?25hRequirement already satisfied: pyparsing<4,>=2.1.0 in /usr/local/lib/python3.10/dist-packages (from rdflib) (3.1.1)\n",
            "Requirement already satisfied: six in /usr/local/lib/python3.10/dist-packages (from isodate<0.7.0,>=0.6.0->rdflib) (1.16.0)\n",
            "Installing collected packages: isodate, rdflib\n",
            "Successfully installed isodate-0.6.1 rdflib-7.0.0\n",
            "Requirement already satisfied: networkx in /usr/local/lib/python3.10/dist-packages (3.1)\n"
          ]
        }
      ]
    },
    {
      "cell_type": "code",
      "source": [
        "!pip uninstall community\n",
        "!pip install python-louvain\n",
        "!pip install pyRDF2Vec --upgrade"
      ],
      "metadata": {
        "colab": {
          "base_uri": "https://localhost:8080/"
        },
        "id": "vWfpv1ew4mq2",
        "outputId": "f9236adb-9e8b-4d89-8127-62d35bf618c8"
      },
      "execution_count": null,
      "outputs": [
        {
          "output_type": "stream",
          "name": "stdout",
          "text": [
            "Found existing installation: community 1.0.0b1\n",
            "Uninstalling community-1.0.0b1:\n",
            "  Would remove:\n",
            "    /usr/local/lib/python3.10/dist-packages/community-1.0.0b1.dist-info/*\n",
            "    /usr/local/lib/python3.10/dist-packages/community/*\n",
            "  Would not remove (might be manually added):\n",
            "    /usr/local/lib/python3.10/dist-packages/community/community_louvain.py\n",
            "    /usr/local/lib/python3.10/dist-packages/community/community_status.py\n",
            "Proceed (Y/n)? Y\n",
            "  Successfully uninstalled community-1.0.0b1\n",
            "Requirement already satisfied: python-louvain in /usr/local/lib/python3.10/dist-packages (0.16)\n",
            "Requirement already satisfied: networkx in /usr/local/lib/python3.10/dist-packages (from python-louvain) (3.1)\n",
            "Requirement already satisfied: numpy in /usr/local/lib/python3.10/dist-packages (from python-louvain) (1.23.5)\n",
            "Collecting pyRDF2Vec\n",
            "  Downloading pyrdf2vec-0.2.3-py3-none-any.whl (57 kB)\n",
            "\u001b[2K     \u001b[90m━━━━━━━━━━━━━━━━━━━━━━━━━━━━━━━━━━━━━━━━\u001b[0m \u001b[32m57.1/57.1 kB\u001b[0m \u001b[31m1.3 MB/s\u001b[0m eta \u001b[36m0:00:00\u001b[0m\n",
            "\u001b[?25hCollecting attrs<22.0.0,>=21.2.0 (from pyRDF2Vec)\n",
            "  Downloading attrs-21.4.0-py2.py3-none-any.whl (60 kB)\n",
            "\u001b[2K     \u001b[90m━━━━━━━━━━━━━━━━━━━━━━━━━━━━━━━━━━━━━━━━\u001b[0m \u001b[32m60.6/60.6 kB\u001b[0m \u001b[31m3.7 MB/s\u001b[0m eta \u001b[36m0:00:00\u001b[0m\n",
            "\u001b[?25hCollecting cachetools<5.0.0,>=4.2.2 (from pyRDF2Vec)\n",
            "  Downloading cachetools-4.2.4-py3-none-any.whl (10 kB)\n",
            "Requirement already satisfied: matplotlib<4.0.0,>=3.4.2 in /usr/local/lib/python3.10/dist-packages (from pyRDF2Vec) (3.7.1)\n",
            "Collecting networkx<3.0.0,>=2.5.1 (from pyRDF2Vec)\n",
            "  Downloading networkx-2.8.8-py3-none-any.whl (2.0 MB)\n",
            "\u001b[2K     \u001b[90m━━━━━━━━━━━━━━━━━━━━━━━━━━━━━━━━━━━━━━━━\u001b[0m \u001b[32m2.0/2.0 MB\u001b[0m \u001b[31m30.9 MB/s\u001b[0m eta \u001b[36m0:00:00\u001b[0m\n",
            "\u001b[?25hCollecting python-Levenshtein<0.13.0,>=0.12.2 (from pyRDF2Vec)\n",
            "  Downloading python-Levenshtein-0.12.2.tar.gz (50 kB)\n",
            "\u001b[2K     \u001b[90m━━━━━━━━━━━━━━━━━━━━━━━━━━━━━━━━━━━━━━━━\u001b[0m \u001b[32m50.5/50.5 kB\u001b[0m \u001b[31m5.2 MB/s\u001b[0m eta \u001b[36m0:00:00\u001b[0m\n",
            "\u001b[?25h  Preparing metadata (setup.py) ... \u001b[?25l\u001b[?25hdone\n",
            "Collecting python-louvain<0.16,>=0.15 (from pyRDF2Vec)\n",
            "  Downloading python-louvain-0.15.tar.gz (204 kB)\n",
            "\u001b[2K     \u001b[90m━━━━━━━━━━━━━━━━━━━━━━━━━━━━━━━━━━━━━━\u001b[0m \u001b[32m204.6/204.6 kB\u001b[0m \u001b[31m20.7 MB/s\u001b[0m eta \u001b[36m0:00:00\u001b[0m\n",
            "\u001b[?25h  Preparing metadata (setup.py) ... \u001b[?25l\u001b[?25hdone\n",
            "Collecting tomlkit<0.8.0,>=0.7.2 (from pyRDF2Vec)\n",
            "  Downloading tomlkit-0.7.2-py2.py3-none-any.whl (32 kB)\n",
            "Collecting torch<2.0.0,>=1.8.1 (from pyRDF2Vec)\n",
            "  Downloading torch-1.13.1-cp310-cp310-manylinux1_x86_64.whl (887.5 MB)\n",
            "\u001b[2K     \u001b[90m━━━━━━━━━━━━━━━━━━━━━━━━━━━━━━━━━━━━━━━\u001b[0m \u001b[32m887.5/887.5 MB\u001b[0m \u001b[31m1.7 MB/s\u001b[0m eta \u001b[36m0:00:00\u001b[0m\n",
            "\u001b[?25hRequirement already satisfied: tqdm<5.0.0,>=4.61.0 in /usr/local/lib/python3.10/dist-packages (from pyRDF2Vec) (4.66.1)\n",
            "Requirement already satisfied: contourpy>=1.0.1 in /usr/local/lib/python3.10/dist-packages (from matplotlib<4.0.0,>=3.4.2->pyRDF2Vec) (1.1.0)\n",
            "Requirement already satisfied: cycler>=0.10 in /usr/local/lib/python3.10/dist-packages (from matplotlib<4.0.0,>=3.4.2->pyRDF2Vec) (0.11.0)\n",
            "Requirement already satisfied: fonttools>=4.22.0 in /usr/local/lib/python3.10/dist-packages (from matplotlib<4.0.0,>=3.4.2->pyRDF2Vec) (4.42.1)\n",
            "Requirement already satisfied: kiwisolver>=1.0.1 in /usr/local/lib/python3.10/dist-packages (from matplotlib<4.0.0,>=3.4.2->pyRDF2Vec) (1.4.4)\n",
            "Requirement already satisfied: numpy>=1.20 in /usr/local/lib/python3.10/dist-packages (from matplotlib<4.0.0,>=3.4.2->pyRDF2Vec) (1.23.5)\n",
            "Requirement already satisfied: packaging>=20.0 in /usr/local/lib/python3.10/dist-packages (from matplotlib<4.0.0,>=3.4.2->pyRDF2Vec) (23.1)\n",
            "Requirement already satisfied: pillow>=6.2.0 in /usr/local/lib/python3.10/dist-packages (from matplotlib<4.0.0,>=3.4.2->pyRDF2Vec) (9.4.0)\n",
            "Requirement already satisfied: pyparsing>=2.3.1 in /usr/local/lib/python3.10/dist-packages (from matplotlib<4.0.0,>=3.4.2->pyRDF2Vec) (3.1.1)\n",
            "Requirement already satisfied: python-dateutil>=2.7 in /usr/local/lib/python3.10/dist-packages (from matplotlib<4.0.0,>=3.4.2->pyRDF2Vec) (2.8.2)\n",
            "Requirement already satisfied: setuptools in /usr/local/lib/python3.10/dist-packages (from python-Levenshtein<0.13.0,>=0.12.2->pyRDF2Vec) (67.7.2)\n",
            "Requirement already satisfied: typing-extensions in /usr/local/lib/python3.10/dist-packages (from torch<2.0.0,>=1.8.1->pyRDF2Vec) (4.7.1)\n",
            "Collecting nvidia-cuda-runtime-cu11==11.7.99 (from torch<2.0.0,>=1.8.1->pyRDF2Vec)\n",
            "  Downloading nvidia_cuda_runtime_cu11-11.7.99-py3-none-manylinux1_x86_64.whl (849 kB)\n",
            "\u001b[2K     \u001b[90m━━━━━━━━━━━━━━━━━━━━━━━━━━━━━━━━━━━━━━\u001b[0m \u001b[32m849.3/849.3 kB\u001b[0m \u001b[31m48.9 MB/s\u001b[0m eta \u001b[36m0:00:00\u001b[0m\n",
            "\u001b[?25hCollecting nvidia-cudnn-cu11==8.5.0.96 (from torch<2.0.0,>=1.8.1->pyRDF2Vec)\n",
            "  Downloading nvidia_cudnn_cu11-8.5.0.96-2-py3-none-manylinux1_x86_64.whl (557.1 MB)\n",
            "\u001b[2K     \u001b[90m━━━━━━━━━━━━━━━━━━━━━━━━━━━━━━━━━━━━━━━\u001b[0m \u001b[32m557.1/557.1 MB\u001b[0m \u001b[31m2.6 MB/s\u001b[0m eta \u001b[36m0:00:00\u001b[0m\n",
            "\u001b[?25hCollecting nvidia-cublas-cu11==11.10.3.66 (from torch<2.0.0,>=1.8.1->pyRDF2Vec)\n",
            "  Downloading nvidia_cublas_cu11-11.10.3.66-py3-none-manylinux1_x86_64.whl (317.1 MB)\n",
            "\u001b[2K     \u001b[90m━━━━━━━━━━━━━━━━━━━━━━━━━━━━━━━━━━━━━━━\u001b[0m \u001b[32m317.1/317.1 MB\u001b[0m \u001b[31m2.8 MB/s\u001b[0m eta \u001b[36m0:00:00\u001b[0m\n",
            "\u001b[?25hCollecting nvidia-cuda-nvrtc-cu11==11.7.99 (from torch<2.0.0,>=1.8.1->pyRDF2Vec)\n",
            "  Downloading nvidia_cuda_nvrtc_cu11-11.7.99-2-py3-none-manylinux1_x86_64.whl (21.0 MB)\n",
            "\u001b[2K     \u001b[90m━━━━━━━━━━━━━━━━━━━━━━━━━━━━━━━━━━━━━━━━\u001b[0m \u001b[32m21.0/21.0 MB\u001b[0m \u001b[31m61.0 MB/s\u001b[0m eta \u001b[36m0:00:00\u001b[0m\n",
            "\u001b[?25hRequirement already satisfied: wheel in /usr/local/lib/python3.10/dist-packages (from nvidia-cublas-cu11==11.10.3.66->torch<2.0.0,>=1.8.1->pyRDF2Vec) (0.41.2)\n",
            "Requirement already satisfied: six>=1.5 in /usr/local/lib/python3.10/dist-packages (from python-dateutil>=2.7->matplotlib<4.0.0,>=3.4.2->pyRDF2Vec) (1.16.0)\n",
            "Building wheels for collected packages: python-Levenshtein, python-louvain\n",
            "  Building wheel for python-Levenshtein (setup.py) ... \u001b[?25l\u001b[?25hdone\n",
            "  Created wheel for python-Levenshtein: filename=python_Levenshtein-0.12.2-cp310-cp310-linux_x86_64.whl size=159968 sha256=0bf013b4fd7bff2d2d8a4cd441c3abe4efaa5f3271926dd6f52d930c6ce594ba\n",
            "  Stored in directory: /root/.cache/pip/wheels/7b/c3/05/60b4747cf52e0f6b6ee52022088a4de07d755016493e86373d\n",
            "  Building wheel for python-louvain (setup.py) ... \u001b[?25l\u001b[?25hdone\n",
            "  Created wheel for python-louvain: filename=python_louvain-0.15-py3-none-any.whl size=9398 sha256=cbee266a38a548eb209031388258791f927e60feec317feb7b7534272fc57b0f\n",
            "  Stored in directory: /root/.cache/pip/wheels/73/99/50/8dd2ba8bc9d968b50e021fe35b15b1ff23e8df38ff4d9f559d\n",
            "Successfully built python-Levenshtein python-louvain\n",
            "Installing collected packages: tomlkit, python-Levenshtein, nvidia-cuda-runtime-cu11, nvidia-cuda-nvrtc-cu11, nvidia-cublas-cu11, networkx, cachetools, attrs, python-louvain, nvidia-cudnn-cu11, torch, pyRDF2Vec\n",
            "  Attempting uninstall: networkx\n",
            "    Found existing installation: networkx 3.1\n",
            "    Uninstalling networkx-3.1:\n",
            "      Successfully uninstalled networkx-3.1\n",
            "  Attempting uninstall: cachetools\n",
            "    Found existing installation: cachetools 5.3.1\n",
            "    Uninstalling cachetools-5.3.1:\n",
            "      Successfully uninstalled cachetools-5.3.1\n",
            "  Attempting uninstall: attrs\n",
            "    Found existing installation: attrs 23.1.0\n",
            "    Uninstalling attrs-23.1.0:\n",
            "      Successfully uninstalled attrs-23.1.0\n",
            "  Attempting uninstall: python-louvain\n",
            "    Found existing installation: python-louvain 0.16\n",
            "    Uninstalling python-louvain-0.16:\n",
            "      Successfully uninstalled python-louvain-0.16\n",
            "  Attempting uninstall: torch\n",
            "    Found existing installation: torch 2.0.1+cu118\n",
            "    Uninstalling torch-2.0.1+cu118:\n",
            "      Successfully uninstalled torch-2.0.1+cu118\n",
            "\u001b[31mERROR: pip's dependency resolver does not currently take into account all the packages that are installed. This behaviour is the source of the following dependency conflicts.\n",
            "jsonschema 4.19.0 requires attrs>=22.2.0, but you have attrs 21.4.0 which is incompatible.\n",
            "referencing 0.30.2 requires attrs>=22.2.0, but you have attrs 21.4.0 which is incompatible.\n",
            "torchaudio 2.0.2+cu118 requires torch==2.0.1, but you have torch 1.13.1 which is incompatible.\n",
            "torchdata 0.6.1 requires torch==2.0.1, but you have torch 1.13.1 which is incompatible.\n",
            "torchtext 0.15.2 requires torch==2.0.1, but you have torch 1.13.1 which is incompatible.\n",
            "torchvision 0.15.2+cu118 requires torch==2.0.1, but you have torch 1.13.1 which is incompatible.\u001b[0m\u001b[31m\n",
            "\u001b[0mSuccessfully installed attrs-21.4.0 cachetools-4.2.4 networkx-2.8.8 nvidia-cublas-cu11-11.10.3.66 nvidia-cuda-nvrtc-cu11-11.7.99 nvidia-cuda-runtime-cu11-11.7.99 nvidia-cudnn-cu11-8.5.0.96 pyRDF2Vec-0.2.3 python-Levenshtein-0.12.2 python-louvain-0.15 tomlkit-0.7.2 torch-1.13.1\n"
          ]
        }
      ]
    },
    {
      "cell_type": "code",
      "source": [
        "import random\n",
        "import warnings\n",
        "warnings.filterwarnings('ignore')\n",
        "import functools\n",
        "import itertools\n",
        "from typing import List, Sequence, Tuple\n",
        "\n",
        "import matplotlib.pyplot as plt\n",
        "import numpy as np\n",
        "import pandas as pd\n",
        "import rdflib\n",
        "from sklearn.manifold import TSNE\n",
        "from sklearn.metrics import accuracy_score, confusion_matrix\n",
        "from sklearn.svm import SVC\n",
        "\n",
        "import sys\n",
        "sys.path.append('pyRDF2Vec')\n",
        "sys.path.append('pyRDF2Vec/pyrdf2vec')"
      ],
      "metadata": {
        "id": "d9XWmLZ64Pyw"
      },
      "execution_count": null,
      "outputs": []
    },
    {
      "cell_type": "code",
      "source": [
        "import pandas as pd\n",
        "import matplotlib.pyplot as plt\n",
        "\n",
        "from pyrdf2vec import RDF2VecTransformer\n",
        "from pyrdf2vec.graphs import KG\n",
        "from pyrdf2vec.embedders import Word2Vec\n",
        "from pyrdf2vec.walkers import RandomWalker"
      ],
      "metadata": {
        "id": "tc4lD1Sb4PwW"
      },
      "execution_count": null,
      "outputs": []
    },
    {
      "cell_type": "code",
      "source": [
        "from google.colab import files\n",
        "\n",
        "uploaded = files.upload()\n",
        "\n",
        "for fn in uploaded.keys():\n",
        "    print('User uploaded file \"{name}\" with length {length} bytes'.format(\n",
        "        name=fn, length=len(uploaded[fn])))\n"
      ],
      "metadata": {
        "colab": {
          "base_uri": "https://localhost:8080/",
          "height": 90
        },
        "id": "SoOUBo-k4Pt9",
        "outputId": "cee3ff42-1942-40cc-f4cb-7d5b2dc488f4"
      },
      "execution_count": null,
      "outputs": [
        {
          "output_type": "display_data",
          "data": {
            "text/plain": [
              "<IPython.core.display.HTML object>"
            ],
            "text/html": [
              "\n",
              "     <input type=\"file\" id=\"files-f4013b6f-1d59-41c4-b8ca-0801241f40e4\" name=\"files[]\" multiple disabled\n",
              "        style=\"border:none\" />\n",
              "     <output id=\"result-f4013b6f-1d59-41c4-b8ca-0801241f40e4\">\n",
              "      Upload widget is only available when the cell has been executed in the\n",
              "      current browser session. Please rerun this cell to enable.\n",
              "      </output>\n",
              "      <script>// Copyright 2017 Google LLC\n",
              "//\n",
              "// Licensed under the Apache License, Version 2.0 (the \"License\");\n",
              "// you may not use this file except in compliance with the License.\n",
              "// You may obtain a copy of the License at\n",
              "//\n",
              "//      http://www.apache.org/licenses/LICENSE-2.0\n",
              "//\n",
              "// Unless required by applicable law or agreed to in writing, software\n",
              "// distributed under the License is distributed on an \"AS IS\" BASIS,\n",
              "// WITHOUT WARRANTIES OR CONDITIONS OF ANY KIND, either express or implied.\n",
              "// See the License for the specific language governing permissions and\n",
              "// limitations under the License.\n",
              "\n",
              "/**\n",
              " * @fileoverview Helpers for google.colab Python module.\n",
              " */\n",
              "(function(scope) {\n",
              "function span(text, styleAttributes = {}) {\n",
              "  const element = document.createElement('span');\n",
              "  element.textContent = text;\n",
              "  for (const key of Object.keys(styleAttributes)) {\n",
              "    element.style[key] = styleAttributes[key];\n",
              "  }\n",
              "  return element;\n",
              "}\n",
              "\n",
              "// Max number of bytes which will be uploaded at a time.\n",
              "const MAX_PAYLOAD_SIZE = 100 * 1024;\n",
              "\n",
              "function _uploadFiles(inputId, outputId) {\n",
              "  const steps = uploadFilesStep(inputId, outputId);\n",
              "  const outputElement = document.getElementById(outputId);\n",
              "  // Cache steps on the outputElement to make it available for the next call\n",
              "  // to uploadFilesContinue from Python.\n",
              "  outputElement.steps = steps;\n",
              "\n",
              "  return _uploadFilesContinue(outputId);\n",
              "}\n",
              "\n",
              "// This is roughly an async generator (not supported in the browser yet),\n",
              "// where there are multiple asynchronous steps and the Python side is going\n",
              "// to poll for completion of each step.\n",
              "// This uses a Promise to block the python side on completion of each step,\n",
              "// then passes the result of the previous step as the input to the next step.\n",
              "function _uploadFilesContinue(outputId) {\n",
              "  const outputElement = document.getElementById(outputId);\n",
              "  const steps = outputElement.steps;\n",
              "\n",
              "  const next = steps.next(outputElement.lastPromiseValue);\n",
              "  return Promise.resolve(next.value.promise).then((value) => {\n",
              "    // Cache the last promise value to make it available to the next\n",
              "    // step of the generator.\n",
              "    outputElement.lastPromiseValue = value;\n",
              "    return next.value.response;\n",
              "  });\n",
              "}\n",
              "\n",
              "/**\n",
              " * Generator function which is called between each async step of the upload\n",
              " * process.\n",
              " * @param {string} inputId Element ID of the input file picker element.\n",
              " * @param {string} outputId Element ID of the output display.\n",
              " * @return {!Iterable<!Object>} Iterable of next steps.\n",
              " */\n",
              "function* uploadFilesStep(inputId, outputId) {\n",
              "  const inputElement = document.getElementById(inputId);\n",
              "  inputElement.disabled = false;\n",
              "\n",
              "  const outputElement = document.getElementById(outputId);\n",
              "  outputElement.innerHTML = '';\n",
              "\n",
              "  const pickedPromise = new Promise((resolve) => {\n",
              "    inputElement.addEventListener('change', (e) => {\n",
              "      resolve(e.target.files);\n",
              "    });\n",
              "  });\n",
              "\n",
              "  const cancel = document.createElement('button');\n",
              "  inputElement.parentElement.appendChild(cancel);\n",
              "  cancel.textContent = 'Cancel upload';\n",
              "  const cancelPromise = new Promise((resolve) => {\n",
              "    cancel.onclick = () => {\n",
              "      resolve(null);\n",
              "    };\n",
              "  });\n",
              "\n",
              "  // Wait for the user to pick the files.\n",
              "  const files = yield {\n",
              "    promise: Promise.race([pickedPromise, cancelPromise]),\n",
              "    response: {\n",
              "      action: 'starting',\n",
              "    }\n",
              "  };\n",
              "\n",
              "  cancel.remove();\n",
              "\n",
              "  // Disable the input element since further picks are not allowed.\n",
              "  inputElement.disabled = true;\n",
              "\n",
              "  if (!files) {\n",
              "    return {\n",
              "      response: {\n",
              "        action: 'complete',\n",
              "      }\n",
              "    };\n",
              "  }\n",
              "\n",
              "  for (const file of files) {\n",
              "    const li = document.createElement('li');\n",
              "    li.append(span(file.name, {fontWeight: 'bold'}));\n",
              "    li.append(span(\n",
              "        `(${file.type || 'n/a'}) - ${file.size} bytes, ` +\n",
              "        `last modified: ${\n",
              "            file.lastModifiedDate ? file.lastModifiedDate.toLocaleDateString() :\n",
              "                                    'n/a'} - `));\n",
              "    const percent = span('0% done');\n",
              "    li.appendChild(percent);\n",
              "\n",
              "    outputElement.appendChild(li);\n",
              "\n",
              "    const fileDataPromise = new Promise((resolve) => {\n",
              "      const reader = new FileReader();\n",
              "      reader.onload = (e) => {\n",
              "        resolve(e.target.result);\n",
              "      };\n",
              "      reader.readAsArrayBuffer(file);\n",
              "    });\n",
              "    // Wait for the data to be ready.\n",
              "    let fileData = yield {\n",
              "      promise: fileDataPromise,\n",
              "      response: {\n",
              "        action: 'continue',\n",
              "      }\n",
              "    };\n",
              "\n",
              "    // Use a chunked sending to avoid message size limits. See b/62115660.\n",
              "    let position = 0;\n",
              "    do {\n",
              "      const length = Math.min(fileData.byteLength - position, MAX_PAYLOAD_SIZE);\n",
              "      const chunk = new Uint8Array(fileData, position, length);\n",
              "      position += length;\n",
              "\n",
              "      const base64 = btoa(String.fromCharCode.apply(null, chunk));\n",
              "      yield {\n",
              "        response: {\n",
              "          action: 'append',\n",
              "          file: file.name,\n",
              "          data: base64,\n",
              "        },\n",
              "      };\n",
              "\n",
              "      let percentDone = fileData.byteLength === 0 ?\n",
              "          100 :\n",
              "          Math.round((position / fileData.byteLength) * 100);\n",
              "      percent.textContent = `${percentDone}% done`;\n",
              "\n",
              "    } while (position < fileData.byteLength);\n",
              "  }\n",
              "\n",
              "  // All done.\n",
              "  yield {\n",
              "    response: {\n",
              "      action: 'complete',\n",
              "    }\n",
              "  };\n",
              "}\n",
              "\n",
              "scope.google = scope.google || {};\n",
              "scope.google.colab = scope.google.colab || {};\n",
              "scope.google.colab._files = {\n",
              "  _uploadFiles,\n",
              "  _uploadFilesContinue,\n",
              "};\n",
              "})(self);\n",
              "</script> "
            ]
          },
          "metadata": {}
        },
        {
          "output_type": "stream",
          "name": "stdout",
          "text": [
            "Saving completeDataset.tsv to completeDataset.tsv\n",
            "User uploaded file \"completeDataset.tsv\" with length 182653 bytes\n"
          ]
        }
      ]
    },
    {
      "cell_type": "code",
      "source": [
        "# load training and testing entities\n",
        "complete_df = pd.read_csv('completeDataset.tsv', sep='\\t')\n",
        "\n",
        "entities = complete_df['DBpedia_URI'].tolist()\n",
        "labels = complete_df['Label'].tolist()\n",
        "reg_targets = complete_df['rating'].tolist()"
      ],
      "metadata": {
        "id": "U2gLu3RY4Prj"
      },
      "execution_count": null,
      "outputs": []
    },
    {
      "cell_type": "code",
      "source": [
        "# Define the list of files\n",
        "files_to_merge = [\n",
        "    \"instance_types_en.ttl\",\n",
        "    \"infobox_properties_en.ttl\",\n",
        "    \"article_categories_en.ttl\",\n",
        "    \"disambiguations_en.ttl\"\n",
        "]\n",
        "\n",
        "# Merge files\n",
        "with open(\"direct_merged_dbpedia.ttl\", \"w\") as outfile:\n",
        "    for file in files_to_merge:\n",
        "        with open(\"/content/drive/My Drive/dbpedia_files/\" + file, \"r\") as infile:\n",
        "            for line in infile:\n",
        "                outfile.write(line)\n",
        "\n",
        "print(\"Files have been merged into merged.ttl\")\n"
      ],
      "metadata": {
        "colab": {
          "base_uri": "https://localhost:8080/"
        },
        "id": "-bYT1L914PpN",
        "outputId": "e14c7786-afec-431d-8ad3-a1981eb1ce91"
      },
      "execution_count": null,
      "outputs": [
        {
          "output_type": "stream",
          "name": "stdout",
          "text": [
            "Files have been merged into merged.ttl\n"
          ]
        }
      ]
    },
    {
      "cell_type": "code",
      "source": [
        "import shutil\n",
        "\n",
        "destination_path = \"/content/drive/My Drive/dbpedia_files\"\n",
        "\n",
        "shutil.copy(\"indirect_merged_dbpedia.ttl\", destination_path)\n",
        "\n",
        "print(f\"File saved to {destination_path}\")"
      ],
      "metadata": {
        "colab": {
          "base_uri": "https://localhost:8080/"
        },
        "id": "3O-fJOpV4Pmy",
        "outputId": "e17ec8a1-ab0d-412d-ecdd-2370032fb5a7"
      },
      "execution_count": null,
      "outputs": [
        {
          "output_type": "stream",
          "name": "stdout",
          "text": [
            "File saved to /content/drive/My Drive/dbpedia_files\n"
          ]
        }
      ]
    },
    {
      "cell_type": "code",
      "source": [
        "# Define the list of files\n",
        "files_to_merge = [\n",
        "    \"mappingbased_objects_en.ttl\",\n",
        "    \"geonames_links_en.ttl\"\n",
        "]\n",
        "\n",
        "# Merge files\n",
        "with open(\"indirect_merged_dbpedia.ttl\", \"w\") as outfile:\n",
        "    for file in files_to_merge:\n",
        "        with open(\"/content/drive/My Drive/dbpedia_files/\" + file, \"r\") as infile:\n",
        "            for line in infile:\n",
        "                outfile.write(line)\n",
        "\n",
        "print(\"Files have been merged into merged.ttl\")\n"
      ],
      "metadata": {
        "colab": {
          "base_uri": "https://localhost:8080/"
        },
        "id": "Vj1t5idB4Pka",
        "outputId": "0146b2c5-a31a-4456-f86c-992de51a50d1"
      },
      "execution_count": null,
      "outputs": [
        {
          "output_type": "stream",
          "name": "stdout",
          "text": [
            "Files have been merged into merged.ttl\n"
          ]
        }
      ]
    },
    {
      "cell_type": "code",
      "source": [
        "# Filter out entities and relationships directly related to Movies Dataset\n",
        "with open(\"/content/drive/My Drive/dbpedia_files/direct_merged_dbpedia.ttl\", \"r\") as file, open(\"direct_movies_filtered_dbpedia.ttl\", \"w\") as out_file:\n",
        "    for line in file:\n",
        "        triple = line.strip().split()\n",
        "        if len(triple) > 2:\n",
        "            # Check if the subject or object of the triple is in our city URL list\n",
        "            if triple[0].strip('<>') in entities or triple[2].strip('<>') in entities:\n",
        "                out_file.write(line)"
      ],
      "metadata": {
        "id": "Fet3KvZ04Ph1"
      },
      "execution_count": null,
      "outputs": []
    },
    {
      "cell_type": "code",
      "source": [
        "# Filter out entities and relationships directly or indirectly related to Cities Dataset\n",
        "entities_related_to_cities = set(entities)\n",
        "new_entities = set(entities)\n",
        "iteration_count = 0\n",
        "\n",
        "while new_entities and iteration_count < 2:\n",
        "    temp_entities = set()\n",
        "    with open(\"/content/drive/My Drive/dbpedia_files/indirect_merged_dbpedia.ttl\", \"r\") as file:\n",
        "        for line in file:\n",
        "            triple = line.strip().split()\n",
        "            if len(triple) > 2 and (triple[0].strip('<>') in new_entities or triple[2].strip('<>') in new_entities):\n",
        "                    temp_entities.add(triple[0].strip('<>'))\n",
        "                    temp_entities.add(triple[2].strip('<>'))\n",
        "\n",
        "    new_entities = temp_entities - entities_related_to_cities\n",
        "    entities_related_to_cities.update(new_entities)\n",
        "    iteration_count += 1  # 每次循环完成后增加计数器\n",
        "\n",
        "# Finally, we can write all triples that are directly or indirectly related to entities in the `entities_related_to_cities` collection\n",
        "with open(\"/content/drive/My Drive/dbpedia_files/indirect_merged_dbpedia.ttl\", \"r\") as file, open(\"indirect_movies_filtered_dbpedia.ttl\", \"w\") as out_file:\n",
        "    for line in file:\n",
        "        triple = line.strip().split()\n",
        "        if len(triple) > 2 and (triple[0].strip('<>') in entities_related_to_cities or triple[2].strip('<>') in entities_related_to_cities):\n",
        "            out_file.write(line)\n"
      ],
      "metadata": {
        "id": "ZIWJPtgf4Pee"
      },
      "execution_count": null,
      "outputs": []
    },
    {
      "cell_type": "code",
      "source": [
        "# Define the list of files\n",
        "files_to_merge = [\n",
        "    \"direct_movies_filtered_dbpedia.ttl\",\n",
        "    \"indirect_movies_filtered_dbpedia.ttl\"\n",
        "]\n",
        "\n",
        "# Merge files\n",
        "with open(\"movies_filtered_dbpedia.ttl\", \"w\") as outfile:\n",
        "    for file in files_to_merge:\n",
        "        with open(file, \"r\") as infile:\n",
        "            for line in infile:\n",
        "                outfile.write(line)\n",
        "\n",
        "print(\"Files have been merged into merged.ttl\")\n"
      ],
      "metadata": {
        "colab": {
          "base_uri": "https://localhost:8080/"
        },
        "id": "6ipSA7ST4PWM",
        "outputId": "c5130f34-e375-4ba6-8fe6-0ca389cd8015"
      },
      "execution_count": null,
      "outputs": [
        {
          "output_type": "stream",
          "name": "stdout",
          "text": [
            "Files have been merged into merged.ttl\n"
          ]
        }
      ]
    },
    {
      "cell_type": "code",
      "source": [
        "input_file = \"movies_filtered_dbpedia.ttl\"\n",
        "output_file = \"cleaned_movies_filtered_dbpedia.ttl\"\n",
        "\n",
        "with open(input_file, 'r') as infile, open(output_file, 'w') as outfile:\n",
        "    for line in infile:\n",
        "        # Determine whether it is a comment or a blank line\n",
        "        if line.startswith(\"#\") or line.strip() == \"\":\n",
        "            continue\n",
        "\n",
        "        # Split triples\n",
        "        triple = line.strip().split()\n",
        "\n",
        "        # Make sure this is a complete triple\n",
        "        if len(triple) > 2:\n",
        "            # 检查对象是否以“http://dbpedia.org/resource/”开头\n",
        "            if triple[2].startswith(\"<http://dbpedia.org/resource/\"):\n",
        "                outfile.write(line)\n",
        "\n",
        "print(f\"Finished filtering {input_file} and saved the result to {output_file}\")\n"
      ],
      "metadata": {
        "colab": {
          "base_uri": "https://localhost:8080/"
        },
        "id": "UJ1vvufA7uPV",
        "outputId": "f4695cda-bd91-40e5-8406-24ff58e168af"
      },
      "execution_count": null,
      "outputs": [
        {
          "output_type": "stream",
          "name": "stdout",
          "text": [
            "Finished filtering movies_filtered_dbpedia.ttl and saved the result to cleaned_movies_filtered_dbpedia.ttl\n"
          ]
        }
      ]
    },
    {
      "cell_type": "code",
      "source": [
        "!head -n 10 cleaned_movies_filtered_dbpedia.ttl"
      ],
      "metadata": {
        "colab": {
          "base_uri": "https://localhost:8080/"
        },
        "id": "8Z8gj0LJ7uMm",
        "outputId": "3ca0f37d-7c9e-44a9-bee6-6c8610aa0aa7"
      },
      "execution_count": null,
      "outputs": [
        {
          "output_type": "stream",
          "name": "stdout",
          "text": [
            "<http://dbpedia.org/resource/Blade_Runner> <http://dbpedia.org/property/productionCompanies> <http://dbpedia.org/resource/The_Ladd_Company> .\n",
            "<http://dbpedia.org/resource/Blade_Runner> <http://dbpedia.org/property/productionCompanies> <http://dbpedia.org/resource/Shaw_Brothers_Studio> .\n",
            "<http://dbpedia.org/resource/Batman_&_Robin_(film)> <http://dbpedia.org/property/studio> <http://dbpedia.org/resource/PolyGram_Filmed_Entertainment> .\n",
            "<http://dbpedia.org/resource/Dr._Strangelove> <http://dbpedia.org/property/studio> <http://dbpedia.org/resource/Hawk_Films> .\n",
            "<http://dbpedia.org/resource/Das_Boot> <http://dbpedia.org/property/productionCompanies> <http://dbpedia.org/resource/Bavaria_Film> .\n",
            "<http://dbpedia.org/resource/Das_Boot> <http://dbpedia.org/property/productionCompanies> <http://dbpedia.org/resource/Westdeutscher_Rundfunk> .\n",
            "<http://dbpedia.org/resource/Das_Boot> <http://dbpedia.org/property/productionCompanies> <http://dbpedia.org/resource/SWR_Fernsehen> .\n",
            "<http://dbpedia.org/resource/Das_Boot> <http://dbpedia.org/property/budget> <http://dbpedia.org/resource/German_mark> .\n",
            "<http://dbpedia.org/resource/Evil_Dead_II> <http://dbpedia.org/property/productionCompanies> <http://dbpedia.org/resource/Renaissance_Pictures> .\n",
            "<http://dbpedia.org/resource/Four_Weddings_and_a_Funeral> <http://dbpedia.org/property/studio> <http://dbpedia.org/resource/Polygram_Filmed_Entertainment> .\n"
          ]
        }
      ]
    },
    {
      "cell_type": "code",
      "source": [
        "import shutil\n",
        "\n",
        "destination_path = \"/content/drive/My Drive/dbpedia_files\"\n",
        "\n",
        "shutil.copy(\"cleaned_movies_filtered_dbpedia.ttl\", destination_path)\n",
        "\n",
        "print(f\"File saved to {destination_path}\")"
      ],
      "metadata": {
        "colab": {
          "base_uri": "https://localhost:8080/"
        },
        "id": "pq5G3ZvL7uJ5",
        "outputId": "b73c5591-aacc-4aa2-fded-e7365c0c8983"
      },
      "execution_count": null,
      "outputs": [
        {
          "output_type": "stream",
          "name": "stdout",
          "text": [
            "File saved to /content/drive/My Drive/dbpedia_files\n"
          ]
        }
      ]
    },
    {
      "cell_type": "code",
      "source": [
        "from pandas.core.frame import fmt\n",
        "\n",
        "# Create a knowledge graph\n",
        "kg = KG(\"/content/drive/My Drive/dbpedia_files/cleaned_movies_filtered_dbpedia.ttl\", fmt='turtle')\n",
        "\n",
        "kgentities = kg._entities"
      ],
      "metadata": {
        "id": "cj-UfrUB7uHG"
      },
      "execution_count": null,
      "outputs": []
    },
    {
      "cell_type": "code",
      "source": [
        "for e in entities:\n",
        "    found = False\n",
        "    for ekg in kgentities:\n",
        "        s = ekg.name\n",
        "        if s==e:\n",
        "            found = True\n",
        "    if not found:\n",
        "        print(e)"
      ],
      "metadata": {
        "colab": {
          "base_uri": "https://localhost:8080/"
        },
        "id": "_hS0YiEs7uBJ",
        "outputId": "16c67a69-e0ff-4388-b5a8-52e2a50bc4ac"
      },
      "execution_count": null,
      "outputs": [
        {
          "output_type": "stream",
          "name": "stdout",
          "text": [
            "http://dbpedia.org/resource/Moolaad%C3%A9\n",
            "http://dbpedia.org/resource/Bad_Education_(film)_(film)\n",
            "http://dbpedia.org/resource/The_Raid:_Redemption\n",
            "http://dbpedia.org/resource/Fados\n",
            "http://dbpedia.org/resource/What_a_Man_(film)\n",
            "http://dbpedia.org/resource/Thunderbirds_(film)\n",
            "http://dbpedia.org/resource/Jumper_(film)\n",
            "http://dbpedia.org/resource/ATM_(film)\n",
            "http://dbpedia.org/resource/Knife_Fight\n",
            "http://dbpedia.org/resource/Zoom_(film)\n",
            "http://dbpedia.org/resource/Short_Cuts\n",
            "http://dbpedia.org:8890/resource/Lone_Star_(1996_film)\n",
            "http://dbpedia.org/resource/La_grande_strada_azzurra\n",
            "http://dbpedia.org/resource/Big_Animal\n",
            "http://dbpedia.org/resource/The_Lookout\n",
            "http://dbpedia.org/resource/The_Proposition\n",
            "http://dbpedia.org/resource/Good_Hair_(film)\n",
            "http://dbpedia.org/resource/Intimate_Strangers\n",
            "http://dbpedia.org/resource/Alice_and_Martin_(1998_film)\n",
            "http://dbpedia.org/resource/Open_Range\n",
            "http://dbpedia.org/resource/All_the_Right_Moves_(film)_(film)\n",
            "http://dbpedia.org/resource/Alexander_(film)\n",
            "http://dbpedia.org/resource/Gigantic_(film)\n",
            "http://dbpedia.org/resource/Dream_House_(film)\n",
            "http://dbpedia.org/resource/Dreamcatcher_(film)\n",
            "http://dbpedia.org/resource/Man_of_the_House_(2005_crime_comedy_film)\n",
            "http://dbpedia.org/resource/Play_the_Game_(film)\n",
            "http://dbpedia.org/resource/Sphere_(film)\n",
            "http://dbpedia.org/resource/Excess_Baggage\n",
            "http://dbpedia.org/resource/Motherhood_(film)\n",
            "http://dbpedia.org/resource/As_Luck_Would_Have_It_(2012_film)_(2012_film)\n",
            "http://dbpedia.org/resource/Das_Wilde_Leben\n",
            "http://dbpedia.org/resource/Someone_Like_You_(film)\n",
            "http://dbpedia.org/resource/John_Q\n",
            "http://dbpedia.org/resource/The_Divide_(film)\n",
            "http://dbpedia.org/resource/Jack_and_Jill_(film)\n",
            "http://dbpedia.org/resource/Molly_(film)\n",
            "http://dbpedia.org/resource/The_Wash_(film)\n",
            "http://dbpedia.org/resource/Followers\n",
            "http://dbpedia.org/resource/Carpool_(film)\n",
            "http://dbpedia.org/resource/Tomcats_(film)\n"
          ]
        }
      ]
    },
    {
      "cell_type": "code",
      "source": [
        "# Entities not in KG\n",
        "absent_entities = [\n",
        "    \"http://dbpedia.org/resource/Moolaad%C3%A9\",\n",
        "    \"http://dbpedia.org/resource/Bad_Education_(film)_(film)\",\n",
        "    \"http://dbpedia.org/resource/The_Raid:_Redemption\",\n",
        "    \"http://dbpedia.org/resource/Fados\",\n",
        "    \"http://dbpedia.org/resource/What_a_Man_(film)\",\n",
        "    \"http://dbpedia.org/resource/Thunderbirds_(film)\",\n",
        "    \"http://dbpedia.org/resource/Jumper_(film)\",\n",
        "    \"http://dbpedia.org/resource/ATM_(film)\",\n",
        "    \"http://dbpedia.org/resource/Knife_Fight\",\n",
        "    \"http://dbpedia.org/resource/Zoom_(film)\",\n",
        "    \"http://dbpedia.org/resource/Short_Cuts\",\n",
        "    \"http://dbpedia.org:8890/resource/Lone_Star_(1996_film)\",\n",
        "    \"http://dbpedia.org/resource/La_grande_strada_azzurra\",\n",
        "    \"http://dbpedia.org/resource/Big_Animal\",\n",
        "    \"http://dbpedia.org/resource/The_Lookout\",\n",
        "    \"http://dbpedia.org/resource/The_Proposition\",\n",
        "    \"http://dbpedia.org/resource/Good_Hair_(film)\",\n",
        "    \"http://dbpedia.org/resource/Intimate_Strangers\",\n",
        "    \"http://dbpedia.org/resource/Alice_and_Martin_(1998_film)\",\n",
        "    \"http://dbpedia.org/resource/Open_Range\",\n",
        "    \"http://dbpedia.org/resource/All_the_Right_Moves_(film)_(film)\",\n",
        "    \"http://dbpedia.org/resource/Alexander_(film)\",\n",
        "    \"http://dbpedia.org/resource/Gigantic_(film)\",\n",
        "    \"http://dbpedia.org/resource/Dream_House_(film)\",\n",
        "    \"http://dbpedia.org/resource/Dreamcatcher_(film)\",\n",
        "    \"http://dbpedia.org/resource/Man_of_the_House_(2005_crime_comedy_film)\",\n",
        "    \"http://dbpedia.org/resource/Play_the_Game_(film)\",\n",
        "    \"http://dbpedia.org/resource/Sphere_(film)\",\n",
        "    \"http://dbpedia.org/resource/Excess_Baggage\",\n",
        "    \"http://dbpedia.org/resource/Motherhood_(film)\",\n",
        "    \"http://dbpedia.org/resource/As_Luck_Would_Have_It_(2012_film)_(2012_film)\",\n",
        "    \"http://dbpedia.org/resource/Das_Wilde_Leben\",\n",
        "    \"http://dbpedia.org/resource/Someone_Like_You_(film)\",\n",
        "    \"http://dbpedia.org/resource/John_Q\",\n",
        "    \"http://dbpedia.org/resource/The_Divide_(film)\",\n",
        "    \"http://dbpedia.org/resource/Jack_and_Jill_(film)\",\n",
        "    \"http://dbpedia.org/resource/Molly_(film)\",\n",
        "    \"http://dbpedia.org/resource/The_Wash_(film)\",\n",
        "    \"http://dbpedia.org/resource/Followers\",\n",
        "    \"http://dbpedia.org/resource/Carpool_(film)\",\n",
        "    \"http://dbpedia.org/resource/Tomcats_(film)\"\n",
        "]\n",
        "\n",
        "# Filter out absent entities\n",
        "filtered_entities = [e for e in entities if e not in absent_entities]\n",
        "filtered_labels = [label for entity, label in zip(entities, labels) if entity not in absent_entities]\n",
        "filtered_reg_targets = [reg_targets for entity, reg_targets in zip(entities, reg_targets) if entity not in absent_entities]"
      ],
      "metadata": {
        "id": "m2w_QA4nEJ3_"
      },
      "execution_count": null,
      "outputs": []
    },
    {
      "cell_type": "markdown",
      "source": [
        "Prepare for Knowledge Graph"
      ],
      "metadata": {
        "id": "QT3paoqWEPuX"
      }
    },
    {
      "cell_type": "code",
      "source": [
        "from rdflib import Graph, URIRef, Literal, Namespace\n",
        "import networkx as nx"
      ],
      "metadata": {
        "id": "x1sXKuggEJ1O"
      },
      "execution_count": null,
      "outputs": []
    },
    {
      "cell_type": "code",
      "source": [
        "# Load the graph from the input file\n",
        "graph = Graph()\n",
        "graph.parse(\"/content/drive/My Drive/dbpedia_files/cleaned_movies_filtered_dbpedia.ttl\", format=\"turtle\")"
      ],
      "metadata": {
        "id": "wk65TwLlEJyo",
        "colab": {
          "base_uri": "https://localhost:8080/"
        },
        "outputId": "6afa0bd0-4b49-4a84-ddce-3c4b1b39a641"
      },
      "execution_count": null,
      "outputs": [
        {
          "output_type": "execute_result",
          "data": {
            "text/plain": [
              "<Graph identifier=Nbe957ee8d9784275afdf66e5acec75ea (<class 'rdflib.graph.Graph'>)>"
            ]
          },
          "metadata": {},
          "execution_count": 11
        }
      ]
    },
    {
      "cell_type": "code",
      "source": [
        "G = nx.DiGraph()  # Create a directed graph\n",
        "\n",
        "for s, p, o in graph:\n",
        "    G.add_edge(s, o, predicate=p)"
      ],
      "metadata": {
        "id": "QC-lXxaCEJv0"
      },
      "execution_count": null,
      "outputs": []
    },
    {
      "cell_type": "code",
      "source": [
        "#Exhibihate the size of subgraph：The number of nodes and edges in the subgraph.\n",
        "num_nodes = len(G.nodes())\n",
        "num_edges = len(G.edges())\n",
        "print(\"The DBpedia knowledge graph as of 2016-10 has \" + str(num_nodes) + \" nodes and \" + str(num_edges) + \" edges.\")"
      ],
      "metadata": {
        "id": "LbJQA3hGEePB",
        "colab": {
          "base_uri": "https://localhost:8080/"
        },
        "outputId": "9b818963-7c0a-40d6-ce0c-876fcbda093c"
      },
      "execution_count": null,
      "outputs": [
        {
          "output_type": "stream",
          "name": "stdout",
          "text": [
            "The DBpedia knowledge graph as of 2016-10 has 3309931 nodes and 9529784 edges.\n"
          ]
        }
      ]
    },
    {
      "cell_type": "markdown",
      "source": [
        "Classification & Regression tasks based graph embeddings without SA"
      ],
      "metadata": {
        "id": "Vwdr_NGwEk8r"
      }
    },
    {
      "cell_type": "code",
      "source": [
        "from sklearn.model_selection import StratifiedKFold, cross_val_score, GridSearchCV, KFold\n",
        "from sklearn.naive_bayes import GaussianNB\n",
        "from sklearn.tree import DecisionTreeClassifier, DecisionTreeRegressor\n",
        "from sklearn.neighbors import KNeighborsClassifier, KNeighborsRegressor\n",
        "from sklearn.svm import SVC, SVR\n",
        "from sklearn.linear_model import LinearRegression\n",
        "from sklearn.metrics import make_scorer, mean_squared_error\n",
        "import pandas as pd"
      ],
      "metadata": {
        "id": "kErnuPFmEeMF"
      },
      "execution_count": null,
      "outputs": []
    },
    {
      "cell_type": "code",
      "source": [
        "# Initialize the results dataframe\n",
        "results = pd.DataFrame(columns=['Embedding Mode', 'Dimensions', 'Classifier/Regressor', 'Metric', 'Score'])\n",
        "\n",
        "# Define the walker with depth 4 and 500 walks per entity\n",
        "walker = RandomWalker(4, 500)\n",
        "\n",
        "# Train the embeddings for different configurations\n",
        "for mode in ['cbow', 'sg']:\n",
        "    for dim in [50, 100, 200]:\n",
        "        # 1. Generate embeddings\n",
        "        sg = 1 if mode == 'sg' else 0\n",
        "        embedder = Word2Vec(sg=sg, window=5, negative=25, vector_size=dim, sample=0, ns_exponent=0.75, epochs=5)\n",
        "        transformer = RDF2VecTransformer(embedder=embedder, walkers=[walker])\n",
        "\n",
        "        embeddings,_ = transformer.fit_transform(kg, filtered_entities)\n",
        "\n",
        "        # 2. Perform classification and regression tasks\n",
        "        skf = StratifiedKFold(n_splits=10)\n",
        "        kf = KFold(n_splits=10)\n",
        "\n",
        "        # Classification\n",
        "        classifiers = {\n",
        "            'Naive Bayes': GaussianNB(),\n",
        "            'C4.5': DecisionTreeClassifier(),\n",
        "            'KNN (k=3)': KNeighborsClassifier(n_neighbors=3),\n",
        "            'SVM': GridSearchCV(SVC(), param_grid={'C': [10**-3, 10**-2, 0.1, 1, 10, 10**2, 10**3]})\n",
        "        }\n",
        "\n",
        "        for name, clf in classifiers.items():\n",
        "            scores = cross_val_score(clf, embeddings, filtered_labels, cv=skf, scoring='accuracy')\n",
        "            results = results.append({'Embedding Mode': mode, 'Dimensions': dim, 'Classifier/Regressor': name, 'Metric': 'Accuracy', 'Score': scores.mean()}, ignore_index=True)\n",
        "\n",
        "        # Regression\n",
        "        regressors = {\n",
        "            'Linear Regression': LinearRegression(),\n",
        "            'KNN (k=3) Regressor': KNeighborsRegressor(n_neighbors=3),\n",
        "            'M5Rules': DecisionTreeRegressor()\n",
        "        }\n",
        "\n",
        "        for name, reg in regressors.items():\n",
        "            rmse_scorer = make_scorer(mean_squared_error, squared=False)\n",
        "            scores = cross_val_score(reg, embeddings, filtered_reg_targets, cv=kf, scoring=rmse_scorer)\n",
        "            results = results.append({'Embedding Mode': mode, 'Dimensions': dim, 'Classifier/Regressor': name, 'Metric': 'RMSE', 'Score': scores.mean()}, ignore_index=True)\n",
        "\n",
        "# Save the results\n",
        "results.to_csv('pure_class_reg_results.csv')"
      ],
      "metadata": {
        "id": "VKbmTOwAEeJd"
      },
      "execution_count": null,
      "outputs": []
    },
    {
      "cell_type": "code",
      "source": [
        "print(results.head())"
      ],
      "metadata": {
        "id": "iBkykE9oEeGz",
        "colab": {
          "base_uri": "https://localhost:8080/"
        },
        "outputId": "aebf0cad-46c1-444e-9ead-740dc33e9221"
      },
      "execution_count": null,
      "outputs": [
        {
          "output_type": "stream",
          "name": "stdout",
          "text": [
            "  Embedding Mode Dimensions Classifier/Regressor    Metric      Score\n",
            "0           cbow         50          Naive Bayes  Accuracy   0.772391\n",
            "1           cbow         50                 C4.5  Accuracy   0.727902\n",
            "2           cbow         50            KNN (k=3)  Accuracy   0.812622\n",
            "3           cbow         50                  SVM  Accuracy   0.821829\n",
            "4           cbow         50    Linear Regression      RMSE  19.297329\n"
          ]
        }
      ]
    },
    {
      "cell_type": "markdown",
      "source": [
        "Classification & Regression tasks based graph embeddings extracted on subgraph base on SA with BFS\n",
        "\n"
      ],
      "metadata": {
        "id": "8aToc3-FAgr1"
      }
    },
    {
      "cell_type": "code",
      "source": [
        "from google.colab import files\n",
        "uploaded = files.upload()"
      ],
      "metadata": {
        "id": "QaagIClEEeEL",
        "colab": {
          "base_uri": "https://localhost:8080/",
          "height": 108
        },
        "outputId": "33216ad5-94c9-4270-b635-5b7842699509"
      },
      "execution_count": null,
      "outputs": [
        {
          "output_type": "display_data",
          "data": {
            "text/plain": [
              "<IPython.core.display.HTML object>"
            ],
            "text/html": [
              "\n",
              "     <input type=\"file\" id=\"files-9ce69705-bdfb-43b6-a39f-1101a5f834e7\" name=\"files[]\" multiple disabled\n",
              "        style=\"border:none\" />\n",
              "     <output id=\"result-9ce69705-bdfb-43b6-a39f-1101a5f834e7\">\n",
              "      Upload widget is only available when the cell has been executed in the\n",
              "      current browser session. Please rerun this cell to enable.\n",
              "      </output>\n",
              "      <script>// Copyright 2017 Google LLC\n",
              "//\n",
              "// Licensed under the Apache License, Version 2.0 (the \"License\");\n",
              "// you may not use this file except in compliance with the License.\n",
              "// You may obtain a copy of the License at\n",
              "//\n",
              "//      http://www.apache.org/licenses/LICENSE-2.0\n",
              "//\n",
              "// Unless required by applicable law or agreed to in writing, software\n",
              "// distributed under the License is distributed on an \"AS IS\" BASIS,\n",
              "// WITHOUT WARRANTIES OR CONDITIONS OF ANY KIND, either express or implied.\n",
              "// See the License for the specific language governing permissions and\n",
              "// limitations under the License.\n",
              "\n",
              "/**\n",
              " * @fileoverview Helpers for google.colab Python module.\n",
              " */\n",
              "(function(scope) {\n",
              "function span(text, styleAttributes = {}) {\n",
              "  const element = document.createElement('span');\n",
              "  element.textContent = text;\n",
              "  for (const key of Object.keys(styleAttributes)) {\n",
              "    element.style[key] = styleAttributes[key];\n",
              "  }\n",
              "  return element;\n",
              "}\n",
              "\n",
              "// Max number of bytes which will be uploaded at a time.\n",
              "const MAX_PAYLOAD_SIZE = 100 * 1024;\n",
              "\n",
              "function _uploadFiles(inputId, outputId) {\n",
              "  const steps = uploadFilesStep(inputId, outputId);\n",
              "  const outputElement = document.getElementById(outputId);\n",
              "  // Cache steps on the outputElement to make it available for the next call\n",
              "  // to uploadFilesContinue from Python.\n",
              "  outputElement.steps = steps;\n",
              "\n",
              "  return _uploadFilesContinue(outputId);\n",
              "}\n",
              "\n",
              "// This is roughly an async generator (not supported in the browser yet),\n",
              "// where there are multiple asynchronous steps and the Python side is going\n",
              "// to poll for completion of each step.\n",
              "// This uses a Promise to block the python side on completion of each step,\n",
              "// then passes the result of the previous step as the input to the next step.\n",
              "function _uploadFilesContinue(outputId) {\n",
              "  const outputElement = document.getElementById(outputId);\n",
              "  const steps = outputElement.steps;\n",
              "\n",
              "  const next = steps.next(outputElement.lastPromiseValue);\n",
              "  return Promise.resolve(next.value.promise).then((value) => {\n",
              "    // Cache the last promise value to make it available to the next\n",
              "    // step of the generator.\n",
              "    outputElement.lastPromiseValue = value;\n",
              "    return next.value.response;\n",
              "  });\n",
              "}\n",
              "\n",
              "/**\n",
              " * Generator function which is called between each async step of the upload\n",
              " * process.\n",
              " * @param {string} inputId Element ID of the input file picker element.\n",
              " * @param {string} outputId Element ID of the output display.\n",
              " * @return {!Iterable<!Object>} Iterable of next steps.\n",
              " */\n",
              "function* uploadFilesStep(inputId, outputId) {\n",
              "  const inputElement = document.getElementById(inputId);\n",
              "  inputElement.disabled = false;\n",
              "\n",
              "  const outputElement = document.getElementById(outputId);\n",
              "  outputElement.innerHTML = '';\n",
              "\n",
              "  const pickedPromise = new Promise((resolve) => {\n",
              "    inputElement.addEventListener('change', (e) => {\n",
              "      resolve(e.target.files);\n",
              "    });\n",
              "  });\n",
              "\n",
              "  const cancel = document.createElement('button');\n",
              "  inputElement.parentElement.appendChild(cancel);\n",
              "  cancel.textContent = 'Cancel upload';\n",
              "  const cancelPromise = new Promise((resolve) => {\n",
              "    cancel.onclick = () => {\n",
              "      resolve(null);\n",
              "    };\n",
              "  });\n",
              "\n",
              "  // Wait for the user to pick the files.\n",
              "  const files = yield {\n",
              "    promise: Promise.race([pickedPromise, cancelPromise]),\n",
              "    response: {\n",
              "      action: 'starting',\n",
              "    }\n",
              "  };\n",
              "\n",
              "  cancel.remove();\n",
              "\n",
              "  // Disable the input element since further picks are not allowed.\n",
              "  inputElement.disabled = true;\n",
              "\n",
              "  if (!files) {\n",
              "    return {\n",
              "      response: {\n",
              "        action: 'complete',\n",
              "      }\n",
              "    };\n",
              "  }\n",
              "\n",
              "  for (const file of files) {\n",
              "    const li = document.createElement('li');\n",
              "    li.append(span(file.name, {fontWeight: 'bold'}));\n",
              "    li.append(span(\n",
              "        `(${file.type || 'n/a'}) - ${file.size} bytes, ` +\n",
              "        `last modified: ${\n",
              "            file.lastModifiedDate ? file.lastModifiedDate.toLocaleDateString() :\n",
              "                                    'n/a'} - `));\n",
              "    const percent = span('0% done');\n",
              "    li.appendChild(percent);\n",
              "\n",
              "    outputElement.appendChild(li);\n",
              "\n",
              "    const fileDataPromise = new Promise((resolve) => {\n",
              "      const reader = new FileReader();\n",
              "      reader.onload = (e) => {\n",
              "        resolve(e.target.result);\n",
              "      };\n",
              "      reader.readAsArrayBuffer(file);\n",
              "    });\n",
              "    // Wait for the data to be ready.\n",
              "    let fileData = yield {\n",
              "      promise: fileDataPromise,\n",
              "      response: {\n",
              "        action: 'continue',\n",
              "      }\n",
              "    };\n",
              "\n",
              "    // Use a chunked sending to avoid message size limits. See b/62115660.\n",
              "    let position = 0;\n",
              "    do {\n",
              "      const length = Math.min(fileData.byteLength - position, MAX_PAYLOAD_SIZE);\n",
              "      const chunk = new Uint8Array(fileData, position, length);\n",
              "      position += length;\n",
              "\n",
              "      const base64 = btoa(String.fromCharCode.apply(null, chunk));\n",
              "      yield {\n",
              "        response: {\n",
              "          action: 'append',\n",
              "          file: file.name,\n",
              "          data: base64,\n",
              "        },\n",
              "      };\n",
              "\n",
              "      let percentDone = fileData.byteLength === 0 ?\n",
              "          100 :\n",
              "          Math.round((position / fileData.byteLength) * 100);\n",
              "      percent.textContent = `${percentDone}% done`;\n",
              "\n",
              "    } while (position < fileData.byteLength);\n",
              "  }\n",
              "\n",
              "  // All done.\n",
              "  yield {\n",
              "    response: {\n",
              "      action: 'complete',\n",
              "    }\n",
              "  };\n",
              "}\n",
              "\n",
              "scope.google = scope.google || {};\n",
              "scope.google.colab = scope.google.colab || {};\n",
              "scope.google.colab._files = {\n",
              "  _uploadFiles,\n",
              "  _uploadFilesContinue,\n",
              "};\n",
              "})(self);\n",
              "</script> "
            ]
          },
          "metadata": {}
        },
        {
          "output_type": "stream",
          "name": "stdout",
          "text": [
            "Saving main.py to main.py\n",
            "Saving sa_helper.py to sa_helper.py\n"
          ]
        }
      ]
    },
    {
      "cell_type": "code",
      "source": [
        "from main import *\n",
        "from sa_helper import *"
      ],
      "metadata": {
        "id": "rNhR3CHrEeAw"
      },
      "execution_count": null,
      "outputs": []
    },
    {
      "cell_type": "code",
      "source": [
        "# Count the neighbor node number for each nodes in the graph\n",
        "neighbor_counts = {node: len(list(G.neighbors(node))) for node in G.nodes()}"
      ],
      "metadata": {
        "id": "ZCIwuQbEEd9j"
      },
      "execution_count": null,
      "outputs": []
    },
    {
      "cell_type": "markdown",
      "source": [
        "excl=False, pop=False"
      ],
      "metadata": {
        "id": "PRF6wJqM0ePp"
      }
    },
    {
      "cell_type": "code",
      "source": [
        "subgraph_F_F = spreading_activation_BFS(graph, G, filtered_entities, neighbor_counts,\n",
        "                                    alpha=0.186, beta=0.006, max_hops=3, extraction_threshold=0,\n",
        "                                    strict=False, fan_out=True, excl=False, pop=False)"
      ],
      "metadata": {
        "id": "2VbHVjtjAvDW"
      },
      "execution_count": null,
      "outputs": []
    },
    {
      "cell_type": "code",
      "source": [
        "G_sub = nx.DiGraph()  # Create a directed graph\n",
        "\n",
        "for s, p, o in subgraph_F_F:\n",
        "    G_sub.add_edge(s, o, predicate=p)"
      ],
      "metadata": {
        "id": "SceQyHE3AvA7"
      },
      "execution_count": null,
      "outputs": []
    },
    {
      "cell_type": "code",
      "source": [
        "#Exhibihate the size of subgraph：The number of nodes and edges in the subgraph.\n",
        "num_nodes = len(G_sub.nodes())\n",
        "num_edges = len(G_sub.edges())\n",
        "print(\"The subgraph of DBpedia based on SA has \" + str(num_nodes) + \" nodes and \" + str(num_edges) + \" edges.\")"
      ],
      "metadata": {
        "colab": {
          "base_uri": "https://localhost:8080/"
        },
        "id": "WL2beKFRAu-M",
        "outputId": "5ea1270f-ec92-4c0f-d724-1961b93f8f08"
      },
      "execution_count": null,
      "outputs": [
        {
          "output_type": "stream",
          "name": "stdout",
          "text": [
            "The subgraph of DBpedia based on SA has 24039 nodes and 58989 edges.\n"
          ]
        }
      ]
    },
    {
      "cell_type": "code",
      "source": [
        "# Serialize the graph to TTL format\n",
        "nt_data = subgraph_F_F.serialize(format='nt')\n",
        "\n",
        "# Save to a TTL file\n",
        "with open('BFS_subgraph_ff.nt', 'w') as output_file:\n",
        "    output_file.write(nt_data)"
      ],
      "metadata": {
        "id": "G0P05btqAu7T"
      },
      "execution_count": null,
      "outputs": []
    },
    {
      "cell_type": "code",
      "source": [
        "from pandas.core.frame import fmt\n",
        "\n",
        "# Create a knowledge graph\n",
        "kg = KG(\"BFS_subgraph_ff.nt\", fmt='nt')\n",
        "\n",
        "kgentities = kg._entities"
      ],
      "metadata": {
        "id": "bLWsUU9AAu2z"
      },
      "execution_count": null,
      "outputs": []
    },
    {
      "cell_type": "code",
      "source": [
        "for e in filtered_entities:\n",
        "    found = False\n",
        "    for ekg in kgentities:\n",
        "        s = ekg.name\n",
        "        if s==e:\n",
        "            found = True\n",
        "    if not found:\n",
        "        print(e)"
      ],
      "metadata": {
        "id": "ai9JfHW9AuwA"
      },
      "execution_count": null,
      "outputs": []
    },
    {
      "cell_type": "code",
      "source": [
        "# Initialize the results dataframe\n",
        "results = pd.DataFrame(columns=['Embedding Mode', 'Dimensions', 'Classifier/Regressor', 'Metric', 'Score'])\n",
        "\n",
        "# Define the walker with depth 4 and 500 walks per entity\n",
        "walker = RandomWalker(4, 500, with_reverse=False)\n",
        "\n",
        "# Train the embeddings for different configurations\n",
        "for mode in ['cbow', 'sg']:\n",
        "    for dim in [50, 100, 200]:\n",
        "        # 1. Generate embeddings\n",
        "        sg = 1 if mode == 'sg' else 0\n",
        "        embedder = Word2Vec(sg=sg, window=5, negative=25, vector_size=dim, sample=0, ns_exponent=0.75, epochs=5)\n",
        "        transformer = RDF2VecTransformer(embedder=embedder, walkers=[walker])\n",
        "\n",
        "        embeddings,_ = transformer.fit_transform(kg, filtered_entities)\n",
        "\n",
        "        # 2. Perform classification and regression tasks\n",
        "        skf = StratifiedKFold(n_splits=10)\n",
        "        kf = KFold(n_splits=10)\n",
        "\n",
        "        # Classification\n",
        "        classifiers = {\n",
        "            'Naive Bayes': GaussianNB(),\n",
        "            'C4.5': DecisionTreeClassifier(),\n",
        "            'KNN (k=3)': KNeighborsClassifier(n_neighbors=3),\n",
        "            'SVM': GridSearchCV(SVC(), param_grid={'C': [10**-3, 10**-2, 0.1, 1, 10, 10**2, 10**3]})\n",
        "        }\n",
        "\n",
        "        for name, clf in classifiers.items():\n",
        "            scores = cross_val_score(clf, embeddings, filtered_labels, cv=skf, scoring='accuracy')\n",
        "            results = results.append({'Embedding Mode': mode, 'Dimensions': dim, 'Classifier/Regressor': name, 'Metric': 'Accuracy', 'Score': scores.mean()}, ignore_index=True)\n",
        "\n",
        "        # Regression\n",
        "        regressors = {\n",
        "            'Linear Regression': LinearRegression(),\n",
        "            'KNN (k=3) Regressor': KNeighborsRegressor(n_neighbors=3),\n",
        "            'M5Rules': DecisionTreeRegressor()\n",
        "        }\n",
        "\n",
        "        for name, reg in regressors.items():\n",
        "            rmse_scorer = make_scorer(mean_squared_error, squared=False)\n",
        "            scores = cross_val_score(reg, embeddings, filtered_reg_targets, cv=kf, scoring=rmse_scorer)\n",
        "            results = results.append({'Embedding Mode': mode, 'Dimensions': dim, 'Classifier/Regressor': name, 'Metric': 'RMSE', 'Score': scores.mean()}, ignore_index=True)\n",
        "\n",
        "# Save the results\n",
        "results.to_csv('BFS_class_reg_results_ff.csv')"
      ],
      "metadata": {
        "id": "9M1gAZ9sAuof"
      },
      "execution_count": null,
      "outputs": []
    },
    {
      "cell_type": "code",
      "source": [
        "print(results.head())"
      ],
      "metadata": {
        "colab": {
          "base_uri": "https://localhost:8080/"
        },
        "id": "46dey3puB8oN",
        "outputId": "0ddbea4e-3803-4100-bb09-f48fef81c15c"
      },
      "execution_count": null,
      "outputs": [
        {
          "output_type": "stream",
          "name": "stdout",
          "text": [
            "  Embedding Mode Dimensions Classifier/Regressor    Metric      Score\n",
            "0           cbow         50          Naive Bayes  Accuracy   0.557923\n",
            "1           cbow         50                 C4.5  Accuracy   0.671763\n",
            "2           cbow         50            KNN (k=3)  Accuracy   0.733511\n",
            "3           cbow         50                  SVM  Accuracy   0.742690\n",
            "4           cbow         50    Linear Regression      RMSE  22.826486\n"
          ]
        }
      ]
    },
    {
      "cell_type": "markdown",
      "source": [
        "excl=True, pop=False"
      ],
      "metadata": {
        "id": "8Gg3TP9Z0iBf"
      }
    },
    {
      "cell_type": "code",
      "source": [
        "subgraph_T_F = spreading_activation_BFS(graph, G, filtered_entities, neighbor_counts,\n",
        "                                    alpha=0.186, beta=0.006, max_hops=3, extraction_threshold=0,\n",
        "                                    strict=False, fan_out=True, excl=True, pop=False)"
      ],
      "metadata": {
        "id": "q8pxQbKxB8h9"
      },
      "execution_count": null,
      "outputs": []
    },
    {
      "cell_type": "code",
      "source": [
        "G_sub_tf = nx.DiGraph()  # Create a directed graph\n",
        "\n",
        "for s, p, o in subgraph_T_F:\n",
        "    G_sub_tf.add_edge(s, o, predicate=p)"
      ],
      "metadata": {
        "id": "TKbQC22JB8dt"
      },
      "execution_count": null,
      "outputs": []
    },
    {
      "cell_type": "code",
      "source": [
        "#Exhibihate the size of subgraph：The number of nodes and edges in the subgraph.\n",
        "num_nodes = len(G_sub_tf.nodes())\n",
        "num_edges = len(G_sub_tf.edges())\n",
        "print(\"The subgraph of DBpedia based on SA has \" + str(num_nodes) + \" nodes and \" + str(num_edges) + \" edges.\")"
      ],
      "metadata": {
        "colab": {
          "base_uri": "https://localhost:8080/"
        },
        "id": "Wy8sI0crB8bF",
        "outputId": "88415ca9-71b2-46ae-9604-d3d98dee617d"
      },
      "execution_count": null,
      "outputs": [
        {
          "output_type": "stream",
          "name": "stdout",
          "text": [
            "The subgraph of DBpedia based on SA has 24255 nodes and 59289 edges.\n"
          ]
        }
      ]
    },
    {
      "cell_type": "code",
      "source": [
        "# Serialize the graph to TTL format\n",
        "nt_data = subgraph_T_F.serialize(format='nt')\n",
        "\n",
        "# Save to a TTL file\n",
        "with open('BFS_subgraph_tf.nt', 'w') as output_file:\n",
        "    output_file.write(nt_data)"
      ],
      "metadata": {
        "id": "DqF3BIbjCOCR"
      },
      "execution_count": null,
      "outputs": []
    },
    {
      "cell_type": "code",
      "source": [
        "from pandas.core.frame import fmt\n",
        "\n",
        "# Create a knowledge graph\n",
        "kg = KG(\"BFS_subgraph_tf.nt\", fmt='nt')\n",
        "\n",
        "kgentities = kg._entities"
      ],
      "metadata": {
        "id": "dL2LgIOHCN9W"
      },
      "execution_count": null,
      "outputs": []
    },
    {
      "cell_type": "code",
      "source": [
        "for e in filtered_entities:\n",
        "    found = False\n",
        "    for ekg in kgentities:\n",
        "        s = ekg.name\n",
        "        if s==e:\n",
        "            found = True\n",
        "    if not found:\n",
        "        print(e)"
      ],
      "metadata": {
        "id": "9nyq4RvfCN66"
      },
      "execution_count": null,
      "outputs": []
    },
    {
      "cell_type": "code",
      "source": [
        "# Initialize the results dataframe\n",
        "results = pd.DataFrame(columns=['Embedding Mode', 'Dimensions', 'Classifier/Regressor', 'Metric', 'Score'])\n",
        "\n",
        "# Define the walker with depth 4 and 500 walks per entity\n",
        "walker = RandomWalker(4, 500, with_reverse=False)\n",
        "\n",
        "# Train the embeddings for different configurations\n",
        "for mode in ['cbow', 'sg']:\n",
        "    for dim in [50, 100, 200]:\n",
        "        # 1. Generate embeddings\n",
        "        sg = 1 if mode == 'sg' else 0\n",
        "        embedder = Word2Vec(sg=sg, window=5, negative=25, vector_size=dim, sample=0, ns_exponent=0.75, epochs=5)\n",
        "        transformer = RDF2VecTransformer(embedder=embedder, walkers=[walker])\n",
        "\n",
        "        embeddings,_ = transformer.fit_transform(kg, filtered_entities)\n",
        "\n",
        "        # 2. Perform classification and regression tasks\n",
        "        skf = StratifiedKFold(n_splits=10)\n",
        "        kf = KFold(n_splits=10)\n",
        "\n",
        "        # Classification\n",
        "        classifiers = {\n",
        "            'Naive Bayes': GaussianNB(),\n",
        "            'C4.5': DecisionTreeClassifier(),\n",
        "            'KNN (k=3)': KNeighborsClassifier(n_neighbors=3),\n",
        "            'SVM': GridSearchCV(SVC(), param_grid={'C': [10**-3, 10**-2, 0.1, 1, 10, 10**2, 10**3]})\n",
        "        }\n",
        "\n",
        "        for name, clf in classifiers.items():\n",
        "            scores = cross_val_score(clf, embeddings, filtered_labels, cv=skf, scoring='accuracy')\n",
        "            results = results.append({'Embedding Mode': mode, 'Dimensions': dim, 'Classifier/Regressor': name, 'Metric': 'Accuracy', 'Score': scores.mean()}, ignore_index=True)\n",
        "\n",
        "        # Regression\n",
        "        regressors = {\n",
        "            'Linear Regression': LinearRegression(),\n",
        "            'KNN (k=3) Regressor': KNeighborsRegressor(n_neighbors=3),\n",
        "            'M5Rules': DecisionTreeRegressor()\n",
        "        }\n",
        "\n",
        "        for name, reg in regressors.items():\n",
        "            rmse_scorer = make_scorer(mean_squared_error, squared=False)\n",
        "            scores = cross_val_score(reg, embeddings, filtered_reg_targets, cv=kf, scoring=rmse_scorer)\n",
        "            results = results.append({'Embedding Mode': mode, 'Dimensions': dim, 'Classifier/Regressor': name, 'Metric': 'RMSE', 'Score': scores.mean()}, ignore_index=True)\n",
        "\n",
        "# Save the results\n",
        "results.to_csv('BFS_class_reg_results_tf.csv')"
      ],
      "metadata": {
        "id": "krFJDxpWCN31"
      },
      "execution_count": null,
      "outputs": []
    },
    {
      "cell_type": "code",
      "source": [
        "print(results.head())"
      ],
      "metadata": {
        "colab": {
          "base_uri": "https://localhost:8080/"
        },
        "id": "n0_lbdDdFGYU",
        "outputId": "0ca1492e-f8f9-4760-f527-bf8bdc8172bc"
      },
      "execution_count": null,
      "outputs": [
        {
          "output_type": "stream",
          "name": "stdout",
          "text": [
            "  Embedding Mode Dimensions Classifier/Regressor    Metric      Score\n",
            "0           cbow         50          Naive Bayes  Accuracy   0.652865\n",
            "1           cbow         50                 C4.5  Accuracy   0.707998\n",
            "2           cbow         50            KNN (k=3)  Accuracy   0.747794\n",
            "3           cbow         50                  SVM  Accuracy   0.811617\n",
            "4           cbow         50    Linear Regression      RMSE  22.401318\n"
          ]
        }
      ]
    },
    {
      "cell_type": "markdown",
      "source": [
        "excl=False, pop=True"
      ],
      "metadata": {
        "id": "LPuYWjAL0naj"
      }
    },
    {
      "cell_type": "code",
      "source": [
        "subgraph_F_T = spreading_activation_BFS(graph, G, filtered_entities, neighbor_counts, alpha=0.186,\n",
        "                                        beta=0.006, max_hops=3, extraction_threshold=0,\n",
        "                                        strict=False, fan_out=True, excl=False, pop=True)"
      ],
      "metadata": {
        "id": "WHnHm20oFHUK"
      },
      "execution_count": null,
      "outputs": []
    },
    {
      "cell_type": "code",
      "source": [
        "G_sub_ft = nx.DiGraph()  # Create a directed graph\n",
        "\n",
        "for s, p, o in subgraph_F_T:\n",
        "    G_sub_ft.add_edge(s, o, predicate=p)"
      ],
      "metadata": {
        "id": "_DidjQA3FHRe"
      },
      "execution_count": null,
      "outputs": []
    },
    {
      "cell_type": "code",
      "source": [
        "#Exhibihate the size of subgraph：The number of nodes and edges in the subgraph.\n",
        "num_nodes = len(G_sub_ft.nodes())\n",
        "num_edges = len(G_sub_ft.edges())\n",
        "print(\"The subgraph of DBpedia based on SA has \" + str(num_nodes) + \" nodes and \" + str(num_edges) + \" edges.\")"
      ],
      "metadata": {
        "id": "GvxcfEeNFHPP",
        "colab": {
          "base_uri": "https://localhost:8080/"
        },
        "outputId": "3da1e295-4c62-46c8-f304-f1c5a73fe415"
      },
      "execution_count": null,
      "outputs": [
        {
          "output_type": "stream",
          "name": "stdout",
          "text": [
            "The subgraph of DBpedia based on SA has 21028 nodes and 55246 edges.\n"
          ]
        }
      ]
    },
    {
      "cell_type": "code",
      "source": [
        "# Serialize the graph to TTL format\n",
        "nt_data = subgraph_F_T.serialize(format='nt')\n",
        "\n",
        "# Save to a TTL file\n",
        "with open('BFS_subgraph_ft.nt', 'w') as output_file:\n",
        "    output_file.write(nt_data)"
      ],
      "metadata": {
        "id": "N1d_pNpFFHMU"
      },
      "execution_count": null,
      "outputs": []
    },
    {
      "cell_type": "code",
      "source": [
        "from pandas.core.frame import fmt\n",
        "\n",
        "# Create a knowledge graph\n",
        "kg = KG(\"BFS_subgraph_ft.nt\", fmt='nt')\n",
        "\n",
        "kgentities = kg._entities"
      ],
      "metadata": {
        "id": "tu9k5vJkFHJh"
      },
      "execution_count": null,
      "outputs": []
    },
    {
      "cell_type": "code",
      "source": [
        "for e in filtered_entities:\n",
        "    found = False\n",
        "    for ekg in kgentities:\n",
        "        s = ekg.name\n",
        "        if s==e:\n",
        "            found = True\n",
        "    if not found:\n",
        "        print(e)"
      ],
      "metadata": {
        "id": "jwjLob55FHG6"
      },
      "execution_count": null,
      "outputs": []
    },
    {
      "cell_type": "code",
      "source": [
        "# Initialize the results dataframe\n",
        "results = pd.DataFrame(columns=['Embedding Mode', 'Dimensions', 'Classifier/Regressor', 'Metric', 'Score'])\n",
        "\n",
        "# Define the walker with depth 4 and 500 walks per entity\n",
        "walker = RandomWalker(4, 500, with_reverse=False)\n",
        "\n",
        "# Train the embeddings for different configurations\n",
        "for mode in ['cbow', 'sg']:\n",
        "    for dim in [50, 100, 200]:\n",
        "        # 1. Generate embeddings\n",
        "        sg = 1 if mode == 'sg' else 0\n",
        "        embedder = Word2Vec(sg=sg, window=5, negative=25, vector_size=dim, sample=0, ns_exponent=0.75, epochs=5)\n",
        "        transformer = RDF2VecTransformer(embedder=embedder, walkers=[walker])\n",
        "\n",
        "        embeddings,_ = transformer.fit_transform(kg, filtered_entities)\n",
        "\n",
        "        # 2. Perform classification and regression tasks\n",
        "        skf = StratifiedKFold(n_splits=10)\n",
        "        kf = KFold(n_splits=10)\n",
        "\n",
        "        # Classification\n",
        "        classifiers = {\n",
        "            'Naive Bayes': GaussianNB(),\n",
        "            'C4.5': DecisionTreeClassifier(),\n",
        "            'KNN (k=3)': KNeighborsClassifier(n_neighbors=3),\n",
        "            'SVM': GridSearchCV(SVC(), param_grid={'C': [10**-3, 10**-2, 0.1, 1, 10, 10**2, 10**3]})\n",
        "        }\n",
        "\n",
        "        for name, clf in classifiers.items():\n",
        "            scores = cross_val_score(clf, embeddings, filtered_labels, cv=skf, scoring='accuracy')\n",
        "            results = results.append({'Embedding Mode': mode, 'Dimensions': dim, 'Classifier/Regressor': name, 'Metric': 'Accuracy', 'Score': scores.mean()}, ignore_index=True)\n",
        "\n",
        "        # Regression\n",
        "        regressors = {\n",
        "            'Linear Regression': LinearRegression(),\n",
        "            'KNN (k=3) Regressor': KNeighborsRegressor(n_neighbors=3),\n",
        "            'M5Rules': DecisionTreeRegressor()\n",
        "        }\n",
        "\n",
        "        for name, reg in regressors.items():\n",
        "            rmse_scorer = make_scorer(mean_squared_error, squared=False)\n",
        "            scores = cross_val_score(reg, embeddings, filtered_reg_targets, cv=kf, scoring=rmse_scorer)\n",
        "            results = results.append({'Embedding Mode': mode, 'Dimensions': dim, 'Classifier/Regressor': name, 'Metric': 'RMSE', 'Score': scores.mean()}, ignore_index=True)\n",
        "\n",
        "# Save the results\n",
        "results.to_csv('BFS_class_reg_results_ft.csv')"
      ],
      "metadata": {
        "id": "ESy3UjjyFHEQ"
      },
      "execution_count": null,
      "outputs": []
    },
    {
      "cell_type": "code",
      "source": [
        "print(results.head())"
      ],
      "metadata": {
        "id": "dtGXUvqTFG71",
        "colab": {
          "base_uri": "https://localhost:8080/"
        },
        "outputId": "2e192392-3983-4383-db91-a161168017d8"
      },
      "execution_count": null,
      "outputs": [
        {
          "output_type": "stream",
          "name": "stdout",
          "text": [
            "  Embedding Mode Dimensions Classifier/Regressor    Metric      Score\n",
            "0           cbow         50          Naive Bayes  Accuracy   0.629419\n",
            "1           cbow         50                 C4.5  Accuracy   0.683987\n",
            "2           cbow         50            KNN (k=3)  Accuracy   0.737622\n",
            "3           cbow         50                  SVM  Accuracy   0.750361\n",
            "4           cbow         50    Linear Regression      RMSE  22.866688\n"
          ]
        }
      ]
    },
    {
      "cell_type": "markdown",
      "source": [
        "excl=True, pop=True"
      ],
      "metadata": {
        "id": "g-Ec2ifo0tps"
      }
    },
    {
      "cell_type": "code",
      "source": [
        "subgraph_T_T = spreading_activation_BFS(graph, G, filtered_entities, neighbor_counts, alpha=0.186,\n",
        "                                        beta=0.006, max_hops=3, extraction_threshold=0,\n",
        "                                        strict=False, fan_out=True, excl=True, pop=True)"
      ],
      "metadata": {
        "id": "16xI-bEoT9yy"
      },
      "execution_count": null,
      "outputs": []
    },
    {
      "cell_type": "code",
      "source": [
        "G_sub_tt = nx.DiGraph()  # Create a directed graph\n",
        "\n",
        "for s, p, o in subgraph_T_T:\n",
        "    G_sub_tt.add_edge(s, o, predicate=p)"
      ],
      "metadata": {
        "id": "cgc0k7GtT9wW"
      },
      "execution_count": null,
      "outputs": []
    },
    {
      "cell_type": "code",
      "source": [
        "#Exhibihate the size of subgraph：The number of nodes and edges in the subgraph.\n",
        "num_nodes = len(G_sub_tt.nodes())\n",
        "num_edges = len(G_sub_tt.edges())\n",
        "print(\"The subgraph of DBpedia based on SA has \" + str(num_nodes) + \" nodes and \" + str(num_edges) + \" edges.\")"
      ],
      "metadata": {
        "id": "Ub-Yor-JT9t2",
        "colab": {
          "base_uri": "https://localhost:8080/"
        },
        "outputId": "3c1e0345-a0b6-45f0-e6fd-2c43787d201f"
      },
      "execution_count": null,
      "outputs": [
        {
          "output_type": "stream",
          "name": "stdout",
          "text": [
            "The subgraph of DBpedia based on SA has 21028 nodes and 55246 edges.\n"
          ]
        }
      ]
    },
    {
      "cell_type": "code",
      "source": [
        "# Serialize the graph to TTL format\n",
        "nt_data = subgraph_T_T.serialize(format='nt')\n",
        "\n",
        "# Save to a TTL file\n",
        "with open('BFS_subgraph_tt.nt', 'w') as output_file:\n",
        "    output_file.write(nt_data)"
      ],
      "metadata": {
        "id": "AY5EhyZWT9ro"
      },
      "execution_count": null,
      "outputs": []
    },
    {
      "cell_type": "code",
      "source": [
        "from pandas.core.frame import fmt\n",
        "\n",
        "# Create a knowledge graph\n",
        "kg = KG(\"BFS_subgraph_tt.nt\", fmt='nt')\n",
        "\n",
        "kgentities = kg._entities"
      ],
      "metadata": {
        "id": "l48yfFdeT9pS"
      },
      "execution_count": null,
      "outputs": []
    },
    {
      "cell_type": "code",
      "source": [
        "for e in filtered_entities:\n",
        "    found = False\n",
        "    for ekg in kgentities:\n",
        "        s = ekg.name\n",
        "        if s==e:\n",
        "            found = True\n",
        "    if not found:\n",
        "        print(e)"
      ],
      "metadata": {
        "id": "BPZczxnFT9m5"
      },
      "execution_count": null,
      "outputs": []
    },
    {
      "cell_type": "code",
      "source": [
        "# Initialize the results dataframe\n",
        "results = pd.DataFrame(columns=['Embedding Mode', 'Dimensions', 'Classifier/Regressor', 'Metric', 'Score'])\n",
        "\n",
        "# Define the walker with depth 4 and 500 walks per entity\n",
        "walker = RandomWalker(4, 500, with_reverse=False)\n",
        "\n",
        "# Train the embeddings for different configurations\n",
        "for mode in ['cbow', 'sg']:\n",
        "    for dim in [50, 100, 200]:\n",
        "        # 1. Generate embeddings\n",
        "        sg = 1 if mode == 'sg' else 0\n",
        "        embedder = Word2Vec(sg=sg, window=5, negative=25, vector_size=dim, sample=0, ns_exponent=0.75, epochs=5)\n",
        "        transformer = RDF2VecTransformer(embedder=embedder, walkers=[walker])\n",
        "\n",
        "        embeddings,_ = transformer.fit_transform(kg, filtered_entities)\n",
        "\n",
        "        # 2. Perform classification and regression tasks\n",
        "        skf = StratifiedKFold(n_splits=10)\n",
        "        kf = KFold(n_splits=10)\n",
        "\n",
        "        # Classification\n",
        "        classifiers = {\n",
        "            'Naive Bayes': GaussianNB(),\n",
        "            'C4.5': DecisionTreeClassifier(),\n",
        "            'KNN (k=3)': KNeighborsClassifier(n_neighbors=3),\n",
        "            'SVM': GridSearchCV(SVC(), param_grid={'C': [10**-3, 10**-2, 0.1, 1, 10, 10**2, 10**3]})\n",
        "        }\n",
        "\n",
        "        for name, clf in classifiers.items():\n",
        "            scores = cross_val_score(clf, embeddings, filtered_labels, cv=skf, scoring='accuracy')\n",
        "            results = results.append({'Embedding Mode': mode, 'Dimensions': dim, 'Classifier/Regressor': name, 'Metric': 'Accuracy', 'Score': scores.mean()}, ignore_index=True)\n",
        "\n",
        "        # Regression\n",
        "        regressors = {\n",
        "            'Linear Regression': LinearRegression(),\n",
        "            'KNN (k=3) Regressor': KNeighborsRegressor(n_neighbors=3),\n",
        "            'M5Rules': DecisionTreeRegressor()\n",
        "        }\n",
        "\n",
        "        for name, reg in regressors.items():\n",
        "            rmse_scorer = make_scorer(mean_squared_error, squared=False)\n",
        "            scores = cross_val_score(reg, embeddings, filtered_reg_targets, cv=kf, scoring=rmse_scorer)\n",
        "            results = results.append({'Embedding Mode': mode, 'Dimensions': dim, 'Classifier/Regressor': name, 'Metric': 'RMSE', 'Score': scores.mean()}, ignore_index=True)\n",
        "\n",
        "# Save the results\n",
        "results.to_csv('BFS_ttl_class_reg_results_tt.csv')"
      ],
      "metadata": {
        "id": "gx63tZXqT9ka"
      },
      "execution_count": null,
      "outputs": []
    },
    {
      "cell_type": "code",
      "source": [
        "print(results.head())"
      ],
      "metadata": {
        "id": "ZdJsy1PtT9hh",
        "colab": {
          "base_uri": "https://localhost:8080/"
        },
        "outputId": "ecefbfee-77cf-4810-e71f-4a0fcb99324a"
      },
      "execution_count": null,
      "outputs": [
        {
          "output_type": "stream",
          "name": "stdout",
          "text": [
            "  Embedding Mode Dimensions Classifier/Regressor    Metric      Score\n",
            "0           cbow         50          Naive Bayes  Accuracy   0.631463\n",
            "1           cbow         50                 C4.5  Accuracy   0.678925\n",
            "2           cbow         50            KNN (k=3)  Accuracy   0.739139\n",
            "3           cbow         50                  SVM  Accuracy   0.754456\n",
            "4           cbow         50    Linear Regression      RMSE  22.826206\n"
          ]
        }
      ]
    },
    {
      "cell_type": "markdown",
      "source": [
        "Classification & Regression tasks based graph embeddings extracted on subgraph base on SA with DFS"
      ],
      "metadata": {
        "id": "fmuuPR9PvOcc"
      }
    },
    {
      "cell_type": "markdown",
      "source": [
        "excl=False, pop=False"
      ],
      "metadata": {
        "id": "Ms9XeErj06As"
      }
    },
    {
      "cell_type": "code",
      "source": [
        "subgraph_F_F = spreading_activation_DFS(graph, G, filtered_entities, neighbor_counts, alpha=0.1,\n",
        "                                        beta=0.009, max_depth=2, extraction_threshold=0,\n",
        "                                        strict=False, fan_out=True, excl=False, pop=False)"
      ],
      "metadata": {
        "id": "t-YDqZe-tCeR"
      },
      "execution_count": null,
      "outputs": []
    },
    {
      "cell_type": "code",
      "source": [
        "G_sub_ff = nx.DiGraph()  # Create a directed graph\n",
        "\n",
        "for s, p, o in subgraph_F_F:\n",
        "    G_sub_ff.add_edge(s, o, predicate=p)"
      ],
      "metadata": {
        "id": "PIQ1XqXa0NN6"
      },
      "execution_count": null,
      "outputs": []
    },
    {
      "cell_type": "code",
      "source": [
        "#Exhibihate the size of subgraph：The number of nodes and edges in the subgraph.\n",
        "num_nodes = len(G_sub_ff.nodes())\n",
        "num_edges = len(G_sub_ff.edges())\n",
        "print(\"The subgraph of DBpedia based on SA has \" + str(num_nodes) + \" nodes and \" + str(num_edges) + \" edges.\")"
      ],
      "metadata": {
        "colab": {
          "base_uri": "https://localhost:8080/"
        },
        "id": "vRXdHGk70NL_",
        "outputId": "04f17423-6f79-46c9-fa9b-0cf8e9ce7e5f"
      },
      "execution_count": null,
      "outputs": [
        {
          "output_type": "stream",
          "name": "stdout",
          "text": [
            "The subgraph of DBpedia based on SA has 21027 nodes and 55246 edges.\n"
          ]
        }
      ]
    },
    {
      "cell_type": "code",
      "source": [
        "# Serialize the graph to TTL format\n",
        "nt_data = subgraph_F_F.serialize(format='nt')\n",
        "\n",
        "# Save to a TTL file\n",
        "with open('DFS_subgraph_ff.nt', 'w') as output_file:\n",
        "    output_file.write(nt_data)"
      ],
      "metadata": {
        "id": "OSGecco10NJJ"
      },
      "execution_count": null,
      "outputs": []
    },
    {
      "cell_type": "code",
      "source": [
        "from pandas.core.frame import fmt\n",
        "\n",
        "# Create a knowledge graph\n",
        "kg = KG(\"DFS_subgraph_ff.nt\", fmt='nt')\n",
        "\n",
        "kgentities = kg._entities"
      ],
      "metadata": {
        "id": "fheo8V5W0NGi"
      },
      "execution_count": null,
      "outputs": []
    },
    {
      "cell_type": "code",
      "source": [
        "for e in filtered_entities:\n",
        "    found = False\n",
        "    for ekg in kgentities:\n",
        "        s = ekg.name\n",
        "        if s==e:\n",
        "            found = True\n",
        "    if not found:\n",
        "        print(e)"
      ],
      "metadata": {
        "id": "_sHiWJ8u0NEF"
      },
      "execution_count": null,
      "outputs": []
    },
    {
      "cell_type": "code",
      "source": [
        "# Initialize the results dataframe\n",
        "results = pd.DataFrame(columns=['Embedding Mode', 'Dimensions', 'Classifier/Regressor', 'Metric', 'Score'])\n",
        "\n",
        "# Define the walker with depth 4 and 500 walks per entity\n",
        "walker = RandomWalker(4, 500, with_reverse=False)\n",
        "\n",
        "# Train the embeddings for different configurations\n",
        "for mode in ['cbow', 'sg']:\n",
        "    for dim in [50, 100, 200]:\n",
        "        # 1. Generate embeddings\n",
        "        sg = 1 if mode == 'sg' else 0\n",
        "        embedder = Word2Vec(sg=sg, window=5, negative=25, vector_size=dim, sample=0, ns_exponent=0.75, epochs=5)\n",
        "        transformer = RDF2VecTransformer(embedder=embedder, walkers=[walker])\n",
        "\n",
        "        embeddings,_ = transformer.fit_transform(kg, filtered_entities)\n",
        "\n",
        "        # 2. Perform classification and regression tasks\n",
        "        skf = StratifiedKFold(n_splits=10)\n",
        "        kf = KFold(n_splits=10)\n",
        "\n",
        "        # Classification\n",
        "        classifiers = {\n",
        "            'Naive Bayes': GaussianNB(),\n",
        "            'C4.5': DecisionTreeClassifier(),\n",
        "            'KNN (k=3)': KNeighborsClassifier(n_neighbors=3),\n",
        "            'SVM': GridSearchCV(SVC(), param_grid={'C': [10**-3, 10**-2, 0.1, 1, 10, 10**2, 10**3]})\n",
        "        }\n",
        "\n",
        "        for name, clf in classifiers.items():\n",
        "            scores = cross_val_score(clf, embeddings, filtered_labels, cv=skf, scoring='accuracy')\n",
        "            results = results.append({'Embedding Mode': mode, 'Dimensions': dim, 'Classifier/Regressor': name, 'Metric': 'Accuracy', 'Score': scores.mean()}, ignore_index=True)\n",
        "\n",
        "        # Regression\n",
        "        regressors = {\n",
        "            'Linear Regression': LinearRegression(),\n",
        "            'KNN (k=3) Regressor': KNeighborsRegressor(n_neighbors=3),\n",
        "            'M5Rules': DecisionTreeRegressor()\n",
        "        }\n",
        "\n",
        "        for name, reg in regressors.items():\n",
        "            rmse_scorer = make_scorer(mean_squared_error, squared=False)\n",
        "            scores = cross_val_score(reg, embeddings, filtered_reg_targets, cv=kf, scoring=rmse_scorer)\n",
        "            results = results.append({'Embedding Mode': mode, 'Dimensions': dim, 'Classifier/Regressor': name, 'Metric': 'RMSE', 'Score': scores.mean()}, ignore_index=True)\n",
        "\n",
        "# Save the results\n",
        "results.to_csv('DFS_class_reg_results_ff.csv')"
      ],
      "metadata": {
        "id": "6aXJcJEb0NBX"
      },
      "execution_count": null,
      "outputs": []
    },
    {
      "cell_type": "code",
      "source": [
        "print(results.head())"
      ],
      "metadata": {
        "colab": {
          "base_uri": "https://localhost:8080/"
        },
        "id": "Xt-iRmGN0M-t",
        "outputId": "c7aca622-bb65-41e7-c8b1-b2ae75fe45cb"
      },
      "execution_count": null,
      "outputs": [
        {
          "output_type": "stream",
          "name": "stdout",
          "text": [
            "  Embedding Mode Dimensions Classifier/Regressor    Metric      Score\n",
            "0           cbow         50          Naive Bayes  Accuracy   0.625311\n",
            "1           cbow         50                 C4.5  Accuracy   0.671769\n",
            "2           cbow         50            KNN (k=3)  Accuracy   0.747831\n",
            "3           cbow         50                  SVM  Accuracy   0.761609\n",
            "4           cbow         50    Linear Regression      RMSE  22.743039\n"
          ]
        }
      ]
    },
    {
      "cell_type": "markdown",
      "source": [
        "excl=True, pop=False"
      ],
      "metadata": {
        "id": "M574lCwU0-oM"
      }
    },
    {
      "cell_type": "code",
      "source": [
        "subgraph_T_F = spreading_activation_DFS(graph, G, filtered_entities, neighbor_counts,\n",
        "                                    alpha=0.1, beta=0.009, max_depth=2, extraction_threshold=0,\n",
        "                                    strict=False, fan_out=True, excl=True, pop=False)"
      ],
      "metadata": {
        "id": "rSxuFr9G0M76"
      },
      "execution_count": null,
      "outputs": []
    },
    {
      "cell_type": "code",
      "source": [
        "G_sub_tf = nx.DiGraph()  # Create a directed graph\n",
        "\n",
        "for s, p, o in subgraph_T_F:\n",
        "    G_sub_tf.add_edge(s, o, predicate=p)"
      ],
      "metadata": {
        "id": "jLP7DXtY0M5A"
      },
      "execution_count": null,
      "outputs": []
    },
    {
      "cell_type": "code",
      "source": [
        "#Exhibihate the size of subgraph：The number of nodes and edges in the subgraph.\n",
        "num_nodes = len(G_sub_tf.nodes())\n",
        "num_edges = len(G_sub_tf.edges())\n",
        "print(\"The subgraph of DBpedia based on SA has \" + str(num_nodes) + \" nodes and \" + str(num_edges) + \" edges.\")"
      ],
      "metadata": {
        "colab": {
          "base_uri": "https://localhost:8080/"
        },
        "id": "N0H4hOf10M2K",
        "outputId": "70bf11b8-0114-4fea-d8d0-5b08c3e8ebc6"
      },
      "execution_count": null,
      "outputs": [
        {
          "output_type": "stream",
          "name": "stdout",
          "text": [
            "The subgraph of DBpedia based on SA has 21027 nodes and 55246 edges.\n"
          ]
        }
      ]
    },
    {
      "cell_type": "code",
      "source": [
        "# Serialize the graph to TTL format\n",
        "nt_data = subgraph_T_F.serialize(format='nt')\n",
        "\n",
        "# Save to a TTL file\n",
        "with open('DFS_subgraph_tf.nt', 'w') as output_file:\n",
        "    output_file.write(nt_data)"
      ],
      "metadata": {
        "id": "ZqHKWAYl01fC"
      },
      "execution_count": null,
      "outputs": []
    },
    {
      "cell_type": "code",
      "source": [
        "from pandas.core.frame import fmt\n",
        "\n",
        "# Create a knowledge graph\n",
        "kg = KG(\"DFS_subgraph_tf.nt\", fmt='nt')\n",
        "\n",
        "kgentities = kg._entities"
      ],
      "metadata": {
        "id": "E2HdeijD01cX"
      },
      "execution_count": null,
      "outputs": []
    },
    {
      "cell_type": "code",
      "source": [
        "for e in filtered_entities:\n",
        "    found = False\n",
        "    for ekg in kgentities:\n",
        "        s = ekg.name\n",
        "        if s==e:\n",
        "            found = True\n",
        "    if not found:\n",
        "        print(e)"
      ],
      "metadata": {
        "id": "IF2U3e3U01Z7"
      },
      "execution_count": null,
      "outputs": []
    },
    {
      "cell_type": "code",
      "source": [
        "# Initialize the results dataframe\n",
        "results = pd.DataFrame(columns=['Embedding Mode', 'Dimensions', 'Classifier/Regressor', 'Metric', 'Score'])\n",
        "\n",
        "# Define the walker with depth 4 and 500 walks per entity\n",
        "walker = RandomWalker(4, 500, with_reverse=False)\n",
        "\n",
        "# Train the embeddings for different configurations\n",
        "for mode in ['cbow', 'sg']:\n",
        "    for dim in [50, 100, 200]:\n",
        "        # 1. Generate embeddings\n",
        "        sg = 1 if mode == 'sg' else 0\n",
        "        embedder = Word2Vec(sg=sg, window=5, negative=25, vector_size=dim, sample=0, ns_exponent=0.75, epochs=5)\n",
        "        transformer = RDF2VecTransformer(embedder=embedder, walkers=[walker])\n",
        "\n",
        "        embeddings,_ = transformer.fit_transform(kg, filtered_entities)\n",
        "\n",
        "        # 2. Perform classification and regression tasks\n",
        "        skf = StratifiedKFold(n_splits=10)\n",
        "        kf = KFold(n_splits=10)\n",
        "\n",
        "        # Classification\n",
        "        classifiers = {\n",
        "            'Naive Bayes': GaussianNB(),\n",
        "            'C4.5': DecisionTreeClassifier(),\n",
        "            'KNN (k=3)': KNeighborsClassifier(n_neighbors=3),\n",
        "            'SVM': GridSearchCV(SVC(), param_grid={'C': [10**-3, 10**-2, 0.1, 1, 10, 10**2, 10**3]})\n",
        "        }\n",
        "\n",
        "        for name, clf in classifiers.items():\n",
        "            scores = cross_val_score(clf, embeddings, filtered_labels, cv=skf, scoring='accuracy')\n",
        "            results = results.append({'Embedding Mode': mode, 'Dimensions': dim, 'Classifier/Regressor': name, 'Metric': 'Accuracy', 'Score': scores.mean()}, ignore_index=True)\n",
        "\n",
        "        # Regression\n",
        "        regressors = {\n",
        "            'Linear Regression': LinearRegression(),\n",
        "            'KNN (k=3) Regressor': KNeighborsRegressor(n_neighbors=3),\n",
        "            'M5Rules': DecisionTreeRegressor()\n",
        "        }\n",
        "\n",
        "        for name, reg in regressors.items():\n",
        "            rmse_scorer = make_scorer(mean_squared_error, squared=False)\n",
        "            scores = cross_val_score(reg, embeddings, filtered_reg_targets, cv=kf, scoring=rmse_scorer)\n",
        "            results = results.append({'Embedding Mode': mode, 'Dimensions': dim, 'Classifier/Regressor': name, 'Metric': 'RMSE', 'Score': scores.mean()}, ignore_index=True)\n",
        "\n",
        "# Save the results\n",
        "results.to_csv('DFS_class_reg_results_tf.csv')"
      ],
      "metadata": {
        "id": "EikO9ciO01XD"
      },
      "execution_count": null,
      "outputs": []
    },
    {
      "cell_type": "code",
      "source": [
        "print(results.head())"
      ],
      "metadata": {
        "colab": {
          "base_uri": "https://localhost:8080/"
        },
        "id": "zTj4Yhet01Py",
        "outputId": "04804b3a-5036-48e7-ef9b-be07538b773d"
      },
      "execution_count": null,
      "outputs": [
        {
          "output_type": "stream",
          "name": "stdout",
          "text": [
            "  Embedding Mode Dimensions Classifier/Regressor    Metric      Score\n",
            "0           cbow         50          Naive Bayes  Accuracy   0.637561\n",
            "1           cbow         50                 C4.5  Accuracy   0.688082\n",
            "2           cbow         50            KNN (k=3)  Accuracy   0.743203\n",
            "3           cbow         50                  SVM  Accuracy   0.766172\n",
            "4           cbow         50    Linear Regression      RMSE  23.174798\n"
          ]
        }
      ]
    },
    {
      "cell_type": "markdown",
      "source": [
        "excl=False, pop=True"
      ],
      "metadata": {
        "id": "Y80Qa3Jx1D1v"
      }
    },
    {
      "cell_type": "code",
      "source": [
        "subgraph_F_T = spreading_activation_DFS(graph, G, filtered_entities, neighbor_counts, alpha=0.1,\n",
        "                                        beta=0.009, max_depth=2, extraction_threshold=0,\n",
        "                                        strict=False, fan_out=True, excl=False, pop=True)"
      ],
      "metadata": {
        "id": "jVhYU37i01Ms"
      },
      "execution_count": null,
      "outputs": []
    },
    {
      "cell_type": "code",
      "source": [
        "G_sub_ft = nx.DiGraph()  # Create a directed graph\n",
        "\n",
        "for s, p, o in subgraph_F_T:\n",
        "    G_sub_ft.add_edge(s, o, predicate=p)"
      ],
      "metadata": {
        "id": "cwyb9_n201Jq"
      },
      "execution_count": null,
      "outputs": []
    },
    {
      "cell_type": "code",
      "source": [
        "#Exhibihate the size of subgraph：The number of nodes and edges in the subgraph.\n",
        "num_nodes = len(G_sub_ft.nodes())\n",
        "num_edges = len(G_sub_ft.edges())\n",
        "print(\"The subgraph of DBpedia based on SA has \" + str(num_nodes) + \" nodes and \" + str(num_edges) + \" edges.\")"
      ],
      "metadata": {
        "id": "n9Bhr9pr1CbR",
        "colab": {
          "base_uri": "https://localhost:8080/"
        },
        "outputId": "fb89dabf-9721-473c-c0f6-dd5326175790"
      },
      "execution_count": null,
      "outputs": [
        {
          "output_type": "stream",
          "name": "stdout",
          "text": [
            "The subgraph of DBpedia based on SA has 21027 nodes and 55246 edges.\n"
          ]
        }
      ]
    },
    {
      "cell_type": "code",
      "source": [
        "# Serialize the graph to TTL format\n",
        "nt_data = subgraph_F_T.serialize(format='nt')\n",
        "\n",
        "# Save to a TTL file\n",
        "with open('DFS_subgraph_ft.nt', 'w') as output_file:\n",
        "    output_file.write(nt_data)"
      ],
      "metadata": {
        "id": "ewqHw-J41CXl"
      },
      "execution_count": null,
      "outputs": []
    },
    {
      "cell_type": "code",
      "source": [
        "from pandas.core.frame import fmt\n",
        "\n",
        "# Create a knowledge graph\n",
        "kg = KG(\"DFS_subgraph_ft.nt\", fmt='nt')\n",
        "\n",
        "kgentities = kg._entities"
      ],
      "metadata": {
        "id": "vkrSVJKO1CUW"
      },
      "execution_count": null,
      "outputs": []
    },
    {
      "cell_type": "code",
      "source": [
        "for e in filtered_entities:\n",
        "    found = False\n",
        "    for ekg in kgentities:\n",
        "        s = ekg.name\n",
        "        if s==e:\n",
        "            found = True\n",
        "    if not found:\n",
        "        print(e)"
      ],
      "metadata": {
        "id": "kkzEmbEx1CQl"
      },
      "execution_count": null,
      "outputs": []
    },
    {
      "cell_type": "code",
      "source": [
        "# Initialize the results dataframe\n",
        "results = pd.DataFrame(columns=['Embedding Mode', 'Dimensions', 'Classifier/Regressor', 'Metric', 'Score'])\n",
        "\n",
        "# Define the walker with depth 4 and 500 walks per entity\n",
        "walker = RandomWalker(4, 500, with_reverse=False)\n",
        "\n",
        "# Train the embeddings for different configurations\n",
        "for mode in ['cbow', 'sg']:\n",
        "    for dim in [50, 100, 200]:\n",
        "        # 1. Generate embeddings\n",
        "        sg = 1 if mode == 'sg' else 0\n",
        "        embedder = Word2Vec(sg=sg, window=5, negative=25, vector_size=dim, sample=0, ns_exponent=0.75, epochs=5)\n",
        "        transformer = RDF2VecTransformer(embedder=embedder, walkers=[walker])\n",
        "\n",
        "        embeddings,_ = transformer.fit_transform(kg, filtered_entities)\n",
        "\n",
        "        # 2. Perform classification and regression tasks\n",
        "        skf = StratifiedKFold(n_splits=10)\n",
        "        kf = KFold(n_splits=10)\n",
        "\n",
        "        # Classification\n",
        "        classifiers = {\n",
        "            'Naive Bayes': GaussianNB(),\n",
        "            'C4.5': DecisionTreeClassifier(),\n",
        "            'KNN (k=3)': KNeighborsClassifier(n_neighbors=3),\n",
        "            'SVM': GridSearchCV(SVC(), param_grid={'C': [10**-3, 10**-2, 0.1, 1, 10, 10**2, 10**3]})\n",
        "        }\n",
        "\n",
        "        for name, clf in classifiers.items():\n",
        "            scores = cross_val_score(clf, embeddings, filtered_labels, cv=skf, scoring='accuracy')\n",
        "            results = results.append({'Embedding Mode': mode, 'Dimensions': dim, 'Classifier/Regressor': name, 'Metric': 'Accuracy', 'Score': scores.mean()}, ignore_index=True)\n",
        "\n",
        "        # Regression\n",
        "        regressors = {\n",
        "            'Linear Regression': LinearRegression(),\n",
        "            'KNN (k=3) Regressor': KNeighborsRegressor(n_neighbors=3),\n",
        "            'M5Rules': DecisionTreeRegressor()\n",
        "        }\n",
        "\n",
        "        for name, reg in regressors.items():\n",
        "            rmse_scorer = make_scorer(mean_squared_error, squared=False)\n",
        "            scores = cross_val_score(reg, embeddings, filtered_reg_targets, cv=kf, scoring=rmse_scorer)\n",
        "            results = results.append({'Embedding Mode': mode, 'Dimensions': dim, 'Classifier/Regressor': name, 'Metric': 'RMSE', 'Score': scores.mean()}, ignore_index=True)\n",
        "\n",
        "# Save the results\n",
        "results.to_csv('DFS_class_reg_results_ft.csv')"
      ],
      "metadata": {
        "id": "3utkALEV1CN2"
      },
      "execution_count": null,
      "outputs": []
    },
    {
      "cell_type": "code",
      "source": [
        "print(results.head())"
      ],
      "metadata": {
        "id": "qid4GuLm1CLF",
        "colab": {
          "base_uri": "https://localhost:8080/"
        },
        "outputId": "7701effe-ddb7-4379-8077-d49f106c2682"
      },
      "execution_count": null,
      "outputs": [
        {
          "output_type": "stream",
          "name": "stdout",
          "text": [
            "  Embedding Mode Dimensions Classifier/Regressor    Metric      Score\n",
            "0           cbow         50          Naive Bayes  Accuracy   0.653898\n",
            "1           cbow         50                 C4.5  Accuracy   0.699314\n",
            "2           cbow         50            KNN (k=3)  Accuracy   0.776913\n",
            "3           cbow         50                  SVM  Accuracy   0.756489\n",
            "4           cbow         50    Linear Regression      RMSE  22.402919\n"
          ]
        }
      ]
    },
    {
      "cell_type": "markdown",
      "source": [
        "excl=True, pop=True"
      ],
      "metadata": {
        "id": "WskVDkhr1O48"
      }
    },
    {
      "cell_type": "code",
      "source": [
        "subgraph_T_T = spreading_activation_DFS(graph, G, filtered_entities, neighbor_counts, alpha=0.1,\n",
        "                                        beta=0.009, max_depth=2, extraction_threshold=0,\n",
        "                                        strict=False, fan_out=True, excl=True, pop=True)"
      ],
      "metadata": {
        "id": "7EsSD1_b1CIN"
      },
      "execution_count": null,
      "outputs": []
    },
    {
      "cell_type": "code",
      "source": [
        "G_sub_tt = nx.DiGraph()  # Create a directed graph\n",
        "\n",
        "for s, p, o in subgraph_T_T:\n",
        "    G_sub_tt.add_edge(s, o, predicate=p)"
      ],
      "metadata": {
        "id": "EKvQDuXs1CFU"
      },
      "execution_count": null,
      "outputs": []
    },
    {
      "cell_type": "code",
      "source": [
        "#Exhibihate the size of subgraph：The number of nodes and edges in the subgraph.\n",
        "num_nodes = len(G_sub_tt.nodes())\n",
        "num_edges = len(G_sub_tt.edges())\n",
        "print(\"The subgraph of DBpedia based on SA has \" + str(num_nodes) + \" nodes and \" + str(num_edges) + \" edges.\")"
      ],
      "metadata": {
        "id": "dXZCpVsT1CCf",
        "colab": {
          "base_uri": "https://localhost:8080/"
        },
        "outputId": "a79ce57c-d4c8-44c5-b7fd-956304771c83"
      },
      "execution_count": null,
      "outputs": [
        {
          "output_type": "stream",
          "name": "stdout",
          "text": [
            "The subgraph of DBpedia based on SA has 21027 nodes and 55246 edges.\n"
          ]
        }
      ]
    },
    {
      "cell_type": "code",
      "source": [
        "# Serialize the graph to TTL format\n",
        "nt_data = subgraph_T_T.serialize(format='nt')\n",
        "\n",
        "# Save to a TTL file\n",
        "with open('DFS_subgraph_tt.nt', 'w') as output_file:\n",
        "    output_file.write(nt_data)"
      ],
      "metadata": {
        "id": "vtRn97j71RYb"
      },
      "execution_count": null,
      "outputs": []
    },
    {
      "cell_type": "code",
      "source": [
        "from pandas.core.frame import fmt\n",
        "\n",
        "# Create a knowledge graph\n",
        "kg = KG(\"DFS_subgraph_tt.nt\", fmt='nt')\n",
        "\n",
        "kgentities = kg._entities"
      ],
      "metadata": {
        "id": "6XZUbgor1RWw"
      },
      "execution_count": null,
      "outputs": []
    },
    {
      "cell_type": "code",
      "source": [
        "for e in filtered_entities:\n",
        "    found = False\n",
        "    for ekg in kgentities:\n",
        "        s = ekg.name\n",
        "        if s==e:\n",
        "            found = True\n",
        "    if not found:\n",
        "        print(e)"
      ],
      "metadata": {
        "id": "RusR9_4S1RTf"
      },
      "execution_count": null,
      "outputs": []
    },
    {
      "cell_type": "code",
      "source": [
        "# Initialize the results dataframe\n",
        "results = pd.DataFrame(columns=['Embedding Mode', 'Dimensions', 'Classifier/Regressor', 'Metric', 'Score'])\n",
        "\n",
        "# Define the walker with depth 4 and 500 walks per entity\n",
        "walker = RandomWalker(4, 500, with_reverse=False)\n",
        "\n",
        "# Train the embeddings for different configurations\n",
        "for mode in ['cbow', 'sg']:\n",
        "    for dim in [50, 100, 200]:\n",
        "        # 1. Generate embeddings\n",
        "        sg = 1 if mode == 'sg' else 0\n",
        "        embedder = Word2Vec(sg=sg, window=5, negative=25, vector_size=dim, sample=0, ns_exponent=0.75, epochs=5)\n",
        "        transformer = RDF2VecTransformer(embedder=embedder, walkers=[walker])\n",
        "\n",
        "        embeddings,_ = transformer.fit_transform(kg, filtered_entities)\n",
        "\n",
        "        # 2. Perform classification and regression tasks\n",
        "        skf = StratifiedKFold(n_splits=10)\n",
        "        kf = KFold(n_splits=10)\n",
        "\n",
        "        # Classification\n",
        "        classifiers = {\n",
        "            'Naive Bayes': GaussianNB(),\n",
        "            'C4.5': DecisionTreeClassifier(),\n",
        "            'KNN (k=3)': KNeighborsClassifier(n_neighbors=3),\n",
        "            'SVM': GridSearchCV(SVC(), param_grid={'C': [10**-3, 10**-2, 0.1, 1, 10, 10**2, 10**3]})\n",
        "        }\n",
        "\n",
        "        for name, clf in classifiers.items():\n",
        "            scores = cross_val_score(clf, embeddings, filtered_labels, cv=skf, scoring='accuracy')\n",
        "            results = results.append({'Embedding Mode': mode, 'Dimensions': dim, 'Classifier/Regressor': name, 'Metric': 'Accuracy', 'Score': scores.mean()}, ignore_index=True)\n",
        "\n",
        "        # Regression\n",
        "        regressors = {\n",
        "            'Linear Regression': LinearRegression(),\n",
        "            'KNN (k=3) Regressor': KNeighborsRegressor(n_neighbors=3),\n",
        "            'M5Rules': DecisionTreeRegressor()\n",
        "        }\n",
        "\n",
        "        for name, reg in regressors.items():\n",
        "            rmse_scorer = make_scorer(mean_squared_error, squared=False)\n",
        "            scores = cross_val_score(reg, embeddings, filtered_reg_targets, cv=kf, scoring=rmse_scorer)\n",
        "            results = results.append({'Embedding Mode': mode, 'Dimensions': dim, 'Classifier/Regressor': name, 'Metric': 'RMSE', 'Score': scores.mean()}, ignore_index=True)\n",
        "\n",
        "# Save the results\n",
        "results.to_csv('DFS_ttl_class_reg_results_tt.csv')"
      ],
      "metadata": {
        "id": "X9w-KNLp1RRH"
      },
      "execution_count": null,
      "outputs": []
    },
    {
      "cell_type": "code",
      "source": [
        "print(results.head())"
      ],
      "metadata": {
        "id": "MtLZiow31ROL",
        "colab": {
          "base_uri": "https://localhost:8080/"
        },
        "outputId": "8c729763-5e5f-4a64-8416-f32b852097e0"
      },
      "execution_count": null,
      "outputs": [
        {
          "output_type": "stream",
          "name": "stdout",
          "text": [
            "  Embedding Mode Dimensions Classifier/Regressor    Metric      Score\n",
            "0           cbow         50          Naive Bayes  Accuracy   0.646743\n",
            "1           cbow         50                 C4.5  Accuracy   0.709001\n",
            "2           cbow         50            KNN (k=3)  Accuracy   0.781507\n",
            "3           cbow         50                  SVM  Accuracy   0.757002\n",
            "4           cbow         50    Linear Regression      RMSE  21.809703\n"
          ]
        }
      ]
    }
  ]
}